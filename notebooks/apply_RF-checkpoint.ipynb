{
 "cells": [
  {
   "cell_type": "code",
   "execution_count": 1,
   "metadata": {},
   "outputs": [
    {
     "name": "stderr",
     "output_type": "stream",
     "text": [
      "pip-installed Hail requires additional configuration options in Spark referring\n",
      "  to the path to the Hail Python module directory HAIL_DIR,\n",
      "  e.g. /path/to/python/site-packages/hail:\n",
      "    spark.jars=HAIL_DIR/hail-all-spark.jar\n",
      "    spark.driver.extraClassPath=HAIL_DIR/hail-all-spark.jar\n",
      "    spark.executor.extraClassPath=./hail-all-spark.jarRunning on Apache Spark version 2.4.5\n",
      "SparkUI available at http://spark-master:4040\n",
      "Welcome to\n",
      "     __  __     <>__\n",
      "    / /_/ /__  __/ /\n",
      "   / __  / _ `/ / /\n",
      "  /_/ /_/\\_,_/_/_/   version 0.2.41-b8144dba46e6\n",
      "LOGGING: writing to /home/ubuntu/data/tmp/scripts/sanger_gnomad_hail_qc/notebooks/hail-20201029-1019-0.2.41-b8144dba46e6.log\n"
     ]
    },
    {
     "data": {
      "text/html": [
       "\n",
       "    <div class=\"bk-root\">\n",
       "        <a href=\"https://bokeh.pydata.org\" target=\"_blank\" class=\"bk-logo bk-logo-small bk-logo-notebook\"></a>\n",
       "        <span id=\"1001\">Loading BokehJS ...</span>\n",
       "    </div>"
      ]
     },
     "metadata": {},
     "output_type": "display_data"
    },
    {
     "data": {
      "application/javascript": [
       "\n",
       "(function(root) {\n",
       "  function now() {\n",
       "    return new Date();\n",
       "  }\n",
       "\n",
       "  var force = true;\n",
       "\n",
       "  if (typeof root._bokeh_onload_callbacks === \"undefined\" || force === true) {\n",
       "    root._bokeh_onload_callbacks = [];\n",
       "    root._bokeh_is_loading = undefined;\n",
       "  }\n",
       "\n",
       "  var JS_MIME_TYPE = 'application/javascript';\n",
       "  var HTML_MIME_TYPE = 'text/html';\n",
       "  var EXEC_MIME_TYPE = 'application/vnd.bokehjs_exec.v0+json';\n",
       "  var CLASS_NAME = 'output_bokeh rendered_html';\n",
       "\n",
       "  /**\n",
       "   * Render data to the DOM node\n",
       "   */\n",
       "  function render(props, node) {\n",
       "    var script = document.createElement(\"script\");\n",
       "    node.appendChild(script);\n",
       "  }\n",
       "\n",
       "  /**\n",
       "   * Handle when an output is cleared or removed\n",
       "   */\n",
       "  function handleClearOutput(event, handle) {\n",
       "    var cell = handle.cell;\n",
       "\n",
       "    var id = cell.output_area._bokeh_element_id;\n",
       "    var server_id = cell.output_area._bokeh_server_id;\n",
       "    // Clean up Bokeh references\n",
       "    if (id != null && id in Bokeh.index) {\n",
       "      Bokeh.index[id].model.document.clear();\n",
       "      delete Bokeh.index[id];\n",
       "    }\n",
       "\n",
       "    if (server_id !== undefined) {\n",
       "      // Clean up Bokeh references\n",
       "      var cmd = \"from bokeh.io.state import curstate; print(curstate().uuid_to_server['\" + server_id + \"'].get_sessions()[0].document.roots[0]._id)\";\n",
       "      cell.notebook.kernel.execute(cmd, {\n",
       "        iopub: {\n",
       "          output: function(msg) {\n",
       "            var id = msg.content.text.trim();\n",
       "            if (id in Bokeh.index) {\n",
       "              Bokeh.index[id].model.document.clear();\n",
       "              delete Bokeh.index[id];\n",
       "            }\n",
       "          }\n",
       "        }\n",
       "      });\n",
       "      // Destroy server and session\n",
       "      var cmd = \"import bokeh.io.notebook as ion; ion.destroy_server('\" + server_id + \"')\";\n",
       "      cell.notebook.kernel.execute(cmd);\n",
       "    }\n",
       "  }\n",
       "\n",
       "  /**\n",
       "   * Handle when a new output is added\n",
       "   */\n",
       "  function handleAddOutput(event, handle) {\n",
       "    var output_area = handle.output_area;\n",
       "    var output = handle.output;\n",
       "\n",
       "    // limit handleAddOutput to display_data with EXEC_MIME_TYPE content only\n",
       "    if ((output.output_type != \"display_data\") || (!output.data.hasOwnProperty(EXEC_MIME_TYPE))) {\n",
       "      return\n",
       "    }\n",
       "\n",
       "    var toinsert = output_area.element.find(\".\" + CLASS_NAME.split(' ')[0]);\n",
       "\n",
       "    if (output.metadata[EXEC_MIME_TYPE][\"id\"] !== undefined) {\n",
       "      toinsert[toinsert.length - 1].firstChild.textContent = output.data[JS_MIME_TYPE];\n",
       "      // store reference to embed id on output_area\n",
       "      output_area._bokeh_element_id = output.metadata[EXEC_MIME_TYPE][\"id\"];\n",
       "    }\n",
       "    if (output.metadata[EXEC_MIME_TYPE][\"server_id\"] !== undefined) {\n",
       "      var bk_div = document.createElement(\"div\");\n",
       "      bk_div.innerHTML = output.data[HTML_MIME_TYPE];\n",
       "      var script_attrs = bk_div.children[0].attributes;\n",
       "      for (var i = 0; i < script_attrs.length; i++) {\n",
       "        toinsert[toinsert.length - 1].firstChild.setAttribute(script_attrs[i].name, script_attrs[i].value);\n",
       "      }\n",
       "      // store reference to server id on output_area\n",
       "      output_area._bokeh_server_id = output.metadata[EXEC_MIME_TYPE][\"server_id\"];\n",
       "    }\n",
       "  }\n",
       "\n",
       "  function register_renderer(events, OutputArea) {\n",
       "\n",
       "    function append_mime(data, metadata, element) {\n",
       "      // create a DOM node to render to\n",
       "      var toinsert = this.create_output_subarea(\n",
       "        metadata,\n",
       "        CLASS_NAME,\n",
       "        EXEC_MIME_TYPE\n",
       "      );\n",
       "      this.keyboard_manager.register_events(toinsert);\n",
       "      // Render to node\n",
       "      var props = {data: data, metadata: metadata[EXEC_MIME_TYPE]};\n",
       "      render(props, toinsert[toinsert.length - 1]);\n",
       "      element.append(toinsert);\n",
       "      return toinsert\n",
       "    }\n",
       "\n",
       "    /* Handle when an output is cleared or removed */\n",
       "    events.on('clear_output.CodeCell', handleClearOutput);\n",
       "    events.on('delete.Cell', handleClearOutput);\n",
       "\n",
       "    /* Handle when a new output is added */\n",
       "    events.on('output_added.OutputArea', handleAddOutput);\n",
       "\n",
       "    /**\n",
       "     * Register the mime type and append_mime function with output_area\n",
       "     */\n",
       "    OutputArea.prototype.register_mime_type(EXEC_MIME_TYPE, append_mime, {\n",
       "      /* Is output safe? */\n",
       "      safe: true,\n",
       "      /* Index of renderer in `output_area.display_order` */\n",
       "      index: 0\n",
       "    });\n",
       "  }\n",
       "\n",
       "  // register the mime type if in Jupyter Notebook environment and previously unregistered\n",
       "  if (root.Jupyter !== undefined) {\n",
       "    var events = require('base/js/events');\n",
       "    var OutputArea = require('notebook/js/outputarea').OutputArea;\n",
       "\n",
       "    if (OutputArea.prototype.mime_types().indexOf(EXEC_MIME_TYPE) == -1) {\n",
       "      register_renderer(events, OutputArea);\n",
       "    }\n",
       "  }\n",
       "\n",
       "  \n",
       "  if (typeof (root._bokeh_timeout) === \"undefined\" || force === true) {\n",
       "    root._bokeh_timeout = Date.now() + 5000;\n",
       "    root._bokeh_failed_load = false;\n",
       "  }\n",
       "\n",
       "  var NB_LOAD_WARNING = {'data': {'text/html':\n",
       "     \"<div style='background-color: #fdd'>\\n\"+\n",
       "     \"<p>\\n\"+\n",
       "     \"BokehJS does not appear to have successfully loaded. If loading BokehJS from CDN, this \\n\"+\n",
       "     \"may be due to a slow or bad network connection. Possible fixes:\\n\"+\n",
       "     \"</p>\\n\"+\n",
       "     \"<ul>\\n\"+\n",
       "     \"<li>re-rerun `output_notebook()` to attempt to load from CDN again, or</li>\\n\"+\n",
       "     \"<li>use INLINE resources instead, as so:</li>\\n\"+\n",
       "     \"</ul>\\n\"+\n",
       "     \"<code>\\n\"+\n",
       "     \"from bokeh.resources import INLINE\\n\"+\n",
       "     \"output_notebook(resources=INLINE)\\n\"+\n",
       "     \"</code>\\n\"+\n",
       "     \"</div>\"}};\n",
       "\n",
       "  function display_loaded() {\n",
       "    var el = document.getElementById(\"1001\");\n",
       "    if (el != null) {\n",
       "      el.textContent = \"BokehJS is loading...\";\n",
       "    }\n",
       "    if (root.Bokeh !== undefined) {\n",
       "      if (el != null) {\n",
       "        el.textContent = \"BokehJS \" + root.Bokeh.version + \" successfully loaded.\";\n",
       "      }\n",
       "    } else if (Date.now() < root._bokeh_timeout) {\n",
       "      setTimeout(display_loaded, 100)\n",
       "    }\n",
       "  }\n",
       "\n",
       "\n",
       "  function run_callbacks() {\n",
       "    try {\n",
       "      root._bokeh_onload_callbacks.forEach(function(callback) {\n",
       "        if (callback != null)\n",
       "          callback();\n",
       "      });\n",
       "    } finally {\n",
       "      delete root._bokeh_onload_callbacks\n",
       "    }\n",
       "    console.debug(\"Bokeh: all callbacks have finished\");\n",
       "  }\n",
       "\n",
       "  function load_libs(css_urls, js_urls, callback) {\n",
       "    if (css_urls == null) css_urls = [];\n",
       "    if (js_urls == null) js_urls = [];\n",
       "\n",
       "    root._bokeh_onload_callbacks.push(callback);\n",
       "    if (root._bokeh_is_loading > 0) {\n",
       "      console.debug(\"Bokeh: BokehJS is being loaded, scheduling callback at\", now());\n",
       "      return null;\n",
       "    }\n",
       "    if (js_urls == null || js_urls.length === 0) {\n",
       "      run_callbacks();\n",
       "      return null;\n",
       "    }\n",
       "    console.debug(\"Bokeh: BokehJS not loaded, scheduling load and callback at\", now());\n",
       "    root._bokeh_is_loading = css_urls.length + js_urls.length;\n",
       "\n",
       "    function on_load() {\n",
       "      root._bokeh_is_loading--;\n",
       "      if (root._bokeh_is_loading === 0) {\n",
       "        console.debug(\"Bokeh: all BokehJS libraries/stylesheets loaded\");\n",
       "        run_callbacks()\n",
       "      }\n",
       "    }\n",
       "\n",
       "    function on_error() {\n",
       "      console.error(\"failed to load \" + url);\n",
       "    }\n",
       "\n",
       "    for (var i = 0; i < css_urls.length; i++) {\n",
       "      var url = css_urls[i];\n",
       "      const element = document.createElement(\"link\");\n",
       "      element.onload = on_load;\n",
       "      element.onerror = on_error;\n",
       "      element.rel = \"stylesheet\";\n",
       "      element.type = \"text/css\";\n",
       "      element.href = url;\n",
       "      console.debug(\"Bokeh: injecting link tag for BokehJS stylesheet: \", url);\n",
       "      document.body.appendChild(element);\n",
       "    }\n",
       "\n",
       "    for (var i = 0; i < js_urls.length; i++) {\n",
       "      var url = js_urls[i];\n",
       "      var element = document.createElement('script');\n",
       "      element.onload = on_load;\n",
       "      element.onerror = on_error;\n",
       "      element.async = false;\n",
       "      element.src = url;\n",
       "      console.debug(\"Bokeh: injecting script tag for BokehJS library: \", url);\n",
       "      document.head.appendChild(element);\n",
       "    }\n",
       "  };var element = document.getElementById(\"1001\");\n",
       "  if (element == null) {\n",
       "    console.error(\"Bokeh: ERROR: autoload.js configured with elementid '1001' but no matching script tag was found. \")\n",
       "    return false;\n",
       "  }\n",
       "\n",
       "  function inject_raw_css(css) {\n",
       "    const element = document.createElement(\"style\");\n",
       "    element.appendChild(document.createTextNode(css));\n",
       "    document.body.appendChild(element);\n",
       "  }\n",
       "\n",
       "  var js_urls = [\"https://cdn.pydata.org/bokeh/release/bokeh-1.2.0.min.js\", \"https://cdn.pydata.org/bokeh/release/bokeh-widgets-1.2.0.min.js\", \"https://cdn.pydata.org/bokeh/release/bokeh-tables-1.2.0.min.js\", \"https://cdn.pydata.org/bokeh/release/bokeh-gl-1.2.0.min.js\"];\n",
       "  var css_urls = [\"https://cdn.pydata.org/bokeh/release/bokeh-1.2.0.min.css\", \"https://cdn.pydata.org/bokeh/release/bokeh-widgets-1.2.0.min.css\", \"https://cdn.pydata.org/bokeh/release/bokeh-tables-1.2.0.min.css\"];\n",
       "\n",
       "  var inline_js = [\n",
       "    function(Bokeh) {\n",
       "      Bokeh.set_log_level(\"info\");\n",
       "    },\n",
       "    \n",
       "    function(Bokeh) {\n",
       "      \n",
       "    },\n",
       "    function(Bokeh) {} // ensure no trailing comma for IE\n",
       "  ];\n",
       "\n",
       "  function run_inline_js() {\n",
       "    \n",
       "    if ((root.Bokeh !== undefined) || (force === true)) {\n",
       "      for (var i = 0; i < inline_js.length; i++) {\n",
       "        inline_js[i].call(root, root.Bokeh);\n",
       "      }if (force === true) {\n",
       "        display_loaded();\n",
       "      }} else if (Date.now() < root._bokeh_timeout) {\n",
       "      setTimeout(run_inline_js, 100);\n",
       "    } else if (!root._bokeh_failed_load) {\n",
       "      console.log(\"Bokeh: BokehJS failed to load within specified timeout.\");\n",
       "      root._bokeh_failed_load = true;\n",
       "    } else if (force !== true) {\n",
       "      var cell = $(document.getElementById(\"1001\")).parents('.cell').data().cell;\n",
       "      cell.output_area.append_execute_result(NB_LOAD_WARNING)\n",
       "    }\n",
       "\n",
       "  }\n",
       "\n",
       "  if (root._bokeh_is_loading === 0) {\n",
       "    console.debug(\"Bokeh: BokehJS loaded, going straight to plotting\");\n",
       "    run_inline_js();\n",
       "  } else {\n",
       "    load_libs(css_urls, js_urls, function() {\n",
       "      console.debug(\"Bokeh: BokehJS plotting callback run at\", now());\n",
       "      run_inline_js();\n",
       "    });\n",
       "  }\n",
       "}(window));"
      ],
      "application/vnd.bokehjs_load.v0+json": "\n(function(root) {\n  function now() {\n    return new Date();\n  }\n\n  var force = true;\n\n  if (typeof root._bokeh_onload_callbacks === \"undefined\" || force === true) {\n    root._bokeh_onload_callbacks = [];\n    root._bokeh_is_loading = undefined;\n  }\n\n  \n\n  \n  if (typeof (root._bokeh_timeout) === \"undefined\" || force === true) {\n    root._bokeh_timeout = Date.now() + 5000;\n    root._bokeh_failed_load = false;\n  }\n\n  var NB_LOAD_WARNING = {'data': {'text/html':\n     \"<div style='background-color: #fdd'>\\n\"+\n     \"<p>\\n\"+\n     \"BokehJS does not appear to have successfully loaded. If loading BokehJS from CDN, this \\n\"+\n     \"may be due to a slow or bad network connection. Possible fixes:\\n\"+\n     \"</p>\\n\"+\n     \"<ul>\\n\"+\n     \"<li>re-rerun `output_notebook()` to attempt to load from CDN again, or</li>\\n\"+\n     \"<li>use INLINE resources instead, as so:</li>\\n\"+\n     \"</ul>\\n\"+\n     \"<code>\\n\"+\n     \"from bokeh.resources import INLINE\\n\"+\n     \"output_notebook(resources=INLINE)\\n\"+\n     \"</code>\\n\"+\n     \"</div>\"}};\n\n  function display_loaded() {\n    var el = document.getElementById(\"1001\");\n    if (el != null) {\n      el.textContent = \"BokehJS is loading...\";\n    }\n    if (root.Bokeh !== undefined) {\n      if (el != null) {\n        el.textContent = \"BokehJS \" + root.Bokeh.version + \" successfully loaded.\";\n      }\n    } else if (Date.now() < root._bokeh_timeout) {\n      setTimeout(display_loaded, 100)\n    }\n  }\n\n\n  function run_callbacks() {\n    try {\n      root._bokeh_onload_callbacks.forEach(function(callback) {\n        if (callback != null)\n          callback();\n      });\n    } finally {\n      delete root._bokeh_onload_callbacks\n    }\n    console.debug(\"Bokeh: all callbacks have finished\");\n  }\n\n  function load_libs(css_urls, js_urls, callback) {\n    if (css_urls == null) css_urls = [];\n    if (js_urls == null) js_urls = [];\n\n    root._bokeh_onload_callbacks.push(callback);\n    if (root._bokeh_is_loading > 0) {\n      console.debug(\"Bokeh: BokehJS is being loaded, scheduling callback at\", now());\n      return null;\n    }\n    if (js_urls == null || js_urls.length === 0) {\n      run_callbacks();\n      return null;\n    }\n    console.debug(\"Bokeh: BokehJS not loaded, scheduling load and callback at\", now());\n    root._bokeh_is_loading = css_urls.length + js_urls.length;\n\n    function on_load() {\n      root._bokeh_is_loading--;\n      if (root._bokeh_is_loading === 0) {\n        console.debug(\"Bokeh: all BokehJS libraries/stylesheets loaded\");\n        run_callbacks()\n      }\n    }\n\n    function on_error() {\n      console.error(\"failed to load \" + url);\n    }\n\n    for (var i = 0; i < css_urls.length; i++) {\n      var url = css_urls[i];\n      const element = document.createElement(\"link\");\n      element.onload = on_load;\n      element.onerror = on_error;\n      element.rel = \"stylesheet\";\n      element.type = \"text/css\";\n      element.href = url;\n      console.debug(\"Bokeh: injecting link tag for BokehJS stylesheet: \", url);\n      document.body.appendChild(element);\n    }\n\n    for (var i = 0; i < js_urls.length; i++) {\n      var url = js_urls[i];\n      var element = document.createElement('script');\n      element.onload = on_load;\n      element.onerror = on_error;\n      element.async = false;\n      element.src = url;\n      console.debug(\"Bokeh: injecting script tag for BokehJS library: \", url);\n      document.head.appendChild(element);\n    }\n  };var element = document.getElementById(\"1001\");\n  if (element == null) {\n    console.error(\"Bokeh: ERROR: autoload.js configured with elementid '1001' but no matching script tag was found. \")\n    return false;\n  }\n\n  function inject_raw_css(css) {\n    const element = document.createElement(\"style\");\n    element.appendChild(document.createTextNode(css));\n    document.body.appendChild(element);\n  }\n\n  var js_urls = [\"https://cdn.pydata.org/bokeh/release/bokeh-1.2.0.min.js\", \"https://cdn.pydata.org/bokeh/release/bokeh-widgets-1.2.0.min.js\", \"https://cdn.pydata.org/bokeh/release/bokeh-tables-1.2.0.min.js\", \"https://cdn.pydata.org/bokeh/release/bokeh-gl-1.2.0.min.js\"];\n  var css_urls = [\"https://cdn.pydata.org/bokeh/release/bokeh-1.2.0.min.css\", \"https://cdn.pydata.org/bokeh/release/bokeh-widgets-1.2.0.min.css\", \"https://cdn.pydata.org/bokeh/release/bokeh-tables-1.2.0.min.css\"];\n\n  var inline_js = [\n    function(Bokeh) {\n      Bokeh.set_log_level(\"info\");\n    },\n    \n    function(Bokeh) {\n      \n    },\n    function(Bokeh) {} // ensure no trailing comma for IE\n  ];\n\n  function run_inline_js() {\n    \n    if ((root.Bokeh !== undefined) || (force === true)) {\n      for (var i = 0; i < inline_js.length; i++) {\n        inline_js[i].call(root, root.Bokeh);\n      }if (force === true) {\n        display_loaded();\n      }} else if (Date.now() < root._bokeh_timeout) {\n      setTimeout(run_inline_js, 100);\n    } else if (!root._bokeh_failed_load) {\n      console.log(\"Bokeh: BokehJS failed to load within specified timeout.\");\n      root._bokeh_failed_load = true;\n    } else if (force !== true) {\n      var cell = $(document.getElementById(\"1001\")).parents('.cell').data().cell;\n      cell.output_area.append_execute_result(NB_LOAD_WARNING)\n    }\n\n  }\n\n  if (root._bokeh_is_loading === 0) {\n    console.debug(\"Bokeh: BokehJS loaded, going straight to plotting\");\n    run_inline_js();\n  } else {\n    load_libs(css_urls, js_urls, function() {\n      console.debug(\"Bokeh: BokehJS plotting callback run at\", now());\n      run_inline_js();\n    });\n  }\n}(window));"
     },
     "metadata": {},
     "output_type": "display_data"
    }
   ],
   "source": [
    "import os\n",
    "import hail as hl\n",
    "import pyspark\n",
    "import bokeh\n",
    "import logging\n",
    "import random\n",
    "import pandas as pd\n",
    "import numpy as np\n",
    "from scipy import stats\n",
    "import pickle \n",
    "from matplotlib import pyplot as plt\n",
    "from typing import Any, Counter, List, Optional, Tuple, Union\n",
    "from hail.plot import show, output_notebook\n",
    "tmp_dir = \"hdfs://spark-master:9820/\"\n",
    "temp_dir = \"file:///home/ubuntu/data/tmp\"\n",
    "plot_dir = \"/home/ubuntu/data/tmp\"\n",
    "\n",
    "sc = pyspark.SparkContext()\n",
    "hadoop_config = sc._jsc.hadoopConfiguration()\n",
    "hadoop_config.set(\"fs.s3a.access.key\", \"8YY584J59H7Q6AVKHSU8\")\n",
    "hadoop_config.set(\"fs.s3a.secret.key\", \"P8vePa7JUvxKXX2me9ti1cGujgYWMoimAwx4mMlM\")\n",
    "hadoop_config.set(\"fs.gs.impl\", \"com.google.cloud.hadoop.fs.gcs.GoogleHadoopFileSystem\")\n",
    "hadoop_config.set(\"fs.AbstractFileSystem.gs.impl\", \"com.google.cloud.hadoop.fs.gcs.GoogleHadoopFS\")\n",
    "hl.init(sc=sc, tmp_dir=tmp_dir, default_reference='GRCh38')\n",
    "output_notebook()\n",
    "logging.basicConfig(format=\"%(levelname)s (%(name)s %(lineno)s): %(message)s\")\n",
    "logger = logging.getLogger(__name__)\n",
    "logger.setLevel(logging.INFO)"
   ]
  },
  {
   "cell_type": "code",
   "execution_count": 2,
   "metadata": {},
   "outputs": [],
   "source": [
    "ht =hl.read_table(f'{temp_dir}/ddd-elgh-ukbb/variant_qc/models/e8a43dd1/e8a43dd1_rf_result_ranked.ht')"
   ]
  },
  {
   "cell_type": "code",
   "execution_count": 3,
   "metadata": {},
   "outputs": [
    {
     "name": "stdout",
     "output_type": "stream",
     "text": [
      "----------------------------------------\n",
      "Global fields:\n",
      "    'feature_medians': dict<tuple (\n",
      "        str\n",
      "    ), struct {\n",
      "        a_index: int32, \n",
      "        n_alt_alleles: int32\n",
      "    }> \n",
      "    'variants_by_strata': dict<tuple (\n",
      "        str\n",
      "    ), int64> \n",
      "    'features_importance': dict<str, float64> \n",
      "    'features': array<str> \n",
      "    'test_results': array<struct {\n",
      "        rf_prediction: str, \n",
      "        rf_label: str, \n",
      "        n: int32\n",
      "    }> \n",
      "    'rf_hash': str \n",
      "----------------------------------------\n",
      "Row fields:\n",
      "    'locus': locus<GRCh38> \n",
      "    'alleles': array<str> \n",
      "    'a_index': int32 \n",
      "    'was_split': bool \n",
      "    'InbreedingCoeff': float32 \n",
      "    'variant_type': str \n",
      "    'allele_type': str \n",
      "    'n_alt_alleles': int32 \n",
      "    'was_mixed': bool \n",
      "    'has_star': bool \n",
      "    'AS_QD': array<float64> \n",
      "    'AS_MQRankSum': array<float64> \n",
      "    'AS_SOR': array<float64> \n",
      "    'AS_ReadPosRankSum': array<float64> \n",
      "    'hapmap': bool \n",
      "    'omni': bool \n",
      "    'mills': bool \n",
      "    'kgp_phase1_hc': bool \n",
      "    'transmitted_singleton': bool \n",
      "    'fail_hard_filters': bool \n",
      "    'feature_imputed': struct {\n",
      "        a_index: bool, \n",
      "        n_alt_alleles: bool\n",
      "    } \n",
      "    'tp': bool \n",
      "    'fp': bool \n",
      "    'rf_train': bool \n",
      "    'rf_label': str \n",
      "    'rf_test': bool \n",
      "    'rf_probability': dict<str, float64> \n",
      "    'rf_prediction': str \n",
      "    'rank': int64 \n",
      "    'singleton_rank': int64 \n",
      "    'biallelic_rank': int64 \n",
      "    'biallelic_singleton_rank': int64 \n",
      "----------------------------------------\n",
      "Key: ['locus', 'alleles']\n",
      "----------------------------------------\n"
     ]
    }
   ],
   "source": [
    "ht.describe()"
   ]
  },
  {
   "cell_type": "code",
   "execution_count": 4,
   "metadata": {},
   "outputs": [
    {
     "data": {
      "text/html": [
       "<p>7863547 records.</p><b>singleton_rank</b> (<i>int64</i>):<ul><table><tbody><tr><td>Non-missing</td><td>606969 (7.72%)</td></tr><tr><td>Missing</td><td>7256578 (92.28%)</td></tr><tr><td>Minimum</td><td>0</td></tr><tr><td>Maximum</td><td>573123</td></tr><tr><td>Mean</td><td>271526.22</td></tr><tr><td>Std Dev</td><td>172277.82</td></tr></tbody></table></ul>"
      ],
      "text/plain": [
       "\n",
       "7863547 records.\n",
       "\n",
       "- singleton_rank (int64):\n",
       "  Non-missing: 606969 (7.72%)\n",
       "      Missing: 7256578 (92.28%)\n",
       "      Minimum: 0\n",
       "      Maximum: 573123\n",
       "         Mean: 271526.22\n",
       "      Std Dev: 172277.82"
      ]
     },
     "metadata": {},
     "output_type": "display_data"
    }
   ],
   "source": [
    "ht.singleton_rank.summarize()"
   ]
  },
  {
   "cell_type": "code",
   "execution_count": null,
   "metadata": {},
   "outputs": [],
   "source": []
  },
  {
   "cell_type": "code",
   "execution_count": 3,
   "metadata": {},
   "outputs": [
    {
     "name": "stdout",
     "output_type": "stream",
     "text": [
      "----------------------------------------\n",
      "Global fields:\n",
      "    'feature_medians': dict<tuple (\n",
      "        str\n",
      "    ), struct {\n",
      "        a_index: int32, \n",
      "        n_alt_alleles: int32\n",
      "    }> \n",
      "    'variants_by_strata': dict<tuple (\n",
      "        str\n",
      "    ), int64> \n",
      "    'features_importance': dict<str, float64> \n",
      "    'features': array<str> \n",
      "    'test_results': array<struct {\n",
      "        rf_prediction: str, \n",
      "        rf_label: str, \n",
      "        n: int32\n",
      "    }> \n",
      "    'rf_hash': str \n",
      "    'bin_stats': struct {\n",
      "        biallelic_bin: struct {\n",
      "            snv: struct {\n",
      "                n: int64, \n",
      "                quantiles: array<float64>, \n",
      "                bin_boundaries: array<float64>, \n",
      "                global_bin_indices: array<int32>, \n",
      "                merged_bins: dict<int32, int32>\n",
      "            }, \n",
      "            indel: struct {\n",
      "                n: int64, \n",
      "                quantiles: array<float64>, \n",
      "                bin_boundaries: array<float64>, \n",
      "                global_bin_indices: array<int32>, \n",
      "                merged_bins: dict<int32, int32>\n",
      "            }\n",
      "        }, \n",
      "        singleton_bin: struct {\n",
      "            snv: struct {\n",
      "                n: int64, \n",
      "                quantiles: array<float64>, \n",
      "                bin_boundaries: array<float64>, \n",
      "                global_bin_indices: array<int32>, \n",
      "                merged_bins: dict<int32, int32>\n",
      "            }, \n",
      "            indel: struct {\n",
      "                n: int64, \n",
      "                quantiles: array<float64>, \n",
      "                bin_boundaries: array<float64>, \n",
      "                global_bin_indices: array<int32>, \n",
      "                merged_bins: dict<int32, int32>\n",
      "            }\n",
      "        }\n",
      "    } \n",
      "----------------------------------------\n",
      "Row fields:\n",
      "    'locus': locus<GRCh38> \n",
      "    'alleles': array<str> \n",
      "    'biallelic_bin': int32 \n",
      "    'singleton_bin': int32 \n",
      "----------------------------------------\n",
      "Key: ['locus', 'alleles']\n",
      "----------------------------------------\n"
     ]
    }
   ],
   "source": [
    "ht.describe()"
   ]
  },
  {
   "cell_type": "code",
   "execution_count": 4,
   "metadata": {},
   "outputs": [
    {
     "data": {
      "text/html": [
       "<table><thead style=\"font-weight: bold;\"><tr><td>locus</td><td>alleles</td><td>biallelic_bin</td><td>singleton_bin</td></tr>\n",
       "<tr><td>locus&lt;GRCh38&gt;</td><td>array&lt;str&gt;</td><td>int32</td><td>int32</td></tr>\n",
       "</thead><tbody><tr><td>chr1:12938</td><td>[&quot;GCAAA&quot;,&quot;G&quot;]</td><td>31</td><td>NA</td></tr>\n",
       "<tr><td>chr1:13024</td><td>[&quot;G&quot;,&quot;A&quot;]</td><td>41</td><td>NA</td></tr>\n",
       "<tr><td>chr1:13087</td><td>[&quot;A&quot;,&quot;G&quot;]</td><td>12</td><td>NA</td></tr>\n",
       "<tr><td>chr1:13116</td><td>[&quot;T&quot;,&quot;C&quot;]</td><td>31</td><td>NA</td></tr>\n",
       "<tr><td>chr1:13130</td><td>[&quot;C&quot;,&quot;T&quot;]</td><td>22</td><td>NA</td></tr>\n",
       "</tbody></table><p style=\"background: #fdd; padding: 0.4em;\">showing top 5 rows</p>\n"
      ],
      "text/plain": [
       "+---------------+---------------+---------------+---------------+\n",
       "| locus         | alleles       | biallelic_bin | singleton_bin |\n",
       "+---------------+---------------+---------------+---------------+\n",
       "| locus<GRCh38> | array<str>    |         int32 |         int32 |\n",
       "+---------------+---------------+---------------+---------------+\n",
       "| chr1:12938    | [\"GCAAA\",\"G\"] |            31 |            NA |\n",
       "| chr1:13024    | [\"G\",\"A\"]     |            41 |            NA |\n",
       "| chr1:13087    | [\"A\",\"G\"]     |            12 |            NA |\n",
       "| chr1:13116    | [\"T\",\"C\"]     |            31 |            NA |\n",
       "| chr1:13130    | [\"C\",\"T\"]     |            22 |            NA |\n",
       "+---------------+---------------+---------------+---------------+\n",
       "showing top 5 rows"
      ]
     },
     "metadata": {},
     "output_type": "display_data"
    }
   ],
   "source": [
    "ht.show(5)"
   ]
  },
  {
   "cell_type": "code",
   "execution_count": 12,
   "metadata": {},
   "outputs": [
    {
     "data": {
      "text/html": [
       "<p>7863547 records.</p><b>tp</b> (<i>bool</i>):<ul><table><tbody><tr><td>Non-missing</td><td>81822 (1.04%)</td></tr><tr><td>Missing</td><td>7781725 (98.96%)</td></tr><tr><td>Counts</td><td>{True: 81822}</td></tr></tbody></table></ul>"
      ],
      "text/plain": [
       "\n",
       "7863547 records.\n",
       "\n",
       "- tp (bool):\n",
       "  Non-missing: 81822 (1.04%)\n",
       "      Missing: 7781725 (98.96%)\n",
       "       Counts: {True: 81822}"
      ]
     },
     "metadata": {},
     "output_type": "display_data"
    }
   ],
   "source": [
    "ht.tp.summarize()"
   ]
  },
  {
   "cell_type": "code",
   "execution_count": 13,
   "metadata": {},
   "outputs": [
    {
     "data": {
      "text/html": [
       "<p>7863547 records.</p><b>fp</b> (<i>bool</i>):<ul><table><tbody><tr><td>Non-missing</td><td>7862337 (99.98%)</td></tr><tr><td>Missing</td><td>1210 (0.02%)</td></tr><tr><td>Counts</td><td>{False: 7503511, True: 358826}</td></tr></tbody></table></ul>"
      ],
      "text/plain": [
       "\n",
       "7863547 records.\n",
       "\n",
       "- fp (bool):\n",
       "  Non-missing: 7862337 (99.98%)\n",
       "      Missing: 1210 (0.02%)\n",
       "       Counts: {False: 7503511, True: 358826}"
      ]
     },
     "metadata": {},
     "output_type": "display_data"
    }
   ],
   "source": [
    "ht.fp.summarize()"
   ]
  },
  {
   "cell_type": "code",
   "execution_count": 14,
   "metadata": {},
   "outputs": [
    {
     "data": {
      "text/html": [
       "<p>7863547 records.</p><b>rf_train</b> (<i>bool</i>):<ul><table><tbody><tr><td>Non-missing</td><td>435515 (5.54%)</td></tr><tr><td>Missing</td><td>7428032 (94.46%)</td></tr><tr><td>Counts</td><td>{False: 298100, True: 137415}</td></tr></tbody></table></ul>"
      ],
      "text/plain": [
       "\n",
       "7863547 records.\n",
       "\n",
       "- rf_train (bool):\n",
       "  Non-missing: 435515 (5.54%)\n",
       "      Missing: 7428032 (94.46%)\n",
       "       Counts: {False: 298100, True: 137415}"
      ]
     },
     "metadata": {},
     "output_type": "display_data"
    }
   ],
   "source": [
    "ht.rf_train.summarize()"
   ]
  },
  {
   "cell_type": "code",
   "execution_count": 15,
   "metadata": {},
   "outputs": [
    {
     "data": {
      "text/html": [
       "<p>7863547 records.</p><b>rf_label</b> (<i>str</i>):<ul><table><tbody><tr><td>Non-missing</td><td>430382 (5.47%)</td></tr><tr><td>Missing</td><td>7433165 (94.53%)</td></tr><tr><td>Min Size</td><td>2</td></tr><tr><td>Max Size</td><td>2</td></tr><tr><td>Mean Size</td><td>2.00</td></tr><tr><td>Sample Values</td><td>[&#x27;FP&#x27;, &#x27;FP&#x27;, &#x27;FP&#x27;, &#x27;FP&#x27;, &#x27;FP&#x27;]</td></tr></tbody></table></ul>"
      ],
      "text/plain": [
       "\n",
       "7863547 records.\n",
       "\n",
       "- rf_label (str):\n",
       "    Non-missing: 430382 (5.47%)\n",
       "        Missing: 7433165 (94.53%)\n",
       "       Min Size: 2\n",
       "       Max Size: 2\n",
       "      Mean Size: 2.00\n",
       "  Sample Values: ['FP', 'FP', 'FP', 'FP', 'FP']"
      ]
     },
     "metadata": {},
     "output_type": "display_data"
    }
   ],
   "source": [
    "ht.rf_label.summarize()"
   ]
  },
  {
   "cell_type": "code",
   "execution_count": 16,
   "metadata": {},
   "outputs": [
    {
     "data": {
      "text/html": [
       "<p>7863547 records.</p><b>rf_test</b> (<i>bool</i>):<ul><table><tbody><tr><td>Non-missing</td><td>7863547 (100.00%)</td></tr><tr><td>Missing</td><td>0</td></tr><tr><td>Counts</td><td>{False: 7077605, True: 785942}</td></tr></tbody></table></ul>"
      ],
      "text/plain": [
       "\n",
       "7863547 records.\n",
       "\n",
       "- rf_test (bool):\n",
       "  Non-missing: 7863547 (100.00%)\n",
       "      Missing: 0\n",
       "       Counts: {False: 7077605, True: 785942}"
      ]
     },
     "metadata": {},
     "output_type": "display_data"
    }
   ],
   "source": [
    "ht.rf_test.summarize()"
   ]
  },
  {
   "cell_type": "code",
   "execution_count": 23,
   "metadata": {},
   "outputs": [],
   "source": [
    "ht = hl.read_table(\n",
    "        f'{temp_dir}/ddd-elgh-ukbb/variant_qc/Sanger_table_for_RF_by_variant_type.ht')\n"
   ]
  },
  {
   "cell_type": "code",
   "execution_count": 24,
   "metadata": {},
   "outputs": [
    {
     "name": "stdout",
     "output_type": "stream",
     "text": [
      "----------------------------------------\n",
      "Global fields:\n",
      "    'feature_medians': dict<tuple (\n",
      "        str\n",
      "    ), struct {\n",
      "        a_index: int32, \n",
      "        n_alt_alleles: int32\n",
      "    }> \n",
      "    'variants_by_strata': dict<tuple (\n",
      "        str\n",
      "    ), int64> \n",
      "----------------------------------------\n",
      "Row fields:\n",
      "    'locus': locus<GRCh38> \n",
      "    'alleles': array<str> \n",
      "    'a_index': int32 \n",
      "    'was_split': bool \n",
      "    'InbreedingCoeff': float32 \n",
      "    'variant_type': str \n",
      "    'allele_type': str \n",
      "    'n_alt_alleles': int32 \n",
      "    'was_mixed': bool \n",
      "    'has_star': bool \n",
      "    'AS_QD': array<float64> \n",
      "    'AS_MQRankSum': array<float64> \n",
      "    'AS_SOR': array<float64> \n",
      "    'AS_ReadPosRankSum': array<float64> \n",
      "    'hapmap': bool \n",
      "    'omni': bool \n",
      "    'mills': bool \n",
      "    'kgp_phase1_hc': bool \n",
      "    'transmitted_singleton': bool \n",
      "    'fail_hard_filters': bool \n",
      "    'feature_imputed': struct {\n",
      "        a_index: bool, \n",
      "        n_alt_alleles: bool\n",
      "    } \n",
      "----------------------------------------\n",
      "Key: ['locus', 'alleles']\n",
      "----------------------------------------\n"
     ]
    }
   ],
   "source": [
    "ht.describe()"
   ]
  },
  {
   "cell_type": "code",
   "execution_count": 40,
   "metadata": {},
   "outputs": [],
   "source": [
    "ht_training=hl.read_table('hdfs://spark-master:9820//models/6331642e/training.ht')"
   ]
  },
  {
   "cell_type": "code",
   "execution_count": 41,
   "metadata": {},
   "outputs": [
    {
     "data": {
      "text/html": [
       "<p>7854607 records.</p><b>omni</b> (<i>bool</i>):<ul><table><tbody><tr><td>Non-missing</td><td>64417 (0.82%)</td></tr><tr><td>Missing</td><td>7790190 (99.18%)</td></tr><tr><td>Counts</td><td>{True: 64417}</td></tr></tbody></table></ul>"
      ],
      "text/plain": [
       "\n",
       "7854607 records.\n",
       "\n",
       "- omni (bool):\n",
       "  Non-missing: 64417 (0.82%)\n",
       "      Missing: 7790190 (99.18%)\n",
       "       Counts: {True: 64417}"
      ]
     },
     "metadata": {},
     "output_type": "display_data"
    }
   ],
   "source": [
    "ht.omni.summarize()"
   ]
  },
  {
   "cell_type": "code",
   "execution_count": 26,
   "metadata": {},
   "outputs": [
    {
     "data": {
      "text/html": [
       "<p>7854607 records.</p><b>mills</b> (<i>bool</i>):<ul><table><tbody><tr><td>Non-missing</td><td>17319 (0.22%)</td></tr><tr><td>Missing</td><td>7837288 (99.78%)</td></tr><tr><td>Counts</td><td>{True: 17319}</td></tr></tbody></table></ul>"
      ],
      "text/plain": [
       "\n",
       "7854607 records.\n",
       "\n",
       "- mills (bool):\n",
       "  Non-missing: 17319 (0.22%)\n",
       "      Missing: 7837288 (99.78%)\n",
       "       Counts: {True: 17319}"
      ]
     },
     "metadata": {},
     "output_type": "display_data"
    }
   ],
   "source": [
    "ht.mills.summarize()"
   ]
  },
  {
   "cell_type": "code",
   "execution_count": 27,
   "metadata": {},
   "outputs": [
    {
     "data": {
      "text/html": [
       "<p>7854607 records.</p><b>fail_hard_filters</b> (<i>bool</i>):<ul><table><tbody><tr><td>Non-missing</td><td>7853399 (99.98%)</td></tr><tr><td>Missing</td><td>1208 (0.02%)</td></tr><tr><td>Counts</td><td>{False: 7495017, True: 358382}</td></tr></tbody></table></ul>"
      ],
      "text/plain": [
       "\n",
       "7854607 records.\n",
       "\n",
       "- fail_hard_filters (bool):\n",
       "  Non-missing: 7853399 (99.98%)\n",
       "      Missing: 1208 (0.02%)\n",
       "       Counts: {False: 7495017, True: 358382}"
      ]
     },
     "metadata": {},
     "output_type": "display_data"
    }
   ],
   "source": [
    "ht.fail_hard_filters.summarize()"
   ]
  },
  {
   "cell_type": "code",
   "execution_count": 28,
   "metadata": {},
   "outputs": [
    {
     "data": {
      "text/html": [
       "<p>7854607 records.</p><b>kgp_phase1_hc</b> (<i>bool</i>):<ul><table><tbody><tr><td>Non-missing</td><td>348055 (4.43%)</td></tr><tr><td>Missing</td><td>7506552 (95.57%)</td></tr><tr><td>Counts</td><td>{True: 348055}</td></tr></tbody></table></ul>"
      ],
      "text/plain": [
       "\n",
       "7854607 records.\n",
       "\n",
       "- kgp_phase1_hc (bool):\n",
       "  Non-missing: 348055 (4.43%)\n",
       "      Missing: 7506552 (95.57%)\n",
       "       Counts: {True: 348055}"
      ]
     },
     "metadata": {},
     "output_type": "display_data"
    }
   ],
   "source": [
    "ht.kgp_phase1_hc.summarize()"
   ]
  },
  {
   "cell_type": "code",
   "execution_count": 29,
   "metadata": {},
   "outputs": [
    {
     "data": {
      "text/html": [
       "<p>7854607 records.</p><b>hapmap</b> (<i>bool</i>):<ul><table><tbody><tr><td>Non-missing</td><td>70005 (0.89%)</td></tr><tr><td>Missing</td><td>7784602 (99.11%)</td></tr><tr><td>Counts</td><td>{True: 70005}</td></tr></tbody></table></ul>"
      ],
      "text/plain": [
       "\n",
       "7854607 records.\n",
       "\n",
       "- hapmap (bool):\n",
       "  Non-missing: 70005 (0.89%)\n",
       "      Missing: 7784602 (99.11%)\n",
       "       Counts: {True: 70005}"
      ]
     },
     "metadata": {},
     "output_type": "display_data"
    }
   ],
   "source": [
    "ht.hapmap.summarize()"
   ]
  },
  {
   "cell_type": "code",
   "execution_count": 34,
   "metadata": {},
   "outputs": [],
   "source": [
    "fp_expr = ht.fail_hard_filters\n",
    "tp_expr = ht.omni | ht.mills | ht.kgp_phase1_hc | ht.hapmap"
   ]
  },
  {
   "cell_type": "code",
   "execution_count": 35,
   "metadata": {},
   "outputs": [
    {
     "data": {
      "text/html": [
       "<p>7854607 records.</p><b>fail_hard_filters</b> (<i>bool</i>):<ul><table><tbody><tr><td>Non-missing</td><td>7853399 (99.98%)</td></tr><tr><td>Missing</td><td>1208 (0.02%)</td></tr><tr><td>Counts</td><td>{False: 7495017, True: 358382}</td></tr></tbody></table></ul>"
      ],
      "text/plain": [
       "\n",
       "7854607 records.\n",
       "\n",
       "- fail_hard_filters (bool):\n",
       "  Non-missing: 7853399 (99.98%)\n",
       "      Missing: 1208 (0.02%)\n",
       "       Counts: {False: 7495017, True: 358382}"
      ]
     },
     "metadata": {},
     "output_type": "display_data"
    }
   ],
   "source": [
    "fp_expr.summarize()"
   ]
  },
  {
   "cell_type": "code",
   "execution_count": 36,
   "metadata": {},
   "outputs": [
    {
     "data": {
      "text/html": [
       "<p>7854607 records.</p><b>&lt;expr&gt;</b> (<i>bool</i>):<ul><table><tbody><tr><td>Non-missing</td><td>371387 (4.73%)</td></tr><tr><td>Missing</td><td>7483220 (95.27%)</td></tr><tr><td>Counts</td><td>{True: 371387}</td></tr></tbody></table></ul>"
      ],
      "text/plain": [
       "\n",
       "7854607 records.\n",
       "\n",
       "- <expr> (bool):\n",
       "  Non-missing: 371387 (4.73%)\n",
       "      Missing: 7483220 (95.27%)\n",
       "       Counts: {True: 371387}"
      ]
     },
     "metadata": {},
     "output_type": "display_data"
    }
   ],
   "source": [
    "tp_expr.summarize()"
   ]
  },
  {
   "cell_type": "code",
   "execution_count": 37,
   "metadata": {},
   "outputs": [],
   "source": [
    "tp_expr = tp_expr | ht.transmitted_singleton"
   ]
  },
  {
   "cell_type": "code",
   "execution_count": 39,
   "metadata": {},
   "outputs": [
    {
     "data": {
      "text/html": [
       "<p>7854607 records.</p><b>&lt;expr&gt;</b> (<i>bool</i>):<ul><table><tbody><tr><td>Non-missing</td><td>956907 (12.18%)</td></tr><tr><td>Missing</td><td>6897700 (87.82%)</td></tr><tr><td>Counts</td><td>{True: 956907}</td></tr></tbody></table></ul>"
      ],
      "text/plain": [
       "\n",
       "7854607 records.\n",
       "\n",
       "- <expr> (bool):\n",
       "  Non-missing: 956907 (12.18%)\n",
       "      Missing: 6897700 (87.82%)\n",
       "       Counts: {True: 956907}"
      ]
     },
     "metadata": {},
     "output_type": "display_data"
    }
   ],
   "source": [
    "tp_expr.summarize()"
   ]
  },
  {
   "cell_type": "code",
   "execution_count": 42,
   "metadata": {},
   "outputs": [
    {
     "name": "stdout",
     "output_type": "stream",
     "text": [
      "----------------------------------------\n",
      "Global fields:\n",
      "    'feature_medians': dict<tuple (\n",
      "        str\n",
      "    ), struct {\n",
      "        a_index: int32, \n",
      "        n_alt_alleles: int32\n",
      "    }> \n",
      "    'variants_by_strata': dict<tuple (\n",
      "        str\n",
      "    ), int64> \n",
      "    'features_importance': dict<str, float64> \n",
      "    'features': array<str> \n",
      "    'test_results': array<struct {\n",
      "        rf_prediction: str, \n",
      "        rf_label: str, \n",
      "        n: int32\n",
      "    }> \n",
      "----------------------------------------\n",
      "Row fields:\n",
      "    'locus': locus<GRCh38> \n",
      "    'alleles': array<str> \n",
      "    'a_index': int32 \n",
      "    'was_split': bool \n",
      "    'InbreedingCoeff': float32 \n",
      "    'variant_type': str \n",
      "    'allele_type': str \n",
      "    'n_alt_alleles': int32 \n",
      "    'was_mixed': bool \n",
      "    'has_star': bool \n",
      "    'AS_QD': array<float64> \n",
      "    'AS_MQRankSum': array<float64> \n",
      "    'AS_SOR': array<float64> \n",
      "    'AS_ReadPosRankSum': array<float64> \n",
      "    'hapmap': bool \n",
      "    'omni': bool \n",
      "    'mills': bool \n",
      "    'kgp_phase1_hc': bool \n",
      "    'transmitted_singleton': bool \n",
      "    'fail_hard_filters': bool \n",
      "    'feature_imputed': struct {\n",
      "        a_index: bool, \n",
      "        n_alt_alleles: bool\n",
      "    } \n",
      "    'tp': bool \n",
      "    'fp': bool \n",
      "    'rf_train': bool \n",
      "    'rf_label': str \n",
      "    'rf_test': bool \n",
      "----------------------------------------\n",
      "Key: ['locus', 'alleles']\n",
      "----------------------------------------\n"
     ]
    }
   ],
   "source": [
    "ht_training.describe()"
   ]
  },
  {
   "cell_type": "code",
   "execution_count": 45,
   "metadata": {},
   "outputs": [
    {
     "data": {
      "text/html": [
       "<table><thead style=\"font-weight: bold;\"><tr><td><expr>.feature_medians</td><td><expr>.variants_by_strata</td><td><expr>.features_importance</td><td><expr>.features</td><td><expr>.test_results</td></tr>\n",
       "<tr><td>dict&lt;tuple(str), struct{a_index: int32, n_alt_alleles: int32}&gt;</td><td>dict&lt;tuple(str), int64&gt;</td><td>dict&lt;str, float64&gt;</td><td>array&lt;str&gt;</td><td>array&lt;struct{rf_prediction: str, rf_label: str, n: int32}&gt;</td></tr>\n",
       "</thead><tbody><tr><td>{(&quot;indel&quot;):(1,1)},(&quot;snv&quot;):(1,1)}}</td><td>{(&quot;indel&quot;):710415},(&quot;snv&quot;):7144192}}</td><td>{&quot;variant_type&quot;:2.97e-01},&quot;allele_type&quot;:1.72e-01},&quot;has_star&quot;:0.00e+00},&quot;I...</td><td>[&quot;InbreedingCoeff&quot;,&quot;variant_type&quot;,&quot;allele_type&quot;,&quot;n_alt_alleles&quot;,&quot;was_mixe...</td><td>[(&quot;FP&quot;,&quot;FP&quot;,14),(&quot;FP&quot;,&quot;TP&quot;,12),(&quot;TP&quot;,&quot;FP&quot;,69),(&quot;TP&quot;,&quot;TP&quot;,111)]</td></tr>\n",
       "</tbody></table>"
      ],
      "text/plain": [
       "+----------------------------------------------------------------+\n",
       "| <expr>.feature_medians                                         |\n",
       "+----------------------------------------------------------------+\n",
       "| dict<tuple(str), struct{a_index: int32, n_alt_alleles: int32}> |\n",
       "+----------------------------------------------------------------+\n",
       "| {(\"indel\"):(1,1)},(\"snv\"):(1,1)}}                              |\n",
       "+----------------------------------------------------------------+\n",
       "\n",
       "+--------------------------------------+\n",
       "| <expr>.variants_by_strata            |\n",
       "+--------------------------------------+\n",
       "| dict<tuple(str), int64>              |\n",
       "+--------------------------------------+\n",
       "| {(\"indel\"):710415},(\"snv\"):7144192}} |\n",
       "+--------------------------------------+\n",
       "\n",
       "+------------------------------------------------------------------------------+\n",
       "| <expr>.features_importance                                                   |\n",
       "+------------------------------------------------------------------------------+\n",
       "| dict<str, float64>                                                           |\n",
       "+------------------------------------------------------------------------------+\n",
       "| {\"variant_type\":2.97e-01},\"allele_type\":1.72e-01},\"has_star\":0.00e+00},\"I... |\n",
       "+------------------------------------------------------------------------------+\n",
       "\n",
       "+------------------------------------------------------------------------------+\n",
       "| <expr>.features                                                              |\n",
       "+------------------------------------------------------------------------------+\n",
       "| array<str>                                                                   |\n",
       "+------------------------------------------------------------------------------+\n",
       "| [\"InbreedingCoeff\",\"variant_type\",\"allele_type\",\"n_alt_alleles\",\"was_mixe... |\n",
       "+------------------------------------------------------------------------------+\n",
       "\n",
       "+----------------------------------------------------------------+\n",
       "| <expr>.test_results                                            |\n",
       "+----------------------------------------------------------------+\n",
       "| array<struct{rf_prediction: str, rf_label: str, n: int32}>     |\n",
       "+----------------------------------------------------------------+\n",
       "| [(\"FP\",\"FP\",14),(\"FP\",\"TP\",12),(\"TP\",\"FP\",69),(\"TP\",\"TP\",111)] |\n",
       "+----------------------------------------------------------------+"
      ]
     },
     "metadata": {},
     "output_type": "display_data"
    }
   ],
   "source": [
    "ht_training.globals.show()"
   ]
  },
  {
   "cell_type": "code",
   "execution_count": 43,
   "metadata": {},
   "outputs": [
    {
     "data": {
      "text/html": [
       "<p>7863547 records.</p><b>rf_train</b> (<i>bool</i>):<ul><table><tbody><tr><td>Non-missing</td><td>1297280 (16.50%)</td></tr><tr><td>Missing</td><td>6566267 (83.50%)</td></tr><tr><td>Counts</td><td>{False: 618138, True: 679142}</td></tr></tbody></table></ul>"
      ],
      "text/plain": [
       "\n",
       "7863547 records.\n",
       "\n",
       "- rf_train (bool):\n",
       "  Non-missing: 1297280 (16.50%)\n",
       "      Missing: 6566267 (83.50%)\n",
       "       Counts: {False: 618138, True: 679142}"
      ]
     },
     "metadata": {},
     "output_type": "display_data"
    }
   ],
   "source": [
    "ht_training.rf_train.summarize()"
   ]
  },
  {
   "cell_type": "code",
   "execution_count": 46,
   "metadata": {},
   "outputs": [
    {
     "data": {
      "text/html": [
       "<p>7863547 records.</p><b>rf_test</b> (<i>bool</i>):<ul><table><tbody><tr><td>Non-missing</td><td>7863547 (100.00%)</td></tr><tr><td>Missing</td><td>0</td></tr><tr><td>Counts</td><td>{False: 7862062, True: 1485}</td></tr></tbody></table></ul>"
      ],
      "text/plain": [
       "\n",
       "7863547 records.\n",
       "\n",
       "- rf_test (bool):\n",
       "  Non-missing: 7863547 (100.00%)\n",
       "      Missing: 0\n",
       "       Counts: {False: 7862062, True: 1485}"
      ]
     },
     "metadata": {},
     "output_type": "display_data"
    }
   ],
   "source": [
    "ht_training.rf_test.summarize()"
   ]
  },
  {
   "cell_type": "code",
   "execution_count": 47,
   "metadata": {},
   "outputs": [
    {
     "data": {
      "text/html": [
       "<p>7863547 records.</p><b>tp</b> (<i>bool</i>):<ul><table><tbody><tr><td>Non-missing</td><td>957941 (12.18%)</td></tr><tr><td>Missing</td><td>6905606 (87.82%)</td></tr><tr><td>Counts</td><td>{True: 957941}</td></tr></tbody></table></ul>"
      ],
      "text/plain": [
       "\n",
       "7863547 records.\n",
       "\n",
       "- tp (bool):\n",
       "  Non-missing: 957941 (12.18%)\n",
       "      Missing: 6905606 (87.82%)\n",
       "       Counts: {True: 957941}"
      ]
     },
     "metadata": {},
     "output_type": "display_data"
    }
   ],
   "source": [
    "ht_training.tp.summarize()"
   ]
  },
  {
   "cell_type": "code",
   "execution_count": 48,
   "metadata": {},
   "outputs": [
    {
     "data": {
      "text/html": [
       "<p>7863547 records.</p><b>fp</b> (<i>bool</i>):<ul><table><tbody><tr><td>Non-missing</td><td>7862337 (99.98%)</td></tr><tr><td>Missing</td><td>1210 (0.02%)</td></tr><tr><td>Counts</td><td>{False: 7503511, True: 358826}</td></tr></tbody></table></ul>"
      ],
      "text/plain": [
       "\n",
       "7863547 records.\n",
       "\n",
       "- fp (bool):\n",
       "  Non-missing: 7862337 (99.98%)\n",
       "      Missing: 1210 (0.02%)\n",
       "       Counts: {False: 7503511, True: 358826}"
      ]
     },
     "metadata": {},
     "output_type": "display_data"
    }
   ],
   "source": [
    "ht_training.fp.summarize()"
   ]
  },
  {
   "cell_type": "code",
   "execution_count": 49,
   "metadata": {},
   "outputs": [],
   "source": [
    "ht2=hl.read_table('hdfs://spark-master:9820//models/cfe6c371/training.ht')"
   ]
  },
  {
   "cell_type": "code",
   "execution_count": 50,
   "metadata": {},
   "outputs": [
    {
     "data": {
      "text/html": [
       "<p>7863547 records.</p><b>fp</b> (<i>bool</i>):<ul><table><tbody><tr><td>Non-missing</td><td>7862337 (99.98%)</td></tr><tr><td>Missing</td><td>1210 (0.02%)</td></tr><tr><td>Counts</td><td>{False: 7503511, True: 358826}</td></tr></tbody></table></ul>"
      ],
      "text/plain": [
       "\n",
       "7863547 records.\n",
       "\n",
       "- fp (bool):\n",
       "  Non-missing: 7862337 (99.98%)\n",
       "      Missing: 1210 (0.02%)\n",
       "       Counts: {False: 7503511, True: 358826}"
      ]
     },
     "metadata": {},
     "output_type": "display_data"
    }
   ],
   "source": [
    "ht2.fp.summarize()"
   ]
  },
  {
   "cell_type": "code",
   "execution_count": 51,
   "metadata": {},
   "outputs": [
    {
     "data": {
      "text/html": [
       "<p>7863547 records.</p><b>tp</b> (<i>bool</i>):<ul><table><tbody><tr><td>Non-missing</td><td>371843 (4.73%)</td></tr><tr><td>Missing</td><td>7491704 (95.27%)</td></tr><tr><td>Counts</td><td>{True: 371843}</td></tr></tbody></table></ul>"
      ],
      "text/plain": [
       "\n",
       "7863547 records.\n",
       "\n",
       "- tp (bool):\n",
       "  Non-missing: 371843 (4.73%)\n",
       "      Missing: 7491704 (95.27%)\n",
       "       Counts: {True: 371843}"
      ]
     },
     "metadata": {},
     "output_type": "display_data"
    }
   ],
   "source": [
    "ht2.tp.summarize()"
   ]
  },
  {
   "cell_type": "code",
   "execution_count": null,
   "metadata": {},
   "outputs": [],
   "source": []
  },
  {
   "cell_type": "code",
   "execution_count": 52,
   "metadata": {},
   "outputs": [
    {
     "data": {
      "text/html": [
       "<table><thead style=\"font-weight: bold;\"><tr><td><expr>.feature_medians</td><td><expr>.variants_by_strata</td><td><expr>.features_importance</td><td><expr>.features</td><td><expr>.test_results</td></tr>\n",
       "<tr><td>dict&lt;tuple(str), struct{a_index: int32, n_alt_alleles: int32}&gt;</td><td>dict&lt;tuple(str), int64&gt;</td><td>dict&lt;str, float64&gt;</td><td>array&lt;str&gt;</td><td>array&lt;struct{rf_prediction: str, rf_label: str, n: int32}&gt;</td></tr>\n",
       "</thead><tbody><tr><td>{(&quot;indel&quot;):(1,1)},(&quot;snv&quot;):(1,1)}}</td><td>{(&quot;indel&quot;):710415},(&quot;snv&quot;):7144192}}</td><td>{&quot;variant_type&quot;:1.38e-01},&quot;allele_type&quot;:7.98e-02},&quot;has_star&quot;:0.00e+00},&quot;I...</td><td>[&quot;InbreedingCoeff&quot;,&quot;variant_type&quot;,&quot;allele_type&quot;,&quot;n_alt_alleles&quot;,&quot;was_mixe...</td><td>[(&quot;FP&quot;,&quot;FP&quot;,24),(&quot;FP&quot;,&quot;TP&quot;,10),(&quot;TP&quot;,&quot;FP&quot;,64),(&quot;TP&quot;,&quot;TP&quot;,49)]</td></tr>\n",
       "</tbody></table>"
      ],
      "text/plain": [
       "+----------------------------------------------------------------+\n",
       "| <expr>.feature_medians                                         |\n",
       "+----------------------------------------------------------------+\n",
       "| dict<tuple(str), struct{a_index: int32, n_alt_alleles: int32}> |\n",
       "+----------------------------------------------------------------+\n",
       "| {(\"indel\"):(1,1)},(\"snv\"):(1,1)}}                              |\n",
       "+----------------------------------------------------------------+\n",
       "\n",
       "+--------------------------------------+\n",
       "| <expr>.variants_by_strata            |\n",
       "+--------------------------------------+\n",
       "| dict<tuple(str), int64>              |\n",
       "+--------------------------------------+\n",
       "| {(\"indel\"):710415},(\"snv\"):7144192}} |\n",
       "+--------------------------------------+\n",
       "\n",
       "+------------------------------------------------------------------------------+\n",
       "| <expr>.features_importance                                                   |\n",
       "+------------------------------------------------------------------------------+\n",
       "| dict<str, float64>                                                           |\n",
       "+------------------------------------------------------------------------------+\n",
       "| {\"variant_type\":1.38e-01},\"allele_type\":7.98e-02},\"has_star\":0.00e+00},\"I... |\n",
       "+------------------------------------------------------------------------------+\n",
       "\n",
       "+------------------------------------------------------------------------------+\n",
       "| <expr>.features                                                              |\n",
       "+------------------------------------------------------------------------------+\n",
       "| array<str>                                                                   |\n",
       "+------------------------------------------------------------------------------+\n",
       "| [\"InbreedingCoeff\",\"variant_type\",\"allele_type\",\"n_alt_alleles\",\"was_mixe... |\n",
       "+------------------------------------------------------------------------------+\n",
       "\n",
       "+---------------------------------------------------------------+\n",
       "| <expr>.test_results                                           |\n",
       "+---------------------------------------------------------------+\n",
       "| array<struct{rf_prediction: str, rf_label: str, n: int32}>    |\n",
       "+---------------------------------------------------------------+\n",
       "| [(\"FP\",\"FP\",24),(\"FP\",\"TP\",10),(\"TP\",\"FP\",64),(\"TP\",\"TP\",49)] |\n",
       "+---------------------------------------------------------------+"
      ]
     },
     "metadata": {},
     "output_type": "display_data"
    }
   ],
   "source": [
    "ht2.globals.show()"
   ]
  },
  {
   "cell_type": "code",
   "execution_count": 54,
   "metadata": {},
   "outputs": [],
   "source": [
    "ht3=hl.read_table(f'{temp_dir}/ddd-elgh-ukbb/variant_qc/models/cfe6c371/rf_result_sanger_cohorts_new.ht')"
   ]
  },
  {
   "cell_type": "code",
   "execution_count": 55,
   "metadata": {},
   "outputs": [
    {
     "name": "stdout",
     "output_type": "stream",
     "text": [
      "----------------------------------------\n",
      "Global fields:\n",
      "    'feature_medians': dict<tuple (\n",
      "        str\n",
      "    ), struct {\n",
      "        a_index: int32, \n",
      "        n_alt_alleles: int32\n",
      "    }> \n",
      "    'variants_by_strata': dict<tuple (\n",
      "        str\n",
      "    ), int64> \n",
      "    'features_importance': dict<str, float64> \n",
      "    'features': array<str> \n",
      "    'test_results': array<struct {\n",
      "        rf_prediction: str, \n",
      "        rf_label: str, \n",
      "        n: int32\n",
      "    }> \n",
      "    'rf_hash': str \n",
      "----------------------------------------\n",
      "Row fields:\n",
      "    'locus': locus<GRCh38> \n",
      "    'alleles': array<str> \n",
      "    'a_index': int32 \n",
      "    'was_split': bool \n",
      "    'InbreedingCoeff': float32 \n",
      "    'variant_type': str \n",
      "    'allele_type': str \n",
      "    'n_alt_alleles': int32 \n",
      "    'was_mixed': bool \n",
      "    'has_star': bool \n",
      "    'AS_QD': array<float64> \n",
      "    'AS_MQRankSum': array<float64> \n",
      "    'AS_SOR': array<float64> \n",
      "    'AS_ReadPosRankSum': array<float64> \n",
      "    'hapmap': bool \n",
      "    'omni': bool \n",
      "    'mills': bool \n",
      "    'kgp_phase1_hc': bool \n",
      "    'transmitted_singleton': bool \n",
      "    'fail_hard_filters': bool \n",
      "    'feature_imputed': struct {\n",
      "        a_index: bool, \n",
      "        n_alt_alleles: bool\n",
      "    } \n",
      "    'tp': bool \n",
      "    'fp': bool \n",
      "    'rf_train': bool \n",
      "    'rf_label': str \n",
      "    'rf_test': bool \n",
      "    'rf_probability': dict<str, float64> \n",
      "    'rf_prediction': str \n",
      "----------------------------------------\n",
      "Key: ['locus', 'alleles']\n",
      "----------------------------------------\n"
     ]
    }
   ],
   "source": [
    "ht3.describe()"
   ]
  },
  {
   "cell_type": "code",
   "execution_count": 56,
   "metadata": {},
   "outputs": [
    {
     "data": {
      "text/html": [
       "<p>7863547 records.</p><b>rf_probability</b> (<i>dict&lt;str, float64&gt;</i>):<ul><table><tbody><tr><td>Non-missing</td><td>7863547 (100.00%)</td></tr><tr><td>Missing</td><td>0</td></tr><tr><td>Min Size</td><td>2</td></tr><tr><td>Max Size</td><td>2</td></tr><tr><td>Mean Size</td><td>2.00</td></tr></tbody></table><li><b>rf_probability[&lt;keys&gt;]</b> (<i>str</i>):<ul><table><tbody><tr><td>Non-missing</td><td>15727094 (100.00%)</td></tr><tr><td>Missing</td><td>0</td></tr><tr><td>Min Size</td><td>2</td></tr><tr><td>Max Size</td><td>2</td></tr><tr><td>Mean Size</td><td>2.00</td></tr><tr><td>Sample Values</td><td>[&#x27;FP&#x27;, &#x27;TP&#x27;, &#x27;FP&#x27;, &#x27;TP&#x27;, &#x27;FP&#x27;]</td></tr></tbody></table></ul></li><li><b>rf_probability[&lt;values&gt;]</b> (<i>float64</i>):<ul><table><tbody><tr><td>Non-missing</td><td>15725012 (99.99%)</td></tr><tr><td>Missing</td><td>2082 (0.01%)</td></tr><tr><td>Minimum</td><td>0.17</td></tr><tr><td>Maximum</td><td>0.83</td></tr><tr><td>Mean</td><td>0.50</td></tr><tr><td>Std Dev</td><td>0.20</td></tr></tbody></table></ul></li></ul>"
      ],
      "text/plain": [
       "\n",
       "7863547 records.\n",
       "\n",
       "- rf_probability (dict<str, float64>):\n",
       "  Non-missing: 7863547 (100.00%)\n",
       "      Missing: 0\n",
       "     Min Size: 2\n",
       "     Max Size: 2\n",
       "    Mean Size: 2.00\n",
       "\n",
       "  - rf_probability[<keys>] (str):\n",
       "      Non-missing: 15727094 (100.00%)\n",
       "          Missing: 0\n",
       "         Min Size: 2\n",
       "         Max Size: 2\n",
       "        Mean Size: 2.00\n",
       "    Sample Values: ['FP', 'TP', 'FP', 'TP', 'FP']\n",
       "\n",
       "  - rf_probability[<values>] (float64):\n",
       "    Non-missing: 15725012 (99.99%)\n",
       "        Missing: 2082 (0.01%)\n",
       "        Minimum: 0.17\n",
       "        Maximum: 0.83\n",
       "           Mean: 0.50\n",
       "        Std Dev: 0.20"
      ]
     },
     "metadata": {},
     "output_type": "display_data"
    }
   ],
   "source": [
    "ht3.rf_probability.summarize()"
   ]
  },
  {
   "cell_type": "code",
   "execution_count": 67,
   "metadata": {},
   "outputs": [
    {
     "data": {
      "text/plain": [
       "{'FP': 4834670, 'TP': 3027836, None: 1041}"
      ]
     },
     "execution_count": 67,
     "metadata": {},
     "output_type": "execute_result"
    }
   ],
   "source": [
    "ht3.aggregate(hl.agg.counter(ht3.rf_prediction))\n"
   ]
  },
  {
   "cell_type": "code",
   "execution_count": null,
   "metadata": {},
   "outputs": [],
   "source": [
    "'tp': bool \n",
    "    'fp': bool \n",
    "    'rf_train': bool \n",
    "    'rf_label': str \n",
    "    'rf_test': bool \n",
    "    'rf_probability': dict<str, float64> \n",
    "    'rf_prediction': str "
   ]
  },
  {
   "cell_type": "code",
   "execution_count": 68,
   "metadata": {},
   "outputs": [
    {
     "data": {
      "text/plain": [
       "{False: 22190, True: 699524, None: 7141833}"
      ]
     },
     "execution_count": 68,
     "metadata": {},
     "output_type": "execute_result"
    }
   ],
   "source": [
    "ht3.aggregate(hl.agg.counter(ht3.rf_train))\n"
   ]
  },
  {
   "cell_type": "code",
   "execution_count": 69,
   "metadata": {},
   "outputs": [
    {
     "data": {
      "text/plain": [
       "{'FP': 349871, 'TP': 362888, None: 7150788}"
      ]
     },
     "execution_count": 69,
     "metadata": {},
     "output_type": "execute_result"
    }
   ],
   "source": [
    "ht3.aggregate(hl.agg.counter(ht3.rf_label))\n"
   ]
  },
  {
   "cell_type": "code",
   "execution_count": 2,
   "metadata": {},
   "outputs": [],
   "source": [
    "ht4=hl.read_table(f'{temp_dir}/ddd-elgh-ukbb/variant_qc/models/e8a43dd1/rf_result_sanger_cohorts_new.ht')"
   ]
  },
  {
   "cell_type": "code",
   "execution_count": 3,
   "metadata": {},
   "outputs": [
    {
     "data": {
      "text/html": [
       "<p>7863547 records.</p><b>rf_probability</b> (<i>dict&lt;str, float64&gt;</i>):<ul><table><tbody><tr><td>Non-missing</td><td>7863547 (100.00%)</td></tr><tr><td>Missing</td><td>0</td></tr><tr><td>Min Size</td><td>2</td></tr><tr><td>Max Size</td><td>2</td></tr><tr><td>Mean Size</td><td>2.00</td></tr></tbody></table><li><b>rf_probability[&lt;keys&gt;]</b> (<i>str</i>):<ul><table><tbody><tr><td>Non-missing</td><td>15727094 (100.00%)</td></tr><tr><td>Missing</td><td>0</td></tr><tr><td>Min Size</td><td>2</td></tr><tr><td>Max Size</td><td>2</td></tr><tr><td>Mean Size</td><td>2.00</td></tr><tr><td>Sample Values</td><td>[&#x27;FP&#x27;, &#x27;TP&#x27;, &#x27;FP&#x27;, &#x27;TP&#x27;, &#x27;FP&#x27;]</td></tr></tbody></table></ul></li><li><b>rf_probability[&lt;values&gt;]</b> (<i>float64</i>):<ul><table><tbody><tr><td>Non-missing</td><td>15725012 (99.99%)</td></tr><tr><td>Missing</td><td>2082 (0.01%)</td></tr><tr><td>Minimum</td><td>0.17</td></tr><tr><td>Maximum</td><td>0.83</td></tr><tr><td>Mean</td><td>0.50</td></tr><tr><td>Std Dev</td><td>0.20</td></tr></tbody></table></ul></li></ul>"
      ],
      "text/plain": [
       "\n",
       "7863547 records.\n",
       "\n",
       "- rf_probability (dict<str, float64>):\n",
       "  Non-missing: 7863547 (100.00%)\n",
       "      Missing: 0\n",
       "     Min Size: 2\n",
       "     Max Size: 2\n",
       "    Mean Size: 2.00\n",
       "\n",
       "  - rf_probability[<keys>] (str):\n",
       "      Non-missing: 15727094 (100.00%)\n",
       "          Missing: 0\n",
       "         Min Size: 2\n",
       "         Max Size: 2\n",
       "        Mean Size: 2.00\n",
       "    Sample Values: ['FP', 'TP', 'FP', 'TP', 'FP']\n",
       "\n",
       "  - rf_probability[<values>] (float64):\n",
       "    Non-missing: 15725012 (99.99%)\n",
       "        Missing: 2082 (0.01%)\n",
       "        Minimum: 0.17\n",
       "        Maximum: 0.83\n",
       "           Mean: 0.50\n",
       "        Std Dev: 0.20"
      ]
     },
     "metadata": {},
     "output_type": "display_data"
    }
   ],
   "source": [
    "ht4.rf_probability.summarize()"
   ]
  },
  {
   "cell_type": "code",
   "execution_count": 4,
   "metadata": {},
   "outputs": [
    {
     "data": {
      "text/plain": [
       "{False: 23107, True: 698607, None: 7141833}"
      ]
     },
     "execution_count": 4,
     "metadata": {},
     "output_type": "execute_result"
    }
   ],
   "source": [
    "ht4.aggregate(hl.agg.counter(ht4.rf_train))\n"
   ]
  },
  {
   "cell_type": "code",
   "execution_count": 5,
   "metadata": {},
   "outputs": [
    {
     "data": {
      "text/plain": [
       "{'FP': 349871, 'TP': 362888, None: 7150788}"
      ]
     },
     "execution_count": 5,
     "metadata": {},
     "output_type": "execute_result"
    }
   ],
   "source": [
    "ht4.aggregate(hl.agg.counter(ht4.rf_label))"
   ]
  },
  {
   "cell_type": "code",
   "execution_count": 6,
   "metadata": {},
   "outputs": [
    {
     "data": {
      "text/plain": [
       "{'FP': 4849919, 'TP': 3012587, None: 1041}"
      ]
     },
     "execution_count": 6,
     "metadata": {},
     "output_type": "execute_result"
    }
   ],
   "source": [
    "ht4.aggregate(hl.agg.counter(ht4.rf_prediction))"
   ]
  },
  {
   "cell_type": "code",
   "execution_count": null,
   "metadata": {},
   "outputs": [],
   "source": []
  },
  {
   "cell_type": "code",
   "execution_count": null,
   "metadata": {},
   "outputs": [],
   "source": []
  },
  {
   "cell_type": "code",
   "execution_count": null,
   "metadata": {},
   "outputs": [],
   "source": []
  }
 ],
 "metadata": {
  "kernelspec": {
   "display_name": "Python 3",
   "language": "python",
   "name": "python3"
  },
  "language_info": {
   "codemirror_mode": {
    "name": "ipython",
    "version": 3
   },
   "file_extension": ".py",
   "mimetype": "text/x-python",
   "name": "python",
   "nbconvert_exporter": "python",
   "pygments_lexer": "ipython3",
   "version": "3.6.9"
  }
 },
 "nbformat": 4,
 "nbformat_minor": 4
}
