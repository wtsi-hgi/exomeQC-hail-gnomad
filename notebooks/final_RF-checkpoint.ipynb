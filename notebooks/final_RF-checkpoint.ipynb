{
 "cells": [
  {
   "cell_type": "code",
   "execution_count": null,
   "metadata": {},
   "outputs": [],
   "source": [
    "import os\n",
    "import hail as hl\n",
    "import pyspark\n",
    "import bokeh\n",
    "import logging\n",
    "import random\n",
    "import pandas as pd\n",
    "import numpy as np\n",
    "from scipy import stats\n",
    "import pickle \n",
    "from matplotlib import pyplot as plt\n",
    "from typing import Any, Counter, List, Optional, Tuple, Union\n",
    "from hail.plot import show, output_notebook\n",
    "tmp_dir = \"hdfs://spark-master:9820/\"\n",
    "temp_dir = \"file:///home/ubuntu/data/tmp\"\n",
    "plot_dir = \"/home/ubuntu/data/tmp\"\n",
    "\n",
    "sc = pyspark.SparkContext()\n",
    "hadoop_config = sc._jsc.hadoopConfiguration()\n",
    "hadoop_config.set(\"fs.s3a.access.key\", \"8YY584J59H7Q6AVKHSU8\")\n",
    "hadoop_config.set(\"fs.s3a.secret.key\", \"P8vePa7JUvxKXX2me9ti1cGujgYWMoimAwx4mMlM\")\n",
    "hadoop_config.set(\"fs.gs.impl\", \"com.google.cloud.hadoop.fs.gcs.GoogleHadoopFileSystem\")\n",
    "hadoop_config.set(\"fs.AbstractFileSystem.gs.impl\", \"com.google.cloud.hadoop.fs.gcs.GoogleHadoopFS\")\n",
    "hl.init(sc=sc, tmp_dir=tmp_dir, default_reference='GRCh38')\n",
    "output_notebook()\n",
    "logging.basicConfig(format=\"%(levelname)s (%(name)s %(lineno)s): %(message)s\")\n",
    "logger = logging.getLogger(__name__)\n",
    "logger.setLevel(logging.INFO)"
   ]
  },
  {
   "cell_type": "code",
   "execution_count": 2,
   "metadata": {},
   "outputs": [],
   "source": [
    "ht= hl.read_table(f'{temp_dir}/ddd-elgh-ukbb/variant_qc/models/aa7a0685/rf_final.ht')"
   ]
  },
  {
   "cell_type": "code",
   "execution_count": 3,
   "metadata": {},
   "outputs": [
    {
     "name": "stdout",
     "output_type": "stream",
     "text": [
      "----------------------------------------\n",
      "Global fields:\n",
      "    'feature_medians': dict<tuple (\n",
      "        str\n",
      "    ), struct {\n",
      "        a_index: int32, \n",
      "        InbreedingCoeff: float64, \n",
      "        n_alt_alleles: int32\n",
      "    }> \n",
      "    'variants_by_strata': dict<tuple (\n",
      "        str\n",
      "    ), int64> \n",
      "    'features_importance': dict<str, float64> \n",
      "    'features': array<str> \n",
      "    'test_results': array<struct {\n",
      "        rf_prediction: str, \n",
      "        rf_label: str, \n",
      "        n: int32\n",
      "    }> \n",
      "    'rf_hash': str \n",
      "    'rf_snv_cutoff': struct {\n",
      "        min_score: float64\n",
      "    } \n",
      "    'rf_indel_cutoff': struct {\n",
      "        min_score: float64\n",
      "    } \n",
      "----------------------------------------\n",
      "Row fields:\n",
      "    'locus': locus<GRCh38> \n",
      "    'alleles': array<str> \n",
      "    'a_index': int32 \n",
      "    'was_split': bool \n",
      "    'InbreedingCoeff': float64 \n",
      "    'variant_type': str \n",
      "    'allele_type': str \n",
      "    'n_alt_alleles': int32 \n",
      "    'was_mixed': bool \n",
      "    'has_star': bool \n",
      "    'AS_QD': array<float64> \n",
      "    'AS_MQRankSum': array<float64> \n",
      "    'AS_SOR': array<float64> \n",
      "    'AS_ReadPosRankSum': array<float64> \n",
      "    'hapmap': bool \n",
      "    'omni': bool \n",
      "    'mills': bool \n",
      "    'kgp_phase1_hc': bool \n",
      "    'transmitted_singleton': bool \n",
      "    'fp': bool \n",
      "    'rf_train': bool \n",
      "    'rf_label': str \n",
      "    'rf_test': bool \n",
      "    'rf_probability': float64 \n",
      "    'rf_prediction': str \n",
      "    'ac_raw': int32 \n",
      "    'ac': int32 \n",
      "    'filters': set<str> \n",
      "    'rf_positive_label': bool \n",
      "    'rf_negative_label': bool \n",
      "----------------------------------------\n",
      "Key: ['locus', 'alleles']\n",
      "----------------------------------------\n"
     ]
    }
   ],
   "source": [
    "ht.describe()"
   ]
  },
  {
   "cell_type": "code",
   "execution_count": 6,
   "metadata": {},
   "outputs": [
    {
     "data": {
      "text/html": [
       "<table><thead style=\"font-weight: bold;\"><tr><td>locus</td><td>alleles</td><td>a_index</td><td>was_split</td><td>InbreedingCoeff</td><td>variant_type</td><td>allele_type</td><td>n_alt_alleles</td><td>was_mixed</td><td>has_star</td><td>AS_QD</td><td>AS_MQRankSum</td><td>AS_SOR</td><td>AS_ReadPosRankSum</td><td>hapmap</td><td>omni</td><td>mills</td><td>kgp_phase1_hc</td><td>transmitted_singleton</td><td>fp</td><td>rf_train</td><td>rf_label</td><td>rf_test</td><td>rf_probability</td><td>rf_prediction</td><td>ac_raw</td><td>ac</td><td>filters</td><td>rf_positive_label</td><td>rf_negative_label</td></tr>\n",
       "<tr><td>locus&lt;GRCh38&gt;</td><td>array&lt;str&gt;</td><td>int32</td><td>bool</td><td>float64</td><td>str</td><td>str</td><td>int32</td><td>bool</td><td>bool</td><td>array&lt;float64&gt;</td><td>array&lt;float64&gt;</td><td>array&lt;float64&gt;</td><td>array&lt;float64&gt;</td><td>bool</td><td>bool</td><td>bool</td><td>bool</td><td>bool</td><td>bool</td><td>bool</td><td>str</td><td>bool</td><td>float64</td><td>str</td><td>int32</td><td>int32</td><td>set&lt;str&gt;</td><td>bool</td><td>bool</td></tr>\n",
       "</thead><tbody><tr><td>chr1:13024</td><td>[&quot;G&quot;,&quot;A&quot;]</td><td>1</td><td>false</td><td>-1.47e-01</td><td>&quot;snv&quot;</td><td>&quot;snv&quot;</td><td>1</td><td>false</td><td>false</td><td>[3.10e+01]</td><td>NA</td><td>NA</td><td>NA</td><td>NA</td><td>NA</td><td>NA</td><td>NA</td><td>NA</td><td>true</td><td>true</td><td>&quot;FP&quot;</td><td>false</td><td>3.16e-01</td><td>&quot;FP&quot;</td><td>1</td><td>1</td><td>{&quot;AC0&quot;,&quot;RF&quot;}</td><td>false</td><td>true</td></tr>\n",
       "<tr><td>chr1:13087</td><td>[&quot;A&quot;,&quot;G&quot;]</td><td>1</td><td>false</td><td>-1.26e-01</td><td>&quot;snv&quot;</td><td>&quot;snv&quot;</td><td>1</td><td>false</td><td>false</td><td>[7.23e+00]</td><td>NA</td><td>NA</td><td>NA</td><td>NA</td><td>NA</td><td>NA</td><td>NA</td><td>NA</td><td>false</td><td>NA</td><td>NA</td><td>false</td><td>3.17e-01</td><td>&quot;FP&quot;</td><td>1</td><td>1</td><td>{&quot;RF&quot;}</td><td>false</td><td>false</td></tr>\n",
       "<tr><td>chr1:13176</td><td>[&quot;G&quot;,&quot;T&quot;]</td><td>1</td><td>false</td><td>-1.20e-01</td><td>&quot;snv&quot;</td><td>&quot;snv&quot;</td><td>1</td><td>false</td><td>false</td><td>[1.12e+01]</td><td>NA</td><td>NA</td><td>NA</td><td>NA</td><td>NA</td><td>NA</td><td>NA</td><td>NA</td><td>true</td><td>true</td><td>&quot;FP&quot;</td><td>false</td><td>3.17e-01</td><td>&quot;FP&quot;</td><td>1</td><td>1</td><td>{&quot;AC0&quot;,&quot;RF&quot;}</td><td>false</td><td>true</td></tr>\n",
       "<tr><td>chr1:13216</td><td>[&quot;C&quot;,&quot;G&quot;]</td><td>1</td><td>false</td><td>-8.65e-02</td><td>&quot;snv&quot;</td><td>&quot;snv&quot;</td><td>1</td><td>false</td><td>false</td><td>[1.07e+01]</td><td>NA</td><td>NA</td><td>NA</td><td>NA</td><td>NA</td><td>NA</td><td>NA</td><td>NA</td><td>true</td><td>true</td><td>&quot;FP&quot;</td><td>false</td><td>3.51e-01</td><td>&quot;FP&quot;</td><td>1</td><td>1</td><td>{&quot;AC0&quot;,&quot;RF&quot;}</td><td>false</td><td>true</td></tr>\n",
       "<tr><td>chr1:13248</td><td>[&quot;C&quot;,&quot;G&quot;]</td><td>1</td><td>false</td><td>-8.23e-02</td><td>&quot;snv&quot;</td><td>&quot;snv&quot;</td><td>1</td><td>false</td><td>false</td><td>[8.93e+00]</td><td>NA</td><td>NA</td><td>NA</td><td>NA</td><td>NA</td><td>NA</td><td>NA</td><td>NA</td><td>true</td><td>true</td><td>&quot;FP&quot;</td><td>false</td><td>3.70e-01</td><td>&quot;FP&quot;</td><td>1</td><td>1</td><td>{&quot;RF&quot;}</td><td>false</td><td>true</td></tr>\n",
       "<tr><td>chr1:13255</td><td>[&quot;C&quot;,&quot;T&quot;]</td><td>1</td><td>false</td><td>-8.85e-02</td><td>&quot;snv&quot;</td><td>&quot;snv&quot;</td><td>1</td><td>false</td><td>false</td><td>[1.65e+00]</td><td>NA</td><td>NA</td><td>NA</td><td>NA</td><td>NA</td><td>NA</td><td>NA</td><td>NA</td><td>true</td><td>true</td><td>&quot;FP&quot;</td><td>false</td><td>3.51e-01</td><td>&quot;FP&quot;</td><td>1</td><td>1</td><td>{&quot;RF&quot;}</td><td>false</td><td>true</td></tr>\n",
       "<tr><td>chr1:13273</td><td>[&quot;G&quot;,&quot;C&quot;]</td><td>1</td><td>false</td><td>2.23e-01</td><td>&quot;snv&quot;</td><td>&quot;snv&quot;</td><td>1</td><td>false</td><td>false</td><td>[1.60e+01]</td><td>NA</td><td>NA</td><td>NA</td><td>NA</td><td>NA</td><td>NA</td><td>NA</td><td>NA</td><td>true</td><td>true</td><td>&quot;FP&quot;</td><td>false</td><td>6.49e-01</td><td>&quot;TP&quot;</td><td>1</td><td>1</td><td>{&quot;RF&quot;}</td><td>false</td><td>true</td></tr>\n",
       "<tr><td>chr1:13279</td><td>[&quot;C&quot;,&quot;A&quot;]</td><td>1</td><td>false</td><td>-6.36e-02</td><td>&quot;snv&quot;</td><td>&quot;snv&quot;</td><td>1</td><td>false</td><td>false</td><td>[3.15e+00]</td><td>NA</td><td>NA</td><td>NA</td><td>NA</td><td>NA</td><td>NA</td><td>NA</td><td>NA</td><td>true</td><td>true</td><td>&quot;FP&quot;</td><td>false</td><td>3.76e-01</td><td>&quot;FP&quot;</td><td>1</td><td>1</td><td>{&quot;AC0&quot;,&quot;RF&quot;}</td><td>false</td><td>true</td></tr>\n",
       "<tr><td>chr1:13281</td><td>[&quot;C&quot;,&quot;G&quot;]</td><td>1</td><td>false</td><td>-5.97e-02</td><td>&quot;snv&quot;</td><td>&quot;snv&quot;</td><td>1</td><td>false</td><td>false</td><td>[4.50e+00]</td><td>NA</td><td>NA</td><td>NA</td><td>NA</td><td>NA</td><td>NA</td><td>NA</td><td>NA</td><td>true</td><td>true</td><td>&quot;FP&quot;</td><td>false</td><td>3.76e-01</td><td>&quot;FP&quot;</td><td>1</td><td>1</td><td>{&quot;AC0&quot;,&quot;RF&quot;}</td><td>false</td><td>true</td></tr>\n",
       "<tr><td>chr1:13284</td><td>[&quot;G&quot;,&quot;A&quot;]</td><td>1</td><td>false</td><td>-5.75e-02</td><td>&quot;snv&quot;</td><td>&quot;snv&quot;</td><td>1</td><td>false</td><td>false</td><td>[6.55e+00]</td><td>NA</td><td>NA</td><td>NA</td><td>NA</td><td>NA</td><td>NA</td><td>NA</td><td>NA</td><td>true</td><td>true</td><td>&quot;FP&quot;</td><td>false</td><td>3.76e-01</td><td>&quot;FP&quot;</td><td>1</td><td>1</td><td>{&quot;RF&quot;}</td><td>false</td><td>true</td></tr>\n",
       "</tbody></table><p style=\"background: #fdd; padding: 0.4em;\">showing top 10 rows</p>\n"
      ],
      "text/plain": [
       "+---------------+------------+---------+-----------+-----------------+\n",
       "| locus         | alleles    | a_index | was_split | InbreedingCoeff |\n",
       "+---------------+------------+---------+-----------+-----------------+\n",
       "| locus<GRCh38> | array<str> |   int32 |      bool |         float64 |\n",
       "+---------------+------------+---------+-----------+-----------------+\n",
       "| chr1:13024    | [\"G\",\"A\"]  |       1 |     false |       -1.47e-01 |\n",
       "| chr1:13087    | [\"A\",\"G\"]  |       1 |     false |       -1.26e-01 |\n",
       "| chr1:13176    | [\"G\",\"T\"]  |       1 |     false |       -1.20e-01 |\n",
       "| chr1:13216    | [\"C\",\"G\"]  |       1 |     false |       -8.65e-02 |\n",
       "| chr1:13248    | [\"C\",\"G\"]  |       1 |     false |       -8.23e-02 |\n",
       "| chr1:13255    | [\"C\",\"T\"]  |       1 |     false |       -8.85e-02 |\n",
       "| chr1:13273    | [\"G\",\"C\"]  |       1 |     false |        2.23e-01 |\n",
       "| chr1:13279    | [\"C\",\"A\"]  |       1 |     false |       -6.36e-02 |\n",
       "| chr1:13281    | [\"C\",\"G\"]  |       1 |     false |       -5.97e-02 |\n",
       "| chr1:13284    | [\"G\",\"A\"]  |       1 |     false |       -5.75e-02 |\n",
       "+---------------+------------+---------+-----------+-----------------+\n",
       "\n",
       "+--------------+-------------+---------------+-----------+----------+\n",
       "| variant_type | allele_type | n_alt_alleles | was_mixed | has_star |\n",
       "+--------------+-------------+---------------+-----------+----------+\n",
       "| str          | str         |         int32 |      bool |     bool |\n",
       "+--------------+-------------+---------------+-----------+----------+\n",
       "| \"snv\"        | \"snv\"       |             1 |     false |    false |\n",
       "| \"snv\"        | \"snv\"       |             1 |     false |    false |\n",
       "| \"snv\"        | \"snv\"       |             1 |     false |    false |\n",
       "| \"snv\"        | \"snv\"       |             1 |     false |    false |\n",
       "| \"snv\"        | \"snv\"       |             1 |     false |    false |\n",
       "| \"snv\"        | \"snv\"       |             1 |     false |    false |\n",
       "| \"snv\"        | \"snv\"       |             1 |     false |    false |\n",
       "| \"snv\"        | \"snv\"       |             1 |     false |    false |\n",
       "| \"snv\"        | \"snv\"       |             1 |     false |    false |\n",
       "| \"snv\"        | \"snv\"       |             1 |     false |    false |\n",
       "+--------------+-------------+---------------+-----------+----------+\n",
       "\n",
       "+----------------+----------------+----------------+-------------------+\n",
       "| AS_QD          | AS_MQRankSum   | AS_SOR         | AS_ReadPosRankSum |\n",
       "+----------------+----------------+----------------+-------------------+\n",
       "| array<float64> | array<float64> | array<float64> | array<float64>    |\n",
       "+----------------+----------------+----------------+-------------------+\n",
       "| [3.10e+01]     | NA             | NA             | NA                |\n",
       "| [7.23e+00]     | NA             | NA             | NA                |\n",
       "| [1.12e+01]     | NA             | NA             | NA                |\n",
       "| [1.07e+01]     | NA             | NA             | NA                |\n",
       "| [8.93e+00]     | NA             | NA             | NA                |\n",
       "| [1.65e+00]     | NA             | NA             | NA                |\n",
       "| [1.60e+01]     | NA             | NA             | NA                |\n",
       "| [3.15e+00]     | NA             | NA             | NA                |\n",
       "| [4.50e+00]     | NA             | NA             | NA                |\n",
       "| [6.55e+00]     | NA             | NA             | NA                |\n",
       "+----------------+----------------+----------------+-------------------+\n",
       "\n",
       "+--------+------+-------+---------------+-----------------------+-------+\n",
       "| hapmap | omni | mills | kgp_phase1_hc | transmitted_singleton |    fp |\n",
       "+--------+------+-------+---------------+-----------------------+-------+\n",
       "|   bool | bool |  bool |          bool |                  bool |  bool |\n",
       "+--------+------+-------+---------------+-----------------------+-------+\n",
       "|     NA |   NA |    NA |            NA |                    NA |  true |\n",
       "|     NA |   NA |    NA |            NA |                    NA | false |\n",
       "|     NA |   NA |    NA |            NA |                    NA |  true |\n",
       "|     NA |   NA |    NA |            NA |                    NA |  true |\n",
       "|     NA |   NA |    NA |            NA |                    NA |  true |\n",
       "|     NA |   NA |    NA |            NA |                    NA |  true |\n",
       "|     NA |   NA |    NA |            NA |                    NA |  true |\n",
       "|     NA |   NA |    NA |            NA |                    NA |  true |\n",
       "|     NA |   NA |    NA |            NA |                    NA |  true |\n",
       "|     NA |   NA |    NA |            NA |                    NA |  true |\n",
       "+--------+------+-------+---------------+-----------------------+-------+\n",
       "\n",
       "+----------+----------+---------+----------------+---------------+--------+\n",
       "| rf_train | rf_label | rf_test | rf_probability | rf_prediction | ac_raw |\n",
       "+----------+----------+---------+----------------+---------------+--------+\n",
       "|     bool | str      |    bool |        float64 | str           |  int32 |\n",
       "+----------+----------+---------+----------------+---------------+--------+\n",
       "|     true | \"FP\"     |   false |       3.16e-01 | \"FP\"          |      1 |\n",
       "|       NA | NA       |   false |       3.17e-01 | \"FP\"          |      1 |\n",
       "|     true | \"FP\"     |   false |       3.17e-01 | \"FP\"          |      1 |\n",
       "|     true | \"FP\"     |   false |       3.51e-01 | \"FP\"          |      1 |\n",
       "|     true | \"FP\"     |   false |       3.70e-01 | \"FP\"          |      1 |\n",
       "|     true | \"FP\"     |   false |       3.51e-01 | \"FP\"          |      1 |\n",
       "|     true | \"FP\"     |   false |       6.49e-01 | \"TP\"          |      1 |\n",
       "|     true | \"FP\"     |   false |       3.76e-01 | \"FP\"          |      1 |\n",
       "|     true | \"FP\"     |   false |       3.76e-01 | \"FP\"          |      1 |\n",
       "|     true | \"FP\"     |   false |       3.76e-01 | \"FP\"          |      1 |\n",
       "+----------+----------+---------+----------------+---------------+--------+\n",
       "\n",
       "+-------+--------------+-------------------+-------------------+\n",
       "|    ac | filters      | rf_positive_label | rf_negative_label |\n",
       "+-------+--------------+-------------------+-------------------+\n",
       "| int32 | set<str>     |              bool |              bool |\n",
       "+-------+--------------+-------------------+-------------------+\n",
       "|     1 | {\"AC0\",\"RF\"} |             false |              true |\n",
       "|     1 | {\"RF\"}       |             false |             false |\n",
       "|     1 | {\"AC0\",\"RF\"} |             false |              true |\n",
       "|     1 | {\"AC0\",\"RF\"} |             false |              true |\n",
       "|     1 | {\"RF\"}       |             false |              true |\n",
       "|     1 | {\"RF\"}       |             false |              true |\n",
       "|     1 | {\"RF\"}       |             false |              true |\n",
       "|     1 | {\"AC0\",\"RF\"} |             false |              true |\n",
       "|     1 | {\"AC0\",\"RF\"} |             false |              true |\n",
       "|     1 | {\"RF\"}       |             false |              true |\n",
       "+-------+--------------+-------------------+-------------------+\n",
       "showing top 10 rows"
      ]
     },
     "metadata": {},
     "output_type": "display_data"
    }
   ],
   "source": [
    "ht.row.show()"
   ]
  },
  {
   "cell_type": "code",
   "execution_count": 6,
   "metadata": {},
   "outputs": [
    {
     "data": {
      "text/plain": [
       "929613"
      ]
     },
     "execution_count": 6,
     "metadata": {},
     "output_type": "execute_result"
    }
   ],
   "source": [
    "ht.count()"
   ]
  },
  {
   "cell_type": "code",
   "execution_count": 8,
   "metadata": {},
   "outputs": [
    {
     "data": {
      "text/html": [
       "<table><thead style=\"font-weight: bold;\"><tr><td>test_results</td></tr>\n",
       "<tr><td>array&lt;struct{rf_prediction: str, rf_label: str, n: int32}&gt;</td></tr>\n",
       "</thead><tbody><tr><td>[(&quot;FP&quot;,&quot;FP&quot;,4501),(&quot;FP&quot;,&quot;TP&quot;,21389),(&quot;TP&quot;,&quot;FP&quot;,2264),(&quot;TP&quot;,&quot;TP&quot;,42193)]</td></tr>\n",
       "</tbody></table>"
      ],
      "text/plain": [
       "+-------------------------------------------------------------------------+\n",
       "| test_results                                                            |\n",
       "+-------------------------------------------------------------------------+\n",
       "| array<struct{rf_prediction: str, rf_label: str, n: int32}>              |\n",
       "+-------------------------------------------------------------------------+\n",
       "| [(\"FP\",\"FP\",4501),(\"FP\",\"TP\",21389),(\"TP\",\"FP\",2264),(\"TP\",\"TP\",42193)] |\n",
       "+-------------------------------------------------------------------------+"
      ]
     },
     "metadata": {},
     "output_type": "display_data"
    }
   ],
   "source": [
    "ht.globals.test_results.show()"
   ]
  },
  {
   "cell_type": "code",
   "execution_count": null,
   "metadata": {},
   "outputs": [],
   "source": [
    "ht = hl.read_table(\n",
    "            f'{temp_dir}/ddd-elgh-ukbb/variant_qc/Sanger_cohorts_chr1-20-XY_sampleQC_FILTERED_FREQ_adj.ht')"
   ]
  },
  {
   "cell_type": "code",
   "execution_count": null,
   "metadata": {},
   "outputs": [],
   "source": []
  }
 ],
 "metadata": {
  "kernelspec": {
   "display_name": "Python 3",
   "language": "python",
   "name": "python3"
  },
  "language_info": {
   "codemirror_mode": {
    "name": "ipython",
    "version": 3
   },
   "file_extension": ".py",
   "mimetype": "text/x-python",
   "name": "python",
   "nbconvert_exporter": "python",
   "pygments_lexer": "ipython3",
   "version": "3.6.9"
  }
 },
 "nbformat": 4,
 "nbformat_minor": 4
}
