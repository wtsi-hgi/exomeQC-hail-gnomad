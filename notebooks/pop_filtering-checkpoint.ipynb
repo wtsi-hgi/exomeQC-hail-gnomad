{
 "cells": [
  {
   "cell_type": "code",
   "execution_count": 1,
   "metadata": {
    "scrolled": true
   },
   "outputs": [
    {
     "name": "stderr",
     "output_type": "stream",
     "text": [
      "/opt/sanger.ac.uk/hgi/anaconda3/lib/python3.7/site-packages/hail/context.py:71: UserWarning: pip-installed Hail requires additional configuration options in Spark referring\n",
      "  to the path to the Hail Python module directory HAIL_DIR,\n",
      "  e.g. /path/to/python/site-packages/hail:\n",
      "    spark.jars=HAIL_DIR/hail-all-spark.jar\n",
      "    spark.driver.extraClassPath=HAIL_DIR/hail-all-spark.jar\n",
      "    spark.executor.extraClassPath=./hail-all-spark.jar\n",
      "  'pip-installed Hail requires additional configuration options in Spark referring\\n'\n",
      "Running on Apache Spark version 2.4.3\n",
      "SparkUI available at http://spark-master:4040\n",
      "Welcome to\n",
      "     __  __     <>__\n",
      "    / /_/ /__  __/ /\n",
      "   / __  / _ `/ / /\n",
      "  /_/ /_/\\_,_/_/_/   version 0.2.31-6060f9c971cc\n",
      "LOGGING: writing to /opt/sanger.ac.uk/hgi/hail/tmp/scripts/sanger_gnomad_hail_qc/notebooks/hail-20200813-1001-0.2.31-6060f9c971cc.log\n"
     ]
    },
    {
     "data": {
      "text/html": [
       "\n",
       "    <div class=\"bk-root\">\n",
       "        <a href=\"https://bokeh.pydata.org\" target=\"_blank\" class=\"bk-logo bk-logo-small bk-logo-notebook\"></a>\n",
       "        <span id=\"1001\">Loading BokehJS ...</span>\n",
       "    </div>"
      ]
     },
     "metadata": {},
     "output_type": "display_data"
    },
    {
     "data": {
      "application/javascript": [
       "\n",
       "(function(root) {\n",
       "  function now() {\n",
       "    return new Date();\n",
       "  }\n",
       "\n",
       "  var force = true;\n",
       "\n",
       "  if (typeof root._bokeh_onload_callbacks === \"undefined\" || force === true) {\n",
       "    root._bokeh_onload_callbacks = [];\n",
       "    root._bokeh_is_loading = undefined;\n",
       "  }\n",
       "\n",
       "  var JS_MIME_TYPE = 'application/javascript';\n",
       "  var HTML_MIME_TYPE = 'text/html';\n",
       "  var EXEC_MIME_TYPE = 'application/vnd.bokehjs_exec.v0+json';\n",
       "  var CLASS_NAME = 'output_bokeh rendered_html';\n",
       "\n",
       "  /**\n",
       "   * Render data to the DOM node\n",
       "   */\n",
       "  function render(props, node) {\n",
       "    var script = document.createElement(\"script\");\n",
       "    node.appendChild(script);\n",
       "  }\n",
       "\n",
       "  /**\n",
       "   * Handle when an output is cleared or removed\n",
       "   */\n",
       "  function handleClearOutput(event, handle) {\n",
       "    var cell = handle.cell;\n",
       "\n",
       "    var id = cell.output_area._bokeh_element_id;\n",
       "    var server_id = cell.output_area._bokeh_server_id;\n",
       "    // Clean up Bokeh references\n",
       "    if (id != null && id in Bokeh.index) {\n",
       "      Bokeh.index[id].model.document.clear();\n",
       "      delete Bokeh.index[id];\n",
       "    }\n",
       "\n",
       "    if (server_id !== undefined) {\n",
       "      // Clean up Bokeh references\n",
       "      var cmd = \"from bokeh.io.state import curstate; print(curstate().uuid_to_server['\" + server_id + \"'].get_sessions()[0].document.roots[0]._id)\";\n",
       "      cell.notebook.kernel.execute(cmd, {\n",
       "        iopub: {\n",
       "          output: function(msg) {\n",
       "            var id = msg.content.text.trim();\n",
       "            if (id in Bokeh.index) {\n",
       "              Bokeh.index[id].model.document.clear();\n",
       "              delete Bokeh.index[id];\n",
       "            }\n",
       "          }\n",
       "        }\n",
       "      });\n",
       "      // Destroy server and session\n",
       "      var cmd = \"import bokeh.io.notebook as ion; ion.destroy_server('\" + server_id + \"')\";\n",
       "      cell.notebook.kernel.execute(cmd);\n",
       "    }\n",
       "  }\n",
       "\n",
       "  /**\n",
       "   * Handle when a new output is added\n",
       "   */\n",
       "  function handleAddOutput(event, handle) {\n",
       "    var output_area = handle.output_area;\n",
       "    var output = handle.output;\n",
       "\n",
       "    // limit handleAddOutput to display_data with EXEC_MIME_TYPE content only\n",
       "    if ((output.output_type != \"display_data\") || (!output.data.hasOwnProperty(EXEC_MIME_TYPE))) {\n",
       "      return\n",
       "    }\n",
       "\n",
       "    var toinsert = output_area.element.find(\".\" + CLASS_NAME.split(' ')[0]);\n",
       "\n",
       "    if (output.metadata[EXEC_MIME_TYPE][\"id\"] !== undefined) {\n",
       "      toinsert[toinsert.length - 1].firstChild.textContent = output.data[JS_MIME_TYPE];\n",
       "      // store reference to embed id on output_area\n",
       "      output_area._bokeh_element_id = output.metadata[EXEC_MIME_TYPE][\"id\"];\n",
       "    }\n",
       "    if (output.metadata[EXEC_MIME_TYPE][\"server_id\"] !== undefined) {\n",
       "      var bk_div = document.createElement(\"div\");\n",
       "      bk_div.innerHTML = output.data[HTML_MIME_TYPE];\n",
       "      var script_attrs = bk_div.children[0].attributes;\n",
       "      for (var i = 0; i < script_attrs.length; i++) {\n",
       "        toinsert[toinsert.length - 1].firstChild.setAttribute(script_attrs[i].name, script_attrs[i].value);\n",
       "      }\n",
       "      // store reference to server id on output_area\n",
       "      output_area._bokeh_server_id = output.metadata[EXEC_MIME_TYPE][\"server_id\"];\n",
       "    }\n",
       "  }\n",
       "\n",
       "  function register_renderer(events, OutputArea) {\n",
       "\n",
       "    function append_mime(data, metadata, element) {\n",
       "      // create a DOM node to render to\n",
       "      var toinsert = this.create_output_subarea(\n",
       "        metadata,\n",
       "        CLASS_NAME,\n",
       "        EXEC_MIME_TYPE\n",
       "      );\n",
       "      this.keyboard_manager.register_events(toinsert);\n",
       "      // Render to node\n",
       "      var props = {data: data, metadata: metadata[EXEC_MIME_TYPE]};\n",
       "      render(props, toinsert[toinsert.length - 1]);\n",
       "      element.append(toinsert);\n",
       "      return toinsert\n",
       "    }\n",
       "\n",
       "    /* Handle when an output is cleared or removed */\n",
       "    events.on('clear_output.CodeCell', handleClearOutput);\n",
       "    events.on('delete.Cell', handleClearOutput);\n",
       "\n",
       "    /* Handle when a new output is added */\n",
       "    events.on('output_added.OutputArea', handleAddOutput);\n",
       "\n",
       "    /**\n",
       "     * Register the mime type and append_mime function with output_area\n",
       "     */\n",
       "    OutputArea.prototype.register_mime_type(EXEC_MIME_TYPE, append_mime, {\n",
       "      /* Is output safe? */\n",
       "      safe: true,\n",
       "      /* Index of renderer in `output_area.display_order` */\n",
       "      index: 0\n",
       "    });\n",
       "  }\n",
       "\n",
       "  // register the mime type if in Jupyter Notebook environment and previously unregistered\n",
       "  if (root.Jupyter !== undefined) {\n",
       "    var events = require('base/js/events');\n",
       "    var OutputArea = require('notebook/js/outputarea').OutputArea;\n",
       "\n",
       "    if (OutputArea.prototype.mime_types().indexOf(EXEC_MIME_TYPE) == -1) {\n",
       "      register_renderer(events, OutputArea);\n",
       "    }\n",
       "  }\n",
       "\n",
       "  \n",
       "  if (typeof (root._bokeh_timeout) === \"undefined\" || force === true) {\n",
       "    root._bokeh_timeout = Date.now() + 5000;\n",
       "    root._bokeh_failed_load = false;\n",
       "  }\n",
       "\n",
       "  var NB_LOAD_WARNING = {'data': {'text/html':\n",
       "     \"<div style='background-color: #fdd'>\\n\"+\n",
       "     \"<p>\\n\"+\n",
       "     \"BokehJS does not appear to have successfully loaded. If loading BokehJS from CDN, this \\n\"+\n",
       "     \"may be due to a slow or bad network connection. Possible fixes:\\n\"+\n",
       "     \"</p>\\n\"+\n",
       "     \"<ul>\\n\"+\n",
       "     \"<li>re-rerun `output_notebook()` to attempt to load from CDN again, or</li>\\n\"+\n",
       "     \"<li>use INLINE resources instead, as so:</li>\\n\"+\n",
       "     \"</ul>\\n\"+\n",
       "     \"<code>\\n\"+\n",
       "     \"from bokeh.resources import INLINE\\n\"+\n",
       "     \"output_notebook(resources=INLINE)\\n\"+\n",
       "     \"</code>\\n\"+\n",
       "     \"</div>\"}};\n",
       "\n",
       "  function display_loaded() {\n",
       "    var el = document.getElementById(\"1001\");\n",
       "    if (el != null) {\n",
       "      el.textContent = \"BokehJS is loading...\";\n",
       "    }\n",
       "    if (root.Bokeh !== undefined) {\n",
       "      if (el != null) {\n",
       "        el.textContent = \"BokehJS \" + root.Bokeh.version + \" successfully loaded.\";\n",
       "      }\n",
       "    } else if (Date.now() < root._bokeh_timeout) {\n",
       "      setTimeout(display_loaded, 100)\n",
       "    }\n",
       "  }\n",
       "\n",
       "\n",
       "  function run_callbacks() {\n",
       "    try {\n",
       "      root._bokeh_onload_callbacks.forEach(function(callback) {\n",
       "        if (callback != null)\n",
       "          callback();\n",
       "      });\n",
       "    } finally {\n",
       "      delete root._bokeh_onload_callbacks\n",
       "    }\n",
       "    console.debug(\"Bokeh: all callbacks have finished\");\n",
       "  }\n",
       "\n",
       "  function load_libs(css_urls, js_urls, callback) {\n",
       "    if (css_urls == null) css_urls = [];\n",
       "    if (js_urls == null) js_urls = [];\n",
       "\n",
       "    root._bokeh_onload_callbacks.push(callback);\n",
       "    if (root._bokeh_is_loading > 0) {\n",
       "      console.debug(\"Bokeh: BokehJS is being loaded, scheduling callback at\", now());\n",
       "      return null;\n",
       "    }\n",
       "    if (js_urls == null || js_urls.length === 0) {\n",
       "      run_callbacks();\n",
       "      return null;\n",
       "    }\n",
       "    console.debug(\"Bokeh: BokehJS not loaded, scheduling load and callback at\", now());\n",
       "    root._bokeh_is_loading = css_urls.length + js_urls.length;\n",
       "\n",
       "    function on_load() {\n",
       "      root._bokeh_is_loading--;\n",
       "      if (root._bokeh_is_loading === 0) {\n",
       "        console.debug(\"Bokeh: all BokehJS libraries/stylesheets loaded\");\n",
       "        run_callbacks()\n",
       "      }\n",
       "    }\n",
       "\n",
       "    function on_error() {\n",
       "      console.error(\"failed to load \" + url);\n",
       "    }\n",
       "\n",
       "    for (var i = 0; i < css_urls.length; i++) {\n",
       "      var url = css_urls[i];\n",
       "      const element = document.createElement(\"link\");\n",
       "      element.onload = on_load;\n",
       "      element.onerror = on_error;\n",
       "      element.rel = \"stylesheet\";\n",
       "      element.type = \"text/css\";\n",
       "      element.href = url;\n",
       "      console.debug(\"Bokeh: injecting link tag for BokehJS stylesheet: \", url);\n",
       "      document.body.appendChild(element);\n",
       "    }\n",
       "\n",
       "    for (var i = 0; i < js_urls.length; i++) {\n",
       "      var url = js_urls[i];\n",
       "      var element = document.createElement('script');\n",
       "      element.onload = on_load;\n",
       "      element.onerror = on_error;\n",
       "      element.async = false;\n",
       "      element.src = url;\n",
       "      console.debug(\"Bokeh: injecting script tag for BokehJS library: \", url);\n",
       "      document.head.appendChild(element);\n",
       "    }\n",
       "  };var element = document.getElementById(\"1001\");\n",
       "  if (element == null) {\n",
       "    console.error(\"Bokeh: ERROR: autoload.js configured with elementid '1001' but no matching script tag was found. \")\n",
       "    return false;\n",
       "  }\n",
       "\n",
       "  function inject_raw_css(css) {\n",
       "    const element = document.createElement(\"style\");\n",
       "    element.appendChild(document.createTextNode(css));\n",
       "    document.body.appendChild(element);\n",
       "  }\n",
       "\n",
       "  var js_urls = [\"https://cdn.pydata.org/bokeh/release/bokeh-1.2.0.min.js\", \"https://cdn.pydata.org/bokeh/release/bokeh-widgets-1.2.0.min.js\", \"https://cdn.pydata.org/bokeh/release/bokeh-tables-1.2.0.min.js\", \"https://cdn.pydata.org/bokeh/release/bokeh-gl-1.2.0.min.js\"];\n",
       "  var css_urls = [\"https://cdn.pydata.org/bokeh/release/bokeh-1.2.0.min.css\", \"https://cdn.pydata.org/bokeh/release/bokeh-widgets-1.2.0.min.css\", \"https://cdn.pydata.org/bokeh/release/bokeh-tables-1.2.0.min.css\"];\n",
       "\n",
       "  var inline_js = [\n",
       "    function(Bokeh) {\n",
       "      Bokeh.set_log_level(\"info\");\n",
       "    },\n",
       "    \n",
       "    function(Bokeh) {\n",
       "      \n",
       "    },\n",
       "    function(Bokeh) {} // ensure no trailing comma for IE\n",
       "  ];\n",
       "\n",
       "  function run_inline_js() {\n",
       "    \n",
       "    if ((root.Bokeh !== undefined) || (force === true)) {\n",
       "      for (var i = 0; i < inline_js.length; i++) {\n",
       "        inline_js[i].call(root, root.Bokeh);\n",
       "      }if (force === true) {\n",
       "        display_loaded();\n",
       "      }} else if (Date.now() < root._bokeh_timeout) {\n",
       "      setTimeout(run_inline_js, 100);\n",
       "    } else if (!root._bokeh_failed_load) {\n",
       "      console.log(\"Bokeh: BokehJS failed to load within specified timeout.\");\n",
       "      root._bokeh_failed_load = true;\n",
       "    } else if (force !== true) {\n",
       "      var cell = $(document.getElementById(\"1001\")).parents('.cell').data().cell;\n",
       "      cell.output_area.append_execute_result(NB_LOAD_WARNING)\n",
       "    }\n",
       "\n",
       "  }\n",
       "\n",
       "  if (root._bokeh_is_loading === 0) {\n",
       "    console.debug(\"Bokeh: BokehJS loaded, going straight to plotting\");\n",
       "    run_inline_js();\n",
       "  } else {\n",
       "    load_libs(css_urls, js_urls, function() {\n",
       "      console.debug(\"Bokeh: BokehJS plotting callback run at\", now());\n",
       "      run_inline_js();\n",
       "    });\n",
       "  }\n",
       "}(window));"
      ],
      "application/vnd.bokehjs_load.v0+json": "\n(function(root) {\n  function now() {\n    return new Date();\n  }\n\n  var force = true;\n\n  if (typeof root._bokeh_onload_callbacks === \"undefined\" || force === true) {\n    root._bokeh_onload_callbacks = [];\n    root._bokeh_is_loading = undefined;\n  }\n\n  \n\n  \n  if (typeof (root._bokeh_timeout) === \"undefined\" || force === true) {\n    root._bokeh_timeout = Date.now() + 5000;\n    root._bokeh_failed_load = false;\n  }\n\n  var NB_LOAD_WARNING = {'data': {'text/html':\n     \"<div style='background-color: #fdd'>\\n\"+\n     \"<p>\\n\"+\n     \"BokehJS does not appear to have successfully loaded. If loading BokehJS from CDN, this \\n\"+\n     \"may be due to a slow or bad network connection. Possible fixes:\\n\"+\n     \"</p>\\n\"+\n     \"<ul>\\n\"+\n     \"<li>re-rerun `output_notebook()` to attempt to load from CDN again, or</li>\\n\"+\n     \"<li>use INLINE resources instead, as so:</li>\\n\"+\n     \"</ul>\\n\"+\n     \"<code>\\n\"+\n     \"from bokeh.resources import INLINE\\n\"+\n     \"output_notebook(resources=INLINE)\\n\"+\n     \"</code>\\n\"+\n     \"</div>\"}};\n\n  function display_loaded() {\n    var el = document.getElementById(\"1001\");\n    if (el != null) {\n      el.textContent = \"BokehJS is loading...\";\n    }\n    if (root.Bokeh !== undefined) {\n      if (el != null) {\n        el.textContent = \"BokehJS \" + root.Bokeh.version + \" successfully loaded.\";\n      }\n    } else if (Date.now() < root._bokeh_timeout) {\n      setTimeout(display_loaded, 100)\n    }\n  }\n\n\n  function run_callbacks() {\n    try {\n      root._bokeh_onload_callbacks.forEach(function(callback) {\n        if (callback != null)\n          callback();\n      });\n    } finally {\n      delete root._bokeh_onload_callbacks\n    }\n    console.debug(\"Bokeh: all callbacks have finished\");\n  }\n\n  function load_libs(css_urls, js_urls, callback) {\n    if (css_urls == null) css_urls = [];\n    if (js_urls == null) js_urls = [];\n\n    root._bokeh_onload_callbacks.push(callback);\n    if (root._bokeh_is_loading > 0) {\n      console.debug(\"Bokeh: BokehJS is being loaded, scheduling callback at\", now());\n      return null;\n    }\n    if (js_urls == null || js_urls.length === 0) {\n      run_callbacks();\n      return null;\n    }\n    console.debug(\"Bokeh: BokehJS not loaded, scheduling load and callback at\", now());\n    root._bokeh_is_loading = css_urls.length + js_urls.length;\n\n    function on_load() {\n      root._bokeh_is_loading--;\n      if (root._bokeh_is_loading === 0) {\n        console.debug(\"Bokeh: all BokehJS libraries/stylesheets loaded\");\n        run_callbacks()\n      }\n    }\n\n    function on_error() {\n      console.error(\"failed to load \" + url);\n    }\n\n    for (var i = 0; i < css_urls.length; i++) {\n      var url = css_urls[i];\n      const element = document.createElement(\"link\");\n      element.onload = on_load;\n      element.onerror = on_error;\n      element.rel = \"stylesheet\";\n      element.type = \"text/css\";\n      element.href = url;\n      console.debug(\"Bokeh: injecting link tag for BokehJS stylesheet: \", url);\n      document.body.appendChild(element);\n    }\n\n    for (var i = 0; i < js_urls.length; i++) {\n      var url = js_urls[i];\n      var element = document.createElement('script');\n      element.onload = on_load;\n      element.onerror = on_error;\n      element.async = false;\n      element.src = url;\n      console.debug(\"Bokeh: injecting script tag for BokehJS library: \", url);\n      document.head.appendChild(element);\n    }\n  };var element = document.getElementById(\"1001\");\n  if (element == null) {\n    console.error(\"Bokeh: ERROR: autoload.js configured with elementid '1001' but no matching script tag was found. \")\n    return false;\n  }\n\n  function inject_raw_css(css) {\n    const element = document.createElement(\"style\");\n    element.appendChild(document.createTextNode(css));\n    document.body.appendChild(element);\n  }\n\n  var js_urls = [\"https://cdn.pydata.org/bokeh/release/bokeh-1.2.0.min.js\", \"https://cdn.pydata.org/bokeh/release/bokeh-widgets-1.2.0.min.js\", \"https://cdn.pydata.org/bokeh/release/bokeh-tables-1.2.0.min.js\", \"https://cdn.pydata.org/bokeh/release/bokeh-gl-1.2.0.min.js\"];\n  var css_urls = [\"https://cdn.pydata.org/bokeh/release/bokeh-1.2.0.min.css\", \"https://cdn.pydata.org/bokeh/release/bokeh-widgets-1.2.0.min.css\", \"https://cdn.pydata.org/bokeh/release/bokeh-tables-1.2.0.min.css\"];\n\n  var inline_js = [\n    function(Bokeh) {\n      Bokeh.set_log_level(\"info\");\n    },\n    \n    function(Bokeh) {\n      \n    },\n    function(Bokeh) {} // ensure no trailing comma for IE\n  ];\n\n  function run_inline_js() {\n    \n    if ((root.Bokeh !== undefined) || (force === true)) {\n      for (var i = 0; i < inline_js.length; i++) {\n        inline_js[i].call(root, root.Bokeh);\n      }if (force === true) {\n        display_loaded();\n      }} else if (Date.now() < root._bokeh_timeout) {\n      setTimeout(run_inline_js, 100);\n    } else if (!root._bokeh_failed_load) {\n      console.log(\"Bokeh: BokehJS failed to load within specified timeout.\");\n      root._bokeh_failed_load = true;\n    } else if (force !== true) {\n      var cell = $(document.getElementById(\"1001\")).parents('.cell').data().cell;\n      cell.output_area.append_execute_result(NB_LOAD_WARNING)\n    }\n\n  }\n\n  if (root._bokeh_is_loading === 0) {\n    console.debug(\"Bokeh: BokehJS loaded, going straight to plotting\");\n    run_inline_js();\n  } else {\n    load_libs(css_urls, js_urls, function() {\n      console.debug(\"Bokeh: BokehJS plotting callback run at\", now());\n      run_inline_js();\n    });\n  }\n}(window));"
     },
     "metadata": {},
     "output_type": "display_data"
    }
   ],
   "source": [
    "import os\n",
    "import hail as hl\n",
    "import pyspark\n",
    "import bokeh\n",
    "import logging\n",
    "import random\n",
    "import pandas as pd\n",
    "import numpy as np\n",
    "from scipy import stats\n",
    "import pickle \n",
    "from matplotlib import pyplot as plt\n",
    "from typing import Any, Counter, List, Optional, Tuple, Union\n",
    "from hail.plot import show, output_notebook\n",
    "tmp_dir = \"hdfs://spark-master:9820/\"\n",
    "sc = pyspark.SparkContext()\n",
    "temp_dir = working_dir = os.path.join(os.environ[\"HAIL_HOME\"], \"tmp\")\n",
    "hadoop_config = sc._jsc.hadoopConfiguration()\n",
    "hadoop_config.set(\"fs.s3a.access.key\", \"8YY584J59H7Q6AVKHSU8\")\n",
    "hadoop_config.set(\"fs.s3a.secret.key\", \"P8vePa7JUvxKXX2me9ti1cGujgYWMoimAwx4mMlM\")\n",
    "hadoop_config.set(\"fs.gs.impl\", \"com.google.cloud.hadoop.fs.gcs.GoogleHadoopFileSystem\")\n",
    "hadoop_config.set(\"fs.AbstractFileSystem.gs.impl\", \"com.google.cloud.hadoop.fs.gcs.GoogleHadoopFS\")\n",
    "hl.init(sc=sc, tmp_dir=tmp_dir, default_reference='GRCh38')\n",
    "output_notebook()\n",
    "logging.basicConfig(format=\"%(levelname)s (%(name)s %(lineno)s): %(message)s\")\n",
    "logger = logging.getLogger(__name__)\n",
    "logger.setLevel(logging.INFO)"
   ]
  },
  {
   "cell_type": "code",
   "execution_count": 38,
   "metadata": {},
   "outputs": [],
   "source": [
    "mt = hl.read_matrix_table(f\"{temp_dir}/ddd-elgh-ukbb/filtering/mt_pops_superpops_sampleqc.mt\")\n",
    "ht_pops=hl.read_table(f\"{temp_dir}/ddd-elgh-ukbb/filtering/mt_pops_QC_filters.ht\")\n",
    "ht_superpops=hl.read_table(f\"{temp_dir}/ddd-elgh-ukbb/filtering/mt_superpops_QC_filters.ht\")\n",
    "                      "
   ]
  },
  {
   "cell_type": "code",
   "execution_count": 3,
   "metadata": {},
   "outputs": [
    {
     "data": {
      "text/html": [
       "<table><thead style=\"font-weight: bold;\"><tr><td>s</td><td>fail_sample_qc.heterozygosity_rate</td><td>fail_sample_qc.n_snp</td><td>fail_sample_qc.r_ti_tv</td><td>fail_sample_qc.r_insertion_deletion</td><td>fail_sampleqc.n_insertion</td><td>fail_sampleqc.n_deletion</td><td>fail_sample_qc.r_het_hom_var</td><td>qc_metrics_filters</td></tr>\n",
       "<tr><td>str</td><td>bool</td><td>bool</td><td>bool</td><td>bool</td><td>bool</td><td>bool</td><td>bool</td><td>set&lt;str&gt;</td></tr>\n",
       "</thead><tbody><tr><td>&quot;EGAN00001006259&quot;</td><td>false</td><td>false</td><td>false</td><td>NA</td><td>true</td><td>true</td><td>false</td><td>{&quot;sampleqc.n_deletion&quot;,&quot;sampleqc.n_insertion&quot;}</td></tr>\n",
       "<tr><td>&quot;EGAN00001006260&quot;</td><td>false</td><td>false</td><td>false</td><td>NA</td><td>true</td><td>true</td><td>false</td><td>{&quot;sampleqc.n_deletion&quot;,&quot;sampleqc.n_insertion&quot;}</td></tr>\n",
       "<tr><td>&quot;EGAN00001006261&quot;</td><td>false</td><td>false</td><td>false</td><td>NA</td><td>true</td><td>true</td><td>false</td><td>{&quot;sampleqc.n_deletion&quot;,&quot;sampleqc.n_insertion&quot;}</td></tr>\n",
       "<tr><td>&quot;EGAN00001006263&quot;</td><td>false</td><td>false</td><td>false</td><td>NA</td><td>true</td><td>true</td><td>false</td><td>{&quot;sampleqc.n_deletion&quot;,&quot;sampleqc.n_insertion&quot;}</td></tr>\n",
       "<tr><td>&quot;EGAN00001006264&quot;</td><td>false</td><td>false</td><td>false</td><td>NA</td><td>true</td><td>true</td><td>false</td><td>{&quot;sampleqc.n_deletion&quot;,&quot;sampleqc.n_insertion&quot;}</td></tr>\n",
       "<tr><td>&quot;EGAN00001006265&quot;</td><td>false</td><td>false</td><td>false</td><td>NA</td><td>true</td><td>true</td><td>false</td><td>{&quot;sampleqc.n_deletion&quot;,&quot;sampleqc.n_insertion&quot;}</td></tr>\n",
       "<tr><td>&quot;EGAN00001006266&quot;</td><td>false</td><td>false</td><td>false</td><td>NA</td><td>true</td><td>true</td><td>false</td><td>{&quot;sampleqc.n_deletion&quot;,&quot;sampleqc.n_insertion&quot;}</td></tr>\n",
       "<tr><td>&quot;EGAN00001006267&quot;</td><td>false</td><td>false</td><td>false</td><td>NA</td><td>true</td><td>true</td><td>false</td><td>{&quot;sampleqc.n_deletion&quot;,&quot;sampleqc.n_insertion&quot;}</td></tr>\n",
       "<tr><td>&quot;EGAN00001006268&quot;</td><td>false</td><td>false</td><td>false</td><td>NA</td><td>true</td><td>true</td><td>false</td><td>{&quot;sampleqc.n_deletion&quot;,&quot;sampleqc.n_insertion&quot;}</td></tr>\n",
       "<tr><td>&quot;EGAN00001006269&quot;</td><td>false</td><td>false</td><td>false</td><td>NA</td><td>true</td><td>true</td><td>false</td><td>{&quot;sampleqc.n_deletion&quot;,&quot;sampleqc.n_insertion&quot;}</td></tr>\n",
       "</tbody></table><p style=\"background: #fdd; padding: 0.4em;\">showing top 10 rows</p>\n"
      ],
      "text/plain": [
       "+-------------------+------------------------------------+\n",
       "| s                 | fail_sample_qc.heterozygosity_rate |\n",
       "+-------------------+------------------------------------+\n",
       "| str               |                               bool |\n",
       "+-------------------+------------------------------------+\n",
       "| \"EGAN00001006259\" |                              false |\n",
       "| \"EGAN00001006260\" |                              false |\n",
       "| \"EGAN00001006261\" |                              false |\n",
       "| \"EGAN00001006263\" |                              false |\n",
       "| \"EGAN00001006264\" |                              false |\n",
       "| \"EGAN00001006265\" |                              false |\n",
       "| \"EGAN00001006266\" |                              false |\n",
       "| \"EGAN00001006267\" |                              false |\n",
       "| \"EGAN00001006268\" |                              false |\n",
       "| \"EGAN00001006269\" |                              false |\n",
       "+-------------------+------------------------------------+\n",
       "\n",
       "+----------------------+------------------------+\n",
       "| fail_sample_qc.n_snp | fail_sample_qc.r_ti_tv |\n",
       "+----------------------+------------------------+\n",
       "|                 bool |                   bool |\n",
       "+----------------------+------------------------+\n",
       "|                false |                  false |\n",
       "|                false |                  false |\n",
       "|                false |                  false |\n",
       "|                false |                  false |\n",
       "|                false |                  false |\n",
       "|                false |                  false |\n",
       "|                false |                  false |\n",
       "|                false |                  false |\n",
       "|                false |                  false |\n",
       "|                false |                  false |\n",
       "+----------------------+------------------------+\n",
       "\n",
       "+-------------------------------------+---------------------------+\n",
       "| fail_sample_qc.r_insertion_deletion | fail_sampleqc.n_insertion |\n",
       "+-------------------------------------+---------------------------+\n",
       "|                                bool |                      bool |\n",
       "+-------------------------------------+---------------------------+\n",
       "|                                  NA |                      true |\n",
       "|                                  NA |                      true |\n",
       "|                                  NA |                      true |\n",
       "|                                  NA |                      true |\n",
       "|                                  NA |                      true |\n",
       "|                                  NA |                      true |\n",
       "|                                  NA |                      true |\n",
       "|                                  NA |                      true |\n",
       "|                                  NA |                      true |\n",
       "|                                  NA |                      true |\n",
       "+-------------------------------------+---------------------------+\n",
       "\n",
       "+--------------------------+------------------------------+\n",
       "| fail_sampleqc.n_deletion | fail_sample_qc.r_het_hom_var |\n",
       "+--------------------------+------------------------------+\n",
       "|                     bool |                         bool |\n",
       "+--------------------------+------------------------------+\n",
       "|                     true |                        false |\n",
       "|                     true |                        false |\n",
       "|                     true |                        false |\n",
       "|                     true |                        false |\n",
       "|                     true |                        false |\n",
       "|                     true |                        false |\n",
       "|                     true |                        false |\n",
       "|                     true |                        false |\n",
       "|                     true |                        false |\n",
       "|                     true |                        false |\n",
       "+--------------------------+------------------------------+\n",
       "\n",
       "+------------------------------------------------+\n",
       "| qc_metrics_filters                             |\n",
       "+------------------------------------------------+\n",
       "| set<str>                                       |\n",
       "+------------------------------------------------+\n",
       "| {\"sampleqc.n_deletion\",\"sampleqc.n_insertion\"} |\n",
       "| {\"sampleqc.n_deletion\",\"sampleqc.n_insertion\"} |\n",
       "| {\"sampleqc.n_deletion\",\"sampleqc.n_insertion\"} |\n",
       "| {\"sampleqc.n_deletion\",\"sampleqc.n_insertion\"} |\n",
       "| {\"sampleqc.n_deletion\",\"sampleqc.n_insertion\"} |\n",
       "| {\"sampleqc.n_deletion\",\"sampleqc.n_insertion\"} |\n",
       "| {\"sampleqc.n_deletion\",\"sampleqc.n_insertion\"} |\n",
       "| {\"sampleqc.n_deletion\",\"sampleqc.n_insertion\"} |\n",
       "| {\"sampleqc.n_deletion\",\"sampleqc.n_insertion\"} |\n",
       "| {\"sampleqc.n_deletion\",\"sampleqc.n_insertion\"} |\n",
       "+------------------------------------------------+\n",
       "showing top 10 rows"
      ]
     },
     "metadata": {},
     "output_type": "display_data"
    }
   ],
   "source": [
    "ht_pops.show()"
   ]
  },
  {
   "cell_type": "code",
   "execution_count": 4,
   "metadata": {},
   "outputs": [
    {
     "data": {
      "text/html": [
       "<table><thead style=\"font-weight: bold;\"><tr><td>s</td><td>fail_sample_qc.heterozygosity_rate</td><td>fail_sample_qc.n_snp</td><td>fail_sample_qc.r_ti_tv</td><td>fail_sample_qc.r_insertion_deletion</td><td>fail_sampleqc.n_insertion</td><td>fail_sampleqc.n_deletion</td><td>fail_sample_qc.r_het_hom_var</td><td>qc_metrics_filters</td></tr>\n",
       "<tr><td>str</td><td>bool</td><td>bool</td><td>bool</td><td>bool</td><td>bool</td><td>bool</td><td>bool</td><td>set&lt;str&gt;</td></tr>\n",
       "</thead><tbody><tr><td>&quot;EGAN00001006259&quot;</td><td>false</td><td>false</td><td>false</td><td>NA</td><td>true</td><td>true</td><td>false</td><td>{&quot;sampleqc.n_deletion&quot;,&quot;sampleqc.n_insertion&quot;}</td></tr>\n",
       "<tr><td>&quot;EGAN00001006260&quot;</td><td>false</td><td>false</td><td>false</td><td>NA</td><td>true</td><td>true</td><td>false</td><td>{&quot;sampleqc.n_deletion&quot;,&quot;sampleqc.n_insertion&quot;}</td></tr>\n",
       "<tr><td>&quot;EGAN00001006261&quot;</td><td>false</td><td>false</td><td>false</td><td>NA</td><td>true</td><td>true</td><td>false</td><td>{&quot;sampleqc.n_deletion&quot;,&quot;sampleqc.n_insertion&quot;}</td></tr>\n",
       "<tr><td>&quot;EGAN00001006263&quot;</td><td>false</td><td>false</td><td>false</td><td>NA</td><td>true</td><td>true</td><td>false</td><td>{&quot;sampleqc.n_deletion&quot;,&quot;sampleqc.n_insertion&quot;}</td></tr>\n",
       "<tr><td>&quot;EGAN00001006264&quot;</td><td>false</td><td>false</td><td>false</td><td>NA</td><td>true</td><td>true</td><td>false</td><td>{&quot;sampleqc.n_deletion&quot;,&quot;sampleqc.n_insertion&quot;}</td></tr>\n",
       "<tr><td>&quot;EGAN00001006265&quot;</td><td>false</td><td>false</td><td>false</td><td>NA</td><td>true</td><td>true</td><td>false</td><td>{&quot;sampleqc.n_deletion&quot;,&quot;sampleqc.n_insertion&quot;}</td></tr>\n",
       "<tr><td>&quot;EGAN00001006266&quot;</td><td>false</td><td>false</td><td>false</td><td>NA</td><td>true</td><td>true</td><td>false</td><td>{&quot;sampleqc.n_deletion&quot;,&quot;sampleqc.n_insertion&quot;}</td></tr>\n",
       "<tr><td>&quot;EGAN00001006267&quot;</td><td>false</td><td>false</td><td>false</td><td>NA</td><td>true</td><td>true</td><td>false</td><td>{&quot;sampleqc.n_deletion&quot;,&quot;sampleqc.n_insertion&quot;}</td></tr>\n",
       "<tr><td>&quot;EGAN00001006268&quot;</td><td>false</td><td>false</td><td>false</td><td>NA</td><td>true</td><td>true</td><td>false</td><td>{&quot;sampleqc.n_deletion&quot;,&quot;sampleqc.n_insertion&quot;}</td></tr>\n",
       "<tr><td>&quot;EGAN00001006269&quot;</td><td>false</td><td>false</td><td>false</td><td>NA</td><td>true</td><td>true</td><td>false</td><td>{&quot;sampleqc.n_deletion&quot;,&quot;sampleqc.n_insertion&quot;}</td></tr>\n",
       "</tbody></table><p style=\"background: #fdd; padding: 0.4em;\">showing top 10 rows</p>\n"
      ],
      "text/plain": [
       "+-------------------+------------------------------------+\n",
       "| s                 | fail_sample_qc.heterozygosity_rate |\n",
       "+-------------------+------------------------------------+\n",
       "| str               |                               bool |\n",
       "+-------------------+------------------------------------+\n",
       "| \"EGAN00001006259\" |                              false |\n",
       "| \"EGAN00001006260\" |                              false |\n",
       "| \"EGAN00001006261\" |                              false |\n",
       "| \"EGAN00001006263\" |                              false |\n",
       "| \"EGAN00001006264\" |                              false |\n",
       "| \"EGAN00001006265\" |                              false |\n",
       "| \"EGAN00001006266\" |                              false |\n",
       "| \"EGAN00001006267\" |                              false |\n",
       "| \"EGAN00001006268\" |                              false |\n",
       "| \"EGAN00001006269\" |                              false |\n",
       "+-------------------+------------------------------------+\n",
       "\n",
       "+----------------------+------------------------+\n",
       "| fail_sample_qc.n_snp | fail_sample_qc.r_ti_tv |\n",
       "+----------------------+------------------------+\n",
       "|                 bool |                   bool |\n",
       "+----------------------+------------------------+\n",
       "|                false |                  false |\n",
       "|                false |                  false |\n",
       "|                false |                  false |\n",
       "|                false |                  false |\n",
       "|                false |                  false |\n",
       "|                false |                  false |\n",
       "|                false |                  false |\n",
       "|                false |                  false |\n",
       "|                false |                  false |\n",
       "|                false |                  false |\n",
       "+----------------------+------------------------+\n",
       "\n",
       "+-------------------------------------+---------------------------+\n",
       "| fail_sample_qc.r_insertion_deletion | fail_sampleqc.n_insertion |\n",
       "+-------------------------------------+---------------------------+\n",
       "|                                bool |                      bool |\n",
       "+-------------------------------------+---------------------------+\n",
       "|                                  NA |                      true |\n",
       "|                                  NA |                      true |\n",
       "|                                  NA |                      true |\n",
       "|                                  NA |                      true |\n",
       "|                                  NA |                      true |\n",
       "|                                  NA |                      true |\n",
       "|                                  NA |                      true |\n",
       "|                                  NA |                      true |\n",
       "|                                  NA |                      true |\n",
       "|                                  NA |                      true |\n",
       "+-------------------------------------+---------------------------+\n",
       "\n",
       "+--------------------------+------------------------------+\n",
       "| fail_sampleqc.n_deletion | fail_sample_qc.r_het_hom_var |\n",
       "+--------------------------+------------------------------+\n",
       "|                     bool |                         bool |\n",
       "+--------------------------+------------------------------+\n",
       "|                     true |                        false |\n",
       "|                     true |                        false |\n",
       "|                     true |                        false |\n",
       "|                     true |                        false |\n",
       "|                     true |                        false |\n",
       "|                     true |                        false |\n",
       "|                     true |                        false |\n",
       "|                     true |                        false |\n",
       "|                     true |                        false |\n",
       "|                     true |                        false |\n",
       "+--------------------------+------------------------------+\n",
       "\n",
       "+------------------------------------------------+\n",
       "| qc_metrics_filters                             |\n",
       "+------------------------------------------------+\n",
       "| set<str>                                       |\n",
       "+------------------------------------------------+\n",
       "| {\"sampleqc.n_deletion\",\"sampleqc.n_insertion\"} |\n",
       "| {\"sampleqc.n_deletion\",\"sampleqc.n_insertion\"} |\n",
       "| {\"sampleqc.n_deletion\",\"sampleqc.n_insertion\"} |\n",
       "| {\"sampleqc.n_deletion\",\"sampleqc.n_insertion\"} |\n",
       "| {\"sampleqc.n_deletion\",\"sampleqc.n_insertion\"} |\n",
       "| {\"sampleqc.n_deletion\",\"sampleqc.n_insertion\"} |\n",
       "| {\"sampleqc.n_deletion\",\"sampleqc.n_insertion\"} |\n",
       "| {\"sampleqc.n_deletion\",\"sampleqc.n_insertion\"} |\n",
       "| {\"sampleqc.n_deletion\",\"sampleqc.n_insertion\"} |\n",
       "| {\"sampleqc.n_deletion\",\"sampleqc.n_insertion\"} |\n",
       "+------------------------------------------------+\n",
       "showing top 10 rows"
      ]
     },
     "metadata": {},
     "output_type": "display_data"
    }
   ],
   "source": [
    "ht_superpops.show()"
   ]
  },
  {
   "cell_type": "code",
   "execution_count": 6,
   "metadata": {},
   "outputs": [
    {
     "name": "stdout",
     "output_type": "stream",
     "text": [
      "----------------------------------------\n",
      "Global fields:\n",
      "    'qc_metrics_stats': dict<tuple (\n",
      "        str\n",
      "    ), struct {\n",
      "        `sample_qc.heterozygosity_rate`: struct {\n",
      "            median: float32, \n",
      "            mad: float64, \n",
      "            lower: float64, \n",
      "            upper: float64\n",
      "        }, \n",
      "        `sample_qc.n_snp`: struct {\n",
      "            median: int64, \n",
      "            mad: float64, \n",
      "            lower: float64, \n",
      "            upper: float64\n",
      "        }, \n",
      "        `sample_qc.r_ti_tv`: struct {\n",
      "            median: float64, \n",
      "            mad: float64, \n",
      "            lower: float64, \n",
      "            upper: float64\n",
      "        }, \n",
      "        `sample_qc.r_insertion_deletion`: struct {\n",
      "            median: float64, \n",
      "            mad: float64, \n",
      "            lower: float64, \n",
      "            upper: float64\n",
      "        }, \n",
      "        `sampleqc.n_insertion`: struct {\n",
      "            median: int64, \n",
      "            mad: float64, \n",
      "            lower: float64, \n",
      "            upper: float64\n",
      "        }, \n",
      "        `sampleqc.n_deletion`: struct {\n",
      "            median: int64, \n",
      "            mad: float64, \n",
      "            lower: float64, \n",
      "            upper: float64\n",
      "        }, \n",
      "        `sample_qc.r_het_hom_var`: struct {\n",
      "            median: float64, \n",
      "            mad: float64, \n",
      "            lower: float64, \n",
      "            upper: float64\n",
      "        }\n",
      "    }> \n",
      "----------------------------------------\n",
      "Row fields:\n",
      "    's': str \n",
      "    'fail_sample_qc.heterozygosity_rate': bool \n",
      "    'fail_sample_qc.n_snp': bool \n",
      "    'fail_sample_qc.r_ti_tv': bool \n",
      "    'fail_sample_qc.r_insertion_deletion': bool \n",
      "    'fail_sampleqc.n_insertion': bool \n",
      "    'fail_sampleqc.n_deletion': bool \n",
      "    'fail_sample_qc.r_het_hom_var': bool \n",
      "    'qc_metrics_filters': set<str> \n",
      "----------------------------------------\n",
      "Key: ['s']\n",
      "----------------------------------------\n"
     ]
    }
   ],
   "source": [
    "ht_pops.describe()"
   ]
  },
  {
   "cell_type": "code",
   "execution_count": 39,
   "metadata": {},
   "outputs": [],
   "source": [
    "ht_pops=ht_pops.annotate(pop=mt.cols()[ht_pops.s].assigned_pop)\n",
    "ht_pops=ht_pops.annotate(cohort=mt.cols()[ht_pops.s].cohort)\n",
    "\n",
    "ht_superpops=ht_superpops.annotate(superpop=mt.cols()[ht_superpops.s].assigned_superpop)\n",
    "ht_superpops=ht_superpops.annotate(cohort=mt.cols()[ht_superpops.s].cohort)\n"
   ]
  },
  {
   "cell_type": "code",
   "execution_count": 40,
   "metadata": {},
   "outputs": [
    {
     "name": "stderr",
     "output_type": "stream",
     "text": [
      "2020-08-13 10:41:33 Hail: INFO: Coerced sorted dataset\n",
      "2020-08-13 10:41:34 Hail: INFO: Coerced sorted dataset\n",
      "2020-08-13 10:41:38 Hail: INFO: wrote table with 93674 rows in 2 partitions to /opt/sanger.ac.uk/hgi/hail/tmp/ddd-elgh-ukbb/filtering/mt_pops_QC_filters_with_pops_info.ht\n"
     ]
    }
   ],
   "source": [
    "ht_pops.write(f\"{temp_dir}/ddd-elgh-ukbb/filtering/mt_pops_QC_filters_with_pops_info.ht\", overwrite=True)"
   ]
  },
  {
   "cell_type": "code",
   "execution_count": 41,
   "metadata": {},
   "outputs": [
    {
     "name": "stderr",
     "output_type": "stream",
     "text": [
      "2020-08-13 10:41:47 Hail: INFO: Coerced sorted dataset\n",
      "2020-08-13 10:41:49 Hail: INFO: Coerced sorted dataset\n",
      "2020-08-13 10:41:52 Hail: INFO: wrote table with 93674 rows in 2 partitions to /opt/sanger.ac.uk/hgi/hail/tmp/ddd-elgh-ukbb/filtering/mt_superpops_QC_filters_with_superpops_info.ht\n"
     ]
    }
   ],
   "source": [
    "ht_superpops=ht_superpops.checkpoint(f\"{temp_dir}/ddd-elgh-ukbb/filtering/mt_superpops_QC_filters_with_superpops_info.ht\", overwrite=True)"
   ]
  },
  {
   "cell_type": "code",
   "execution_count": 42,
   "metadata": {},
   "outputs": [],
   "source": [
    "ht_pops=hl.read_table(f\"{temp_dir}/ddd-elgh-ukbb/filtering/mt_pops_QC_filters_with_pops_info.ht\")"
   ]
  },
  {
   "cell_type": "code",
   "execution_count": 43,
   "metadata": {},
   "outputs": [
    {
     "name": "stderr",
     "output_type": "stream",
     "text": [
      "2020-08-13 10:42:00 Hail: INFO: merging 2 files totalling 611.7K...\n",
      "2020-08-13 10:42:00 Hail: INFO: while writing:\n",
      "    /opt/sanger.ac.uk/hgi/hail/tmp/ddd-elgh-ukbb/filtering/mt_pops_QC_filters_with_pops_info.tsv.bgz\n",
      "  merge time: 11.895ms\n"
     ]
    }
   ],
   "source": [
    "ht_pops.export(f\"{temp_dir}/ddd-elgh-ukbb/filtering/mt_pops_QC_filters_with_pops_info.tsv.bgz\", delimiter=\"\\t\")"
   ]
  },
  {
   "cell_type": "code",
   "execution_count": 44,
   "metadata": {},
   "outputs": [
    {
     "name": "stderr",
     "output_type": "stream",
     "text": [
      "2020-08-13 10:42:05 Hail: INFO: merging 2 files totalling 578.0K...\n",
      "2020-08-13 10:42:05 Hail: INFO: while writing:\n",
      "    /opt/sanger.ac.uk/hgi/hail/tmp/ddd-elgh-ukbb/filtering/mt_superpops_QC_filters_with_superpops_info.tsv.bgz\n",
      "  merge time: 11.170ms\n"
     ]
    }
   ],
   "source": [
    "ht_superpops.export(f\"{temp_dir}/ddd-elgh-ukbb/filtering/mt_superpops_QC_filters_with_superpops_info.tsv.bgz\", delimiter=\"\\t\")"
   ]
  },
  {
   "cell_type": "code",
   "execution_count": 45,
   "metadata": {},
   "outputs": [],
   "source": [
    "df_pops=pd.read_csv(f\"{temp_dir}/ddd-elgh-ukbb/filtering/mt_pops_QC_filters_with_pops_info.tsv.bgz\", compression=\"gzip\",sep=\"\\t\")\n",
    "df_superpops=pd.read_csv(f\"{temp_dir}/ddd-elgh-ukbb/filtering/mt_superpops_QC_filters_with_superpops_info.tsv.bgz\", compression=\"gzip\", sep=\"\\t\")\n"
   ]
  },
  {
   "cell_type": "code",
   "execution_count": 46,
   "metadata": {},
   "outputs": [
    {
     "data": {
      "text/html": [
       "<div>\n",
       "<style scoped>\n",
       "    .dataframe tbody tr th:only-of-type {\n",
       "        vertical-align: middle;\n",
       "    }\n",
       "\n",
       "    .dataframe tbody tr th {\n",
       "        vertical-align: top;\n",
       "    }\n",
       "\n",
       "    .dataframe thead th {\n",
       "        text-align: right;\n",
       "    }\n",
       "</style>\n",
       "<table border=\"1\" class=\"dataframe\">\n",
       "  <thead>\n",
       "    <tr style=\"text-align: right;\">\n",
       "      <th></th>\n",
       "      <th>s</th>\n",
       "      <th>fail_sample_qc.heterozygosity_rate</th>\n",
       "      <th>fail_sample_qc.n_snp</th>\n",
       "      <th>fail_sample_qc.r_ti_tv</th>\n",
       "      <th>fail_sample_qc.r_insertion_deletion</th>\n",
       "      <th>fail_sampleqc.n_insertion</th>\n",
       "      <th>fail_sampleqc.n_deletion</th>\n",
       "      <th>fail_sample_qc.r_het_hom_var</th>\n",
       "      <th>qc_metrics_filters</th>\n",
       "      <th>pop</th>\n",
       "      <th>cohort</th>\n",
       "    </tr>\n",
       "  </thead>\n",
       "  <tbody>\n",
       "    <tr>\n",
       "      <th>0</th>\n",
       "      <td>EGAN00001006259</td>\n",
       "      <td>False</td>\n",
       "      <td>False</td>\n",
       "      <td>False</td>\n",
       "      <td>NaN</td>\n",
       "      <td>True</td>\n",
       "      <td>True</td>\n",
       "      <td>False</td>\n",
       "      <td>[\"sampleqc.n_deletion\",\"sampleqc.n_insertion\"]</td>\n",
       "      <td>Pakistani</td>\n",
       "      <td>UK_10K_CHD</td>\n",
       "    </tr>\n",
       "    <tr>\n",
       "      <th>1</th>\n",
       "      <td>EGAN00001006260</td>\n",
       "      <td>False</td>\n",
       "      <td>False</td>\n",
       "      <td>False</td>\n",
       "      <td>NaN</td>\n",
       "      <td>True</td>\n",
       "      <td>True</td>\n",
       "      <td>False</td>\n",
       "      <td>[\"sampleqc.n_deletion\",\"sampleqc.n_insertion\"]</td>\n",
       "      <td>Pakistani</td>\n",
       "      <td>UK_10K_CHD</td>\n",
       "    </tr>\n",
       "    <tr>\n",
       "      <th>2</th>\n",
       "      <td>EGAN00001006261</td>\n",
       "      <td>False</td>\n",
       "      <td>False</td>\n",
       "      <td>False</td>\n",
       "      <td>NaN</td>\n",
       "      <td>True</td>\n",
       "      <td>True</td>\n",
       "      <td>False</td>\n",
       "      <td>[\"sampleqc.n_deletion\",\"sampleqc.n_insertion\"]</td>\n",
       "      <td>oth</td>\n",
       "      <td>UK_10K_CHD</td>\n",
       "    </tr>\n",
       "    <tr>\n",
       "      <th>3</th>\n",
       "      <td>EGAN00001006263</td>\n",
       "      <td>False</td>\n",
       "      <td>False</td>\n",
       "      <td>False</td>\n",
       "      <td>NaN</td>\n",
       "      <td>True</td>\n",
       "      <td>True</td>\n",
       "      <td>False</td>\n",
       "      <td>[\"sampleqc.n_deletion\",\"sampleqc.n_insertion\"]</td>\n",
       "      <td>Pakistani</td>\n",
       "      <td>UK_10K_CHD</td>\n",
       "    </tr>\n",
       "    <tr>\n",
       "      <th>4</th>\n",
       "      <td>EGAN00001006264</td>\n",
       "      <td>False</td>\n",
       "      <td>False</td>\n",
       "      <td>False</td>\n",
       "      <td>NaN</td>\n",
       "      <td>True</td>\n",
       "      <td>True</td>\n",
       "      <td>False</td>\n",
       "      <td>[\"sampleqc.n_deletion\",\"sampleqc.n_insertion\"]</td>\n",
       "      <td>Pakistani</td>\n",
       "      <td>UK_10K_CHD</td>\n",
       "    </tr>\n",
       "  </tbody>\n",
       "</table>\n",
       "</div>"
      ],
      "text/plain": [
       "                 s  fail_sample_qc.heterozygosity_rate  fail_sample_qc.n_snp  \\\n",
       "0  EGAN00001006259                               False                 False   \n",
       "1  EGAN00001006260                               False                 False   \n",
       "2  EGAN00001006261                               False                 False   \n",
       "3  EGAN00001006263                               False                 False   \n",
       "4  EGAN00001006264                               False                 False   \n",
       "\n",
       "  fail_sample_qc.r_ti_tv  fail_sample_qc.r_insertion_deletion  \\\n",
       "0                  False                                  NaN   \n",
       "1                  False                                  NaN   \n",
       "2                  False                                  NaN   \n",
       "3                  False                                  NaN   \n",
       "4                  False                                  NaN   \n",
       "\n",
       "   fail_sampleqc.n_insertion  fail_sampleqc.n_deletion  \\\n",
       "0                       True                      True   \n",
       "1                       True                      True   \n",
       "2                       True                      True   \n",
       "3                       True                      True   \n",
       "4                       True                      True   \n",
       "\n",
       "  fail_sample_qc.r_het_hom_var  \\\n",
       "0                        False   \n",
       "1                        False   \n",
       "2                        False   \n",
       "3                        False   \n",
       "4                        False   \n",
       "\n",
       "                               qc_metrics_filters        pop      cohort  \n",
       "0  [\"sampleqc.n_deletion\",\"sampleqc.n_insertion\"]  Pakistani  UK_10K_CHD  \n",
       "1  [\"sampleqc.n_deletion\",\"sampleqc.n_insertion\"]  Pakistani  UK_10K_CHD  \n",
       "2  [\"sampleqc.n_deletion\",\"sampleqc.n_insertion\"]        oth  UK_10K_CHD  \n",
       "3  [\"sampleqc.n_deletion\",\"sampleqc.n_insertion\"]  Pakistani  UK_10K_CHD  \n",
       "4  [\"sampleqc.n_deletion\",\"sampleqc.n_insertion\"]  Pakistani  UK_10K_CHD  "
      ]
     },
     "execution_count": 46,
     "metadata": {},
     "output_type": "execute_result"
    }
   ],
   "source": [
    "df_pops.head()"
   ]
  },
  {
   "cell_type": "code",
   "execution_count": 33,
   "metadata": {},
   "outputs": [
    {
     "data": {
      "text/plain": [
       "pop             fail_sample_qc.heterozygosity_rate\n",
       "African         False                                   551\n",
       "                True                                     18\n",
       "Bangladeshi     False                                  2657\n",
       "                True                                     30\n",
       "British         False                                 73873\n",
       "                True                                     90\n",
       "Caribbean       False                                  1351\n",
       "Chinese         False                                   478\n",
       "                True                                      1\n",
       "Indian          False                                   574\n",
       "                True                                      1\n",
       "Irish           False                                  1201\n",
       "Pakistani       False                                  9509\n",
       "                True                                     69\n",
       "White European  False                                  1826\n",
       "                True                                     15\n",
       "oth             False                                  1413\n",
       "                True                                     17\n",
       "Name: fail_sample_qc.heterozygosity_rate, dtype: int64"
      ]
     },
     "execution_count": 33,
     "metadata": {},
     "output_type": "execute_result"
    }
   ],
   "source": [
    "df_pops.groupby(\"pop\")[\"fail_sample_qc.heterozygosity_rate\"].value_counts()"
   ]
  },
  {
   "cell_type": "code",
   "execution_count": 35,
   "metadata": {},
   "outputs": [
    {
     "data": {
      "text/plain": [
       "pop             fail_sample_qc.heterozygosity_rate\n",
       "African         False                                  96.836555\n",
       "                True                                    3.163445\n",
       "Bangladeshi     False                                  98.883513\n",
       "                True                                    1.116487\n",
       "British         False                                  99.878318\n",
       "                True                                    0.121682\n",
       "Caribbean       False                                 100.000000\n",
       "Chinese         False                                  99.791232\n",
       "                True                                    0.208768\n",
       "Indian          False                                  99.826087\n",
       "                True                                    0.173913\n",
       "Irish           False                                 100.000000\n",
       "Pakistani       False                                  99.279599\n",
       "                True                                    0.720401\n",
       "White European  False                                  99.185225\n",
       "                True                                    0.814775\n",
       "oth             False                                  98.811189\n",
       "                True                                    1.188811\n",
       "Name: fail_sample_qc.heterozygosity_rate, dtype: float64"
      ]
     },
     "execution_count": 35,
     "metadata": {},
     "output_type": "execute_result"
    }
   ],
   "source": [
    "df_pops.groupby(\"pop\")[\"fail_sample_qc.heterozygosity_rate\"].value_counts(normalize=True)*100"
   ]
  },
  {
   "cell_type": "code",
   "execution_count": 59,
   "metadata": {},
   "outputs": [
    {
     "data": {
      "text/plain": [
       "<AxesSubplot:ylabel='pop,fail_sample_qc.heterozygosity_rate'>"
      ]
     },
     "execution_count": 59,
     "metadata": {},
     "output_type": "execute_result"
    },
    {
     "data": {
      "image/png": "[encoded data removed]",
      "text/plain": [
       "<Figure size 432x288 with 1 Axes>"
      ]
     },
     "metadata": {
      "needs_background": "light"
     },
     "output_type": "display_data"
    }
   ],
   "source": [
    "(df_pops.groupby(\"pop\")[\"fail_sample_qc.heterozygosity_rate\"].value_counts(normalize=True)*100).plot(kind = 'barh',color=['blue', 'red'])\n"
   ]
  },
  {
   "cell_type": "code",
   "execution_count": 86,
   "metadata": {},
   "outputs": [
    {
     "data": {
      "image/png": "[encoded data removed]",
      "text/plain": [
       "<Figure size 1201.68x595.44 with 1 Axes>"
      ]
     },
     "metadata": {
      "needs_background": "light"
     },
     "output_type": "display_data"
    }
   ],
   "source": [
    "a4_dims = (16.69,8.27)\n",
    "fig, ax = plt.subplots(figsize=a4_dims)\n",
    "plt.xticks(rotation=70)\n",
    "ping=sns.barplot(x=(df_pops.groupby(\"pop\")[\"fail_sample_qc.heterozygosity_rate\"].value_counts()).index, y=df_pops.groupby(\"pop\")[\"fail_sample_qc.heterozygosity_rate\"].value_counts())\n",
    "for p in ping.patches:\n",
    "    ping.annotate(format(p.get_height(), '.2f'), (p.get_x() + p.get_width() / 2., p.get_height()), ha = 'center', va = 'center', xytext = (0, 10), textcoords = 'offset points')"
   ]
  },
  {
   "cell_type": "code",
   "execution_count": 97,
   "metadata": {},
   "outputs": [
    {
     "data": {
      "text/plain": [
       "[Text(0.5, 1.0, 'Percentage of samples per population passing heterozygosity_rate: False: Pass metric, True: Fail metric')]"
      ]
     },
     "execution_count": 97,
     "metadata": {},
     "output_type": "execute_result"
    },
    {
     "data": {
      "image/png": "[encoded data removed]",
      "text/plain": [
       "<Figure size 1201.68x595.44 with 1 Axes>"
      ]
     },
     "metadata": {
      "needs_background": "light"
     },
     "output_type": "display_data"
    }
   ],
   "source": [
    "import matplotlib.pyplot as plt\n",
    "\n",
    "import seaborn as sns\n",
    "a4_dims = (16.69,8.27)\n",
    "fig, ax = plt.subplots(figsize=a4_dims)\n",
    "plt.xticks(rotation=70)\n",
    "ping=sns.barplot(x=(df_pops.groupby(\"pop\")[\"fail_sample_qc.heterozygosity_rate\"].value_counts(normalize=True)*100).index, y=df_pops.groupby(\"pop\")[\"fail_sample_qc.heterozygosity_rate\"].value_counts(normalize=True)*100)\n",
    "\n",
    "for p in ping.patches:\n",
    "    ping.annotate(format(p.get_height(), '.2f'), (p.get_x() + p.get_width() / 2., p.get_height()), ha = 'center', va = 'center', xytext = (0, 10), textcoords = 'offset points')\n",
    "ping.set(title = 'Percentage of samples per population passing heterozygosity_rate: False: Pass metric, True: Fail metric', )"
   ]
  },
  {
   "cell_type": "code",
   "execution_count": 47,
   "metadata": {},
   "outputs": [
    {
     "data": {
      "text/plain": [
       "cohort            fail_sample_qc.heterozygosity_rate\n",
       "BiB_part1         False                                  2294\n",
       "                  True                                     17\n",
       "BiB_part2         False                                   470\n",
       "                  True                                      3\n",
       "Birmingham_part1  False                                  1057\n",
       "                  True                                      4\n",
       "Birmingham_part2  False                                   433\n",
       "                  True                                     11\n",
       "DDD               False                                 32244\n",
       "                  True                                     94\n",
       "ELGH_part1        False                                  1645\n",
       "                  True                                      7\n",
       "ELGH_part3        False                                  1058\n",
       "                  True                                     30\n",
       "ELGH_part4        False                                  1062\n",
       "                  True                                      5\n",
       "ELGH_part5        False                                  1451\n",
       "                  True                                     17\n",
       "UKBB              False                                 49710\n",
       "                  True                                     20\n",
       "UK_10K_CHD        False                                  2022\n",
       "                  True                                     20\n",
       "Name: fail_sample_qc.heterozygosity_rate, dtype: int64"
      ]
     },
     "execution_count": 47,
     "metadata": {},
     "output_type": "execute_result"
    }
   ],
   "source": [
    "df_superpops.groupby(\"cohort\")[\"fail_sample_qc.heterozygosity_rate\"].value_counts()"
   ]
  },
  {
   "cell_type": "code",
   "execution_count": null,
   "metadata": {},
   "outputs": [],
   "source": [
    "for column in df_pops.columns():\n",
    "    a4_dims = (16.69,8.27)\n",
    "    fig, ax = plt.subplots(figsize=a4_dims)\n",
    "    plt.xticks(rotation=70)\n",
    "    ping=sns.barplot(x=(df_pops.groupby(\"pop\")[column].value_counts(normalize=True)*100).index, y=df_pops.groupby(\"pop\")[column].value_counts(normalize=True)*100)\n",
    "    for p in ping.patches:\n",
    "        ping.annotate(format(p.get_height(), '.2f'), (p.get_x() + p.get_width() / 2., p.get_height()), ha = 'center', va = 'center', xytext = (0, 10), textcoords = 'offset points')\n",
    "    ping.set(title = f'Percentage of samples per population passing {column}: False: Pass metric, True: Fail metric', )"
   ]
  },
  {
   "cell_type": "code",
   "execution_count": 30,
   "metadata": {},
   "outputs": [
    {
     "data": {
      "text/plain": [
       "pop\n",
       "African             569\n",
       "Bangladeshi        2687\n",
       "British           73963\n",
       "Caribbean          1351\n",
       "Chinese             479\n",
       "Indian              575\n",
       "Irish              1201\n",
       "Pakistani          9578\n",
       "White European     1841\n",
       "oth                1430\n",
       "Name: fail_sampleqc.n_deletion, dtype: int64"
      ]
     },
     "execution_count": 30,
     "metadata": {},
     "output_type": "execute_result"
    }
   ],
   "source": [
    "df_pops.groupby(\"pop\")[\"fail_sampleqc.n_deletion\"].count()"
   ]
  },
  {
   "cell_type": "code",
   "execution_count": null,
   "metadata": {},
   "outputs": [],
   "source": []
  },
  {
   "cell_type": "code",
   "execution_count": 8,
   "metadata": {},
   "outputs": [
    {
     "name": "stderr",
     "output_type": "stream",
     "text": [
      "2020-08-04 13:41:15 Hail: INFO: wrote matrix table with 988 rows and 93674 columns in 21200 partitions to hdfs://spark-master:9820//ddd-elgh-ukbb/Sanger_cohort_AKT_elgh_labels_sampleqc_populations.mt\n"
     ]
    }
   ],
   "source": [
    "mt=mt.annotate_cols(assigned_pop=pca_scores[mt.s].pop)\n",
    "mt=mt.annotate_cols(pca_scores=pca_scores[mt.s].pca_scores)\n",
    "mt=mt.annotate_cols(heterozygosity_rate=mt.sample_qc.n_het/mt.sample_qc.n_called)\n",
    "mt = mt.checkpoint(f\"{tmp_dir}/ddd-elgh-ukbb/Sanger_cohort_AKT_elgh_labels_sampleqc_populations.mt\", overwrite=True)"
   ]
  },
  {
   "cell_type": "code",
   "execution_count": 10,
   "metadata": {},
   "outputs": [],
   "source": [
    "mt =hl.read_matrix_table(f\"{temp_dir}/ddd-elgh-ukbb/Sanger_cohort_AKT_elgh_labels_sampleqc_populations.mt\")"
   ]
  },
  {
   "cell_type": "code",
   "execution_count": 14,
   "metadata": {},
   "outputs": [
    {
     "name": "stdout",
     "output_type": "stream",
     "text": [
      "----------------------------------------\n",
      "Global fields:\n",
      "    None\n",
      "----------------------------------------\n",
      "Column fields:\n",
      "    's': str\n",
      "    'cohort': str\n",
      "    'f_stat': float64\n",
      "    'is_female': bool\n",
      "    'sex': str\n",
      "    'data_type': str\n",
      "    'known_pop': str\n",
      "    'gVCF': str\n",
      "    'sample_qc': struct {\n",
      "        dp_stats: struct {\n",
      "            mean: float64, \n",
      "            stdev: float64, \n",
      "            min: float64, \n",
      "            max: float64\n",
      "        }, \n",
      "        gq_stats: struct {\n",
      "            mean: float64, \n",
      "            stdev: float64, \n",
      "            min: float64, \n",
      "            max: float64\n",
      "        }, \n",
      "        call_rate: float64, \n",
      "        n_called: int64, \n",
      "        n_not_called: int64, \n",
      "        n_filtered: int64, \n",
      "        n_hom_ref: int64, \n",
      "        n_het: int64, \n",
      "        n_hom_var: int64, \n",
      "        n_non_ref: int64, \n",
      "        n_singleton: int64, \n",
      "        n_snp: int64, \n",
      "        n_insertion: int64, \n",
      "        n_deletion: int64, \n",
      "        n_transition: int64, \n",
      "        n_transversion: int64, \n",
      "        n_star: int64, \n",
      "        r_ti_tv: float64, \n",
      "        r_het_hom_var: float64, \n",
      "        r_insertion_deletion: float64\n",
      "    }\n",
      "    'assigned_pop': str\n",
      "    'pca_scores': array<float64>\n",
      "    'heterozygosity_rate': float32\n",
      "----------------------------------------\n",
      "Row fields:\n",
      "    'locus': locus<GRCh38>\n",
      "    'alleles': array<str>\n",
      "    'rsid': str\n",
      "    'qual': float64\n",
      "    'filters': set<str>\n",
      "    'info': struct {\n",
      "        AC: array<int32>, \n",
      "        AF: array<float64>, \n",
      "        AN: int32, \n",
      "        AS_BaseQRankSum: array<float64>, \n",
      "        AS_FS: array<float64>, \n",
      "        AS_InbreedingCoeff: array<float64>, \n",
      "        AS_MQ: array<float64>, \n",
      "        AS_MQRankSum: array<float64>, \n",
      "        AS_QD: array<float64>, \n",
      "        AS_ReadPosRankSum: array<float64>, \n",
      "        AS_SOR: array<float64>, \n",
      "        BaseQRankSum: float64, \n",
      "        DB: bool, \n",
      "        DP: int32, \n",
      "        DS: bool, \n",
      "        END: int32, \n",
      "        ExcessHet: float64, \n",
      "        FS: float64, \n",
      "        InbreedingCoeff: float64, \n",
      "        MLEAC: array<int32>, \n",
      "        MLEAF: array<float64>, \n",
      "        MQ: float64, \n",
      "        MQRankSum: float64, \n",
      "        QD: float64, \n",
      "        RAW_MQandDP: array<int32>, \n",
      "        ReadPosRankSum: float64, \n",
      "        SOR: float64\n",
      "    }\n",
      "    'variant_QC_Hail': struct {\n",
      "        dp_stats: struct {\n",
      "            mean: float64, \n",
      "            stdev: float64, \n",
      "            min: float64, \n",
      "            max: float64\n",
      "        }, \n",
      "        gq_stats: struct {\n",
      "            mean: float64, \n",
      "            stdev: float64, \n",
      "            min: float64, \n",
      "            max: float64\n",
      "        }, \n",
      "        AC: array<int32>, \n",
      "        AF: array<float64>, \n",
      "        AN: int32, \n",
      "        homozygote_count: array<int32>, \n",
      "        call_rate: float64, \n",
      "        n_called: int64, \n",
      "        n_not_called: int64, \n",
      "        n_filtered: int64, \n",
      "        n_het: int64, \n",
      "        n_non_ref: int64, \n",
      "        het_freq_hwe: float64, \n",
      "        p_value_hwe: float64\n",
      "    }\n",
      "----------------------------------------\n",
      "Entry fields:\n",
      "    'AD': array<int32>\n",
      "    'DP': int32\n",
      "    'GQ': int32\n",
      "    'GT': call\n",
      "    'MIN_DP': int32\n",
      "    'PGT': call\n",
      "    'PID': str\n",
      "    'PL': array<int32>\n",
      "    'PS': int32\n",
      "    'RGQ': int32\n",
      "    'SB': array<int32>\n",
      "----------------------------------------\n",
      "Column key: ['s']\n",
      "Row key: ['locus', 'alleles']\n",
      "----------------------------------------\n"
     ]
    }
   ],
   "source": [
    "mt.describe()"
   ]
  },
  {
   "cell_type": "code",
   "execution_count": 3,
   "metadata": {},
   "outputs": [],
   "source": [
    "mt_elgh=mt.filter_cols(mt.cohort==\"ELGH_part1\")"
   ]
  },
  {
   "cell_type": "code",
   "execution_count": 15,
   "metadata": {},
   "outputs": [
    {
     "name": "stderr",
     "output_type": "stream",
     "text": [
      "2020-08-04 15:22:43 Hail: INFO: Coerced sorted dataset\n",
      "2020-08-04 15:22:50 Hail: INFO: merging 2 files totalling 14.4M...\n",
      "2020-08-04 15:22:50 Hail: INFO: while writing:\n",
      "    /opt/sanger.ac.uk/hgi/hail/tmp/ddd-elgh-ukbb/Sanger_cohorts_chr1-20-XY_populations_sampleqc.tsv.bgz\n",
      "  merge time: 68.182ms\n"
     ]
    }
   ],
   "source": [
    "mt_cols=mt.cols()\n",
    "mt_cols.select(mt_cols.cohort,mt_cols.known_pop, mt_cols.assigned_pop, mt_cols.heterozygosity_rate, mt_cols.pca_scores, mt_cols.sample_qc).flatten().export(f\"{temp_dir}/ddd-elgh-ukbb/Sanger_cohorts_chr1-20-XY_populations_sampleqc.tsv.bgz\", header=True)"
   ]
  },
  {
   "cell_type": "code",
   "execution_count": 16,
   "metadata": {},
   "outputs": [
    {
     "name": "stderr",
     "output_type": "stream",
     "text": [
      "/opt/sanger.ac.uk/hgi/anaconda3/lib/python3.7/site-packages/IPython/core/interactiveshell.py:3057: DtypeWarning: Columns (2) have mixed types. Specify dtype option on import or set low_memory=False.\n",
      "  interactivity=interactivity, compiler=compiler, result=result)\n"
     ]
    }
   ],
   "source": [
    "df=pd.read_csv(\"/opt/sanger.ac.uk/hgi/hail/tmp/ddd-elgh-ukbb/Sanger_cohorts_chr1-20-XY_populations_sampleqc.tsv.bgz\", compression=\"gzip\", sep=\"\\t\")"
   ]
  },
  {
   "cell_type": "code",
   "execution_count": 17,
   "metadata": {},
   "outputs": [
    {
     "data": {
      "text/html": [
       "<div>\n",
       "<style scoped>\n",
       "    .dataframe tbody tr th:only-of-type {\n",
       "        vertical-align: middle;\n",
       "    }\n",
       "\n",
       "    .dataframe tbody tr th {\n",
       "        vertical-align: top;\n",
       "    }\n",
       "\n",
       "    .dataframe thead th {\n",
       "        text-align: right;\n",
       "    }\n",
       "</style>\n",
       "<table border=\"1\" class=\"dataframe\">\n",
       "  <thead>\n",
       "    <tr style=\"text-align: right;\">\n",
       "      <th></th>\n",
       "      <th>s</th>\n",
       "      <th>cohort</th>\n",
       "      <th>known_pop</th>\n",
       "      <th>assigned_pop</th>\n",
       "      <th>heterozygosity_rate</th>\n",
       "      <th>pca_scores</th>\n",
       "      <th>sample_qc.dp_stats.mean</th>\n",
       "      <th>sample_qc.dp_stats.stdev</th>\n",
       "      <th>sample_qc.dp_stats.min</th>\n",
       "      <th>sample_qc.dp_stats.max</th>\n",
       "      <th>...</th>\n",
       "      <th>sample_qc.n_singleton</th>\n",
       "      <th>sample_qc.n_snp</th>\n",
       "      <th>sample_qc.n_insertion</th>\n",
       "      <th>sample_qc.n_deletion</th>\n",
       "      <th>sample_qc.n_transition</th>\n",
       "      <th>sample_qc.n_transversion</th>\n",
       "      <th>sample_qc.n_star</th>\n",
       "      <th>sample_qc.r_ti_tv</th>\n",
       "      <th>sample_qc.r_het_hom_var</th>\n",
       "      <th>sample_qc.r_insertion_deletion</th>\n",
       "    </tr>\n",
       "  </thead>\n",
       "  <tbody>\n",
       "    <tr>\n",
       "      <th>0</th>\n",
       "      <td>EGAN00001006259</td>\n",
       "      <td>UK_10K_CHD</td>\n",
       "      <td>NaN</td>\n",
       "      <td>Pakistani</td>\n",
       "      <td>0.293522</td>\n",
       "      <td>[0.26055383937107507,-0.061895365107862386,0.0...</td>\n",
       "      <td>64.103</td>\n",
       "      <td>66.453</td>\n",
       "      <td>2.0</td>\n",
       "      <td>746.0</td>\n",
       "      <td>...</td>\n",
       "      <td>0</td>\n",
       "      <td>652</td>\n",
       "      <td>0</td>\n",
       "      <td>0</td>\n",
       "      <td>502</td>\n",
       "      <td>150</td>\n",
       "      <td>0</td>\n",
       "      <td>3.3467</td>\n",
       "      <td>1.6022</td>\n",
       "      <td>NaN</td>\n",
       "    </tr>\n",
       "    <tr>\n",
       "      <th>1</th>\n",
       "      <td>EGAN00001006260</td>\n",
       "      <td>UK_10K_CHD</td>\n",
       "      <td>NaN</td>\n",
       "      <td>Pakistani</td>\n",
       "      <td>0.310729</td>\n",
       "      <td>[0.2556622383832145,-0.05808822651732406,0.012...</td>\n",
       "      <td>69.463</td>\n",
       "      <td>71.017</td>\n",
       "      <td>4.0</td>\n",
       "      <td>544.0</td>\n",
       "      <td>...</td>\n",
       "      <td>0</td>\n",
       "      <td>653</td>\n",
       "      <td>0</td>\n",
       "      <td>0</td>\n",
       "      <td>510</td>\n",
       "      <td>143</td>\n",
       "      <td>0</td>\n",
       "      <td>3.5664</td>\n",
       "      <td>1.7746</td>\n",
       "      <td>NaN</td>\n",
       "    </tr>\n",
       "    <tr>\n",
       "      <th>2</th>\n",
       "      <td>EGAN00001006261</td>\n",
       "      <td>UK_10K_CHD</td>\n",
       "      <td>NaN</td>\n",
       "      <td>oth</td>\n",
       "      <td>0.267477</td>\n",
       "      <td>[0.3136070201393876,-0.07682941957992921,0.001...</td>\n",
       "      <td>64.884</td>\n",
       "      <td>63.085</td>\n",
       "      <td>1.0</td>\n",
       "      <td>561.0</td>\n",
       "      <td>...</td>\n",
       "      <td>0</td>\n",
       "      <td>650</td>\n",
       "      <td>0</td>\n",
       "      <td>0</td>\n",
       "      <td>509</td>\n",
       "      <td>141</td>\n",
       "      <td>0</td>\n",
       "      <td>3.6099</td>\n",
       "      <td>1.3679</td>\n",
       "      <td>NaN</td>\n",
       "    </tr>\n",
       "    <tr>\n",
       "      <th>3</th>\n",
       "      <td>EGAN00001006263</td>\n",
       "      <td>UK_10K_CHD</td>\n",
       "      <td>NaN</td>\n",
       "      <td>Pakistani</td>\n",
       "      <td>0.276316</td>\n",
       "      <td>[0.22770921291170726,-0.07267604289308711,0.00...</td>\n",
       "      <td>63.851</td>\n",
       "      <td>60.789</td>\n",
       "      <td>3.0</td>\n",
       "      <td>528.0</td>\n",
       "      <td>...</td>\n",
       "      <td>0</td>\n",
       "      <td>667</td>\n",
       "      <td>0</td>\n",
       "      <td>0</td>\n",
       "      <td>518</td>\n",
       "      <td>149</td>\n",
       "      <td>0</td>\n",
       "      <td>3.4765</td>\n",
       "      <td>1.3858</td>\n",
       "      <td>NaN</td>\n",
       "    </tr>\n",
       "    <tr>\n",
       "      <th>4</th>\n",
       "      <td>EGAN00001006264</td>\n",
       "      <td>UK_10K_CHD</td>\n",
       "      <td>NaN</td>\n",
       "      <td>Pakistani</td>\n",
       "      <td>0.291498</td>\n",
       "      <td>[0.19424028385558978,-0.05142224125109077,-0.0...</td>\n",
       "      <td>58.333</td>\n",
       "      <td>53.885</td>\n",
       "      <td>1.0</td>\n",
       "      <td>480.0</td>\n",
       "      <td>...</td>\n",
       "      <td>0</td>\n",
       "      <td>636</td>\n",
       "      <td>0</td>\n",
       "      <td>0</td>\n",
       "      <td>507</td>\n",
       "      <td>129</td>\n",
       "      <td>0</td>\n",
       "      <td>3.9302</td>\n",
       "      <td>1.6552</td>\n",
       "      <td>NaN</td>\n",
       "    </tr>\n",
       "  </tbody>\n",
       "</table>\n",
       "<p>5 rows × 32 columns</p>\n",
       "</div>"
      ],
      "text/plain": [
       "                 s      cohort known_pop assigned_pop  heterozygosity_rate  \\\n",
       "0  EGAN00001006259  UK_10K_CHD       NaN    Pakistani             0.293522   \n",
       "1  EGAN00001006260  UK_10K_CHD       NaN    Pakistani             0.310729   \n",
       "2  EGAN00001006261  UK_10K_CHD       NaN          oth             0.267477   \n",
       "3  EGAN00001006263  UK_10K_CHD       NaN    Pakistani             0.276316   \n",
       "4  EGAN00001006264  UK_10K_CHD       NaN    Pakistani             0.291498   \n",
       "\n",
       "                                          pca_scores  sample_qc.dp_stats.mean  \\\n",
       "0  [0.26055383937107507,-0.061895365107862386,0.0...                   64.103   \n",
       "1  [0.2556622383832145,-0.05808822651732406,0.012...                   69.463   \n",
       "2  [0.3136070201393876,-0.07682941957992921,0.001...                   64.884   \n",
       "3  [0.22770921291170726,-0.07267604289308711,0.00...                   63.851   \n",
       "4  [0.19424028385558978,-0.05142224125109077,-0.0...                   58.333   \n",
       "\n",
       "   sample_qc.dp_stats.stdev  sample_qc.dp_stats.min  sample_qc.dp_stats.max  \\\n",
       "0                    66.453                     2.0                   746.0   \n",
       "1                    71.017                     4.0                   544.0   \n",
       "2                    63.085                     1.0                   561.0   \n",
       "3                    60.789                     3.0                   528.0   \n",
       "4                    53.885                     1.0                   480.0   \n",
       "\n",
       "   ...  sample_qc.n_singleton  sample_qc.n_snp  sample_qc.n_insertion  \\\n",
       "0  ...                      0              652                      0   \n",
       "1  ...                      0              653                      0   \n",
       "2  ...                      0              650                      0   \n",
       "3  ...                      0              667                      0   \n",
       "4  ...                      0              636                      0   \n",
       "\n",
       "   sample_qc.n_deletion  sample_qc.n_transition  sample_qc.n_transversion  \\\n",
       "0                     0                     502                       150   \n",
       "1                     0                     510                       143   \n",
       "2                     0                     509                       141   \n",
       "3                     0                     518                       149   \n",
       "4                     0                     507                       129   \n",
       "\n",
       "   sample_qc.n_star  sample_qc.r_ti_tv  sample_qc.r_het_hom_var  \\\n",
       "0                 0             3.3467                   1.6022   \n",
       "1                 0             3.5664                   1.7746   \n",
       "2                 0             3.6099                   1.3679   \n",
       "3                 0             3.4765                   1.3858   \n",
       "4                 0             3.9302                   1.6552   \n",
       "\n",
       "   sample_qc.r_insertion_deletion  \n",
       "0                             NaN  \n",
       "1                             NaN  \n",
       "2                             NaN  \n",
       "3                             NaN  \n",
       "4                             NaN  \n",
       "\n",
       "[5 rows x 32 columns]"
      ]
     },
     "execution_count": 17,
     "metadata": {},
     "output_type": "execute_result"
    }
   ],
   "source": [
    "df.head()"
   ]
  },
  {
   "cell_type": "code",
   "execution_count": null,
   "metadata": {},
   "outputs": [],
   "source": []
  },
  {
   "cell_type": "code",
   "execution_count": 59,
   "metadata": {},
   "outputs": [],
   "source": [
    "df_elgh=df[df['cohort']=='ELGH_part1']"
   ]
  },
  {
   "cell_type": "code",
   "execution_count": 60,
   "metadata": {},
   "outputs": [
    {
     "data": {
      "text/html": [
       "<div>\n",
       "<style scoped>\n",
       "    .dataframe tbody tr th:only-of-type {\n",
       "        vertical-align: middle;\n",
       "    }\n",
       "\n",
       "    .dataframe tbody tr th {\n",
       "        vertical-align: top;\n",
       "    }\n",
       "\n",
       "    .dataframe thead th {\n",
       "        text-align: right;\n",
       "    }\n",
       "</style>\n",
       "<table border=\"1\" class=\"dataframe\">\n",
       "  <thead>\n",
       "    <tr style=\"text-align: right;\">\n",
       "      <th></th>\n",
       "      <th>s</th>\n",
       "      <th>cohort</th>\n",
       "      <th>known_pop</th>\n",
       "      <th>assigned_pop</th>\n",
       "      <th>pca_scores</th>\n",
       "      <th>sample_qc.dp_stats.mean</th>\n",
       "      <th>sample_qc.dp_stats.stdev</th>\n",
       "      <th>sample_qc.dp_stats.min</th>\n",
       "      <th>sample_qc.dp_stats.max</th>\n",
       "      <th>sample_qc.gq_stats.mean</th>\n",
       "      <th>...</th>\n",
       "      <th>sample_qc.n_singleton</th>\n",
       "      <th>sample_qc.n_snp</th>\n",
       "      <th>sample_qc.n_insertion</th>\n",
       "      <th>sample_qc.n_deletion</th>\n",
       "      <th>sample_qc.n_transition</th>\n",
       "      <th>sample_qc.n_transversion</th>\n",
       "      <th>sample_qc.n_star</th>\n",
       "      <th>sample_qc.r_ti_tv</th>\n",
       "      <th>sample_qc.r_het_hom_var</th>\n",
       "      <th>sample_qc.r_insertion_deletion</th>\n",
       "    </tr>\n",
       "  </thead>\n",
       "  <tbody>\n",
       "    <tr>\n",
       "      <th>31012</th>\n",
       "      <td>EGAN00001345516</td>\n",
       "      <td>ELGH_part1</td>\n",
       "      <td>Pakistani</td>\n",
       "      <td>Pakistani</td>\n",
       "      <td>[0.2901123815234139,-0.09055134736592954,0.049...</td>\n",
       "      <td>29.209</td>\n",
       "      <td>15.691</td>\n",
       "      <td>1.0</td>\n",
       "      <td>112.0</td>\n",
       "      <td>76.872</td>\n",
       "      <td>...</td>\n",
       "      <td>0</td>\n",
       "      <td>640</td>\n",
       "      <td>0</td>\n",
       "      <td>0</td>\n",
       "      <td>503</td>\n",
       "      <td>137</td>\n",
       "      <td>0</td>\n",
       "      <td>3.6715</td>\n",
       "      <td>1.4595</td>\n",
       "      <td>NaN</td>\n",
       "    </tr>\n",
       "    <tr>\n",
       "      <th>31013</th>\n",
       "      <td>EGAN00001345518</td>\n",
       "      <td>ELGH_part1</td>\n",
       "      <td>Bangladeshi</td>\n",
       "      <td>Bangladeshi</td>\n",
       "      <td>[0.3285731948646155,-0.09504544341124381,-0.07...</td>\n",
       "      <td>36.507</td>\n",
       "      <td>19.605</td>\n",
       "      <td>4.0</td>\n",
       "      <td>136.0</td>\n",
       "      <td>85.805</td>\n",
       "      <td>...</td>\n",
       "      <td>0</td>\n",
       "      <td>636</td>\n",
       "      <td>0</td>\n",
       "      <td>0</td>\n",
       "      <td>503</td>\n",
       "      <td>133</td>\n",
       "      <td>0</td>\n",
       "      <td>3.7820</td>\n",
       "      <td>1.7193</td>\n",
       "      <td>NaN</td>\n",
       "    </tr>\n",
       "    <tr>\n",
       "      <th>31014</th>\n",
       "      <td>EGAN00001345519</td>\n",
       "      <td>ELGH_part1</td>\n",
       "      <td>Pakistani</td>\n",
       "      <td>Pakistani</td>\n",
       "      <td>[0.22671856985358185,-0.09365145658816978,0.04...</td>\n",
       "      <td>38.935</td>\n",
       "      <td>21.840</td>\n",
       "      <td>3.0</td>\n",
       "      <td>170.0</td>\n",
       "      <td>87.650</td>\n",
       "      <td>...</td>\n",
       "      <td>0</td>\n",
       "      <td>625</td>\n",
       "      <td>0</td>\n",
       "      <td>0</td>\n",
       "      <td>492</td>\n",
       "      <td>133</td>\n",
       "      <td>0</td>\n",
       "      <td>3.6992</td>\n",
       "      <td>2.0064</td>\n",
       "      <td>NaN</td>\n",
       "    </tr>\n",
       "    <tr>\n",
       "      <th>31015</th>\n",
       "      <td>EGAN00001345520</td>\n",
       "      <td>ELGH_part1</td>\n",
       "      <td>Pakistani</td>\n",
       "      <td>Pakistani</td>\n",
       "      <td>[0.28513650564985943,-0.10573831982407111,0.08...</td>\n",
       "      <td>33.134</td>\n",
       "      <td>17.439</td>\n",
       "      <td>3.0</td>\n",
       "      <td>149.0</td>\n",
       "      <td>82.473</td>\n",
       "      <td>...</td>\n",
       "      <td>0</td>\n",
       "      <td>662</td>\n",
       "      <td>0</td>\n",
       "      <td>0</td>\n",
       "      <td>512</td>\n",
       "      <td>150</td>\n",
       "      <td>0</td>\n",
       "      <td>3.4133</td>\n",
       "      <td>1.3604</td>\n",
       "      <td>NaN</td>\n",
       "    </tr>\n",
       "    <tr>\n",
       "      <th>31016</th>\n",
       "      <td>EGAN00001345521</td>\n",
       "      <td>ELGH_part1</td>\n",
       "      <td>Bangladeshi</td>\n",
       "      <td>Bangladeshi</td>\n",
       "      <td>[0.3765796750881471,-0.03810946596685427,0.009...</td>\n",
       "      <td>38.385</td>\n",
       "      <td>20.367</td>\n",
       "      <td>3.0</td>\n",
       "      <td>154.0</td>\n",
       "      <td>87.471</td>\n",
       "      <td>...</td>\n",
       "      <td>0</td>\n",
       "      <td>627</td>\n",
       "      <td>0</td>\n",
       "      <td>0</td>\n",
       "      <td>490</td>\n",
       "      <td>137</td>\n",
       "      <td>0</td>\n",
       "      <td>3.5766</td>\n",
       "      <td>1.9188</td>\n",
       "      <td>NaN</td>\n",
       "    </tr>\n",
       "  </tbody>\n",
       "</table>\n",
       "<p>5 rows × 31 columns</p>\n",
       "</div>"
      ],
      "text/plain": [
       "                     s      cohort    known_pop assigned_pop  \\\n",
       "31012  EGAN00001345516  ELGH_part1    Pakistani    Pakistani   \n",
       "31013  EGAN00001345518  ELGH_part1  Bangladeshi  Bangladeshi   \n",
       "31014  EGAN00001345519  ELGH_part1    Pakistani    Pakistani   \n",
       "31015  EGAN00001345520  ELGH_part1    Pakistani    Pakistani   \n",
       "31016  EGAN00001345521  ELGH_part1  Bangladeshi  Bangladeshi   \n",
       "\n",
       "                                              pca_scores  \\\n",
       "31012  [0.2901123815234139,-0.09055134736592954,0.049...   \n",
       "31013  [0.3285731948646155,-0.09504544341124381,-0.07...   \n",
       "31014  [0.22671856985358185,-0.09365145658816978,0.04...   \n",
       "31015  [0.28513650564985943,-0.10573831982407111,0.08...   \n",
       "31016  [0.3765796750881471,-0.03810946596685427,0.009...   \n",
       "\n",
       "       sample_qc.dp_stats.mean  sample_qc.dp_stats.stdev  \\\n",
       "31012                   29.209                    15.691   \n",
       "31013                   36.507                    19.605   \n",
       "31014                   38.935                    21.840   \n",
       "31015                   33.134                    17.439   \n",
       "31016                   38.385                    20.367   \n",
       "\n",
       "       sample_qc.dp_stats.min  sample_qc.dp_stats.max  \\\n",
       "31012                     1.0                   112.0   \n",
       "31013                     4.0                   136.0   \n",
       "31014                     3.0                   170.0   \n",
       "31015                     3.0                   149.0   \n",
       "31016                     3.0                   154.0   \n",
       "\n",
       "       sample_qc.gq_stats.mean  ...  sample_qc.n_singleton  sample_qc.n_snp  \\\n",
       "31012                   76.872  ...                      0              640   \n",
       "31013                   85.805  ...                      0              636   \n",
       "31014                   87.650  ...                      0              625   \n",
       "31015                   82.473  ...                      0              662   \n",
       "31016                   87.471  ...                      0              627   \n",
       "\n",
       "       sample_qc.n_insertion  sample_qc.n_deletion  sample_qc.n_transition  \\\n",
       "31012                      0                     0                     503   \n",
       "31013                      0                     0                     503   \n",
       "31014                      0                     0                     492   \n",
       "31015                      0                     0                     512   \n",
       "31016                      0                     0                     490   \n",
       "\n",
       "       sample_qc.n_transversion  sample_qc.n_star  sample_qc.r_ti_tv  \\\n",
       "31012                       137                 0             3.6715   \n",
       "31013                       133                 0             3.7820   \n",
       "31014                       133                 0             3.6992   \n",
       "31015                       150                 0             3.4133   \n",
       "31016                       137                 0             3.5766   \n",
       "\n",
       "       sample_qc.r_het_hom_var  sample_qc.r_insertion_deletion  \n",
       "31012                   1.4595                             NaN  \n",
       "31013                   1.7193                             NaN  \n",
       "31014                   2.0064                             NaN  \n",
       "31015                   1.3604                             NaN  \n",
       "31016                   1.9188                             NaN  \n",
       "\n",
       "[5 rows x 31 columns]"
      ]
     },
     "execution_count": 60,
     "metadata": {},
     "output_type": "execute_result"
    }
   ],
   "source": [
    "df_elgh.head()"
   ]
  },
  {
   "cell_type": "code",
   "execution_count": 61,
   "metadata": {},
   "outputs": [
    {
     "data": {
      "text/plain": [
       "(93674, 31)"
      ]
     },
     "execution_count": 61,
     "metadata": {},
     "output_type": "execute_result"
    }
   ],
   "source": [
    "df.shape"
   ]
  },
  {
   "cell_type": "code",
   "execution_count": 62,
   "metadata": {},
   "outputs": [
    {
     "data": {
      "text/html": [
       "<div>\n",
       "<style scoped>\n",
       "    .dataframe tbody tr th:only-of-type {\n",
       "        vertical-align: middle;\n",
       "    }\n",
       "\n",
       "    .dataframe tbody tr th {\n",
       "        vertical-align: top;\n",
       "    }\n",
       "\n",
       "    .dataframe thead th {\n",
       "        text-align: right;\n",
       "    }\n",
       "</style>\n",
       "<table border=\"1\" class=\"dataframe\">\n",
       "  <thead>\n",
       "    <tr style=\"text-align: right;\">\n",
       "      <th></th>\n",
       "      <th>s</th>\n",
       "      <th>cohort</th>\n",
       "      <th>known_pop</th>\n",
       "      <th>assigned_pop</th>\n",
       "      <th>pca_scores</th>\n",
       "      <th>sample_qc.dp_stats.mean</th>\n",
       "      <th>sample_qc.dp_stats.stdev</th>\n",
       "      <th>sample_qc.dp_stats.min</th>\n",
       "      <th>sample_qc.dp_stats.max</th>\n",
       "      <th>sample_qc.gq_stats.mean</th>\n",
       "      <th>...</th>\n",
       "      <th>sample_qc.n_singleton</th>\n",
       "      <th>sample_qc.n_snp</th>\n",
       "      <th>sample_qc.n_insertion</th>\n",
       "      <th>sample_qc.n_deletion</th>\n",
       "      <th>sample_qc.n_transition</th>\n",
       "      <th>sample_qc.n_transversion</th>\n",
       "      <th>sample_qc.n_star</th>\n",
       "      <th>sample_qc.r_ti_tv</th>\n",
       "      <th>sample_qc.r_het_hom_var</th>\n",
       "      <th>sample_qc.r_insertion_deletion</th>\n",
       "    </tr>\n",
       "  </thead>\n",
       "  <tbody>\n",
       "    <tr>\n",
       "      <th>0</th>\n",
       "      <td>EGAN00001006259</td>\n",
       "      <td>UK_10K_CHD</td>\n",
       "      <td>NaN</td>\n",
       "      <td>Pakistani</td>\n",
       "      <td>[0.26055383937107507,-0.061895365107862386,0.0...</td>\n",
       "      <td>64.103</td>\n",
       "      <td>66.453</td>\n",
       "      <td>2.0</td>\n",
       "      <td>746.0</td>\n",
       "      <td>91.657</td>\n",
       "      <td>...</td>\n",
       "      <td>0</td>\n",
       "      <td>652</td>\n",
       "      <td>0</td>\n",
       "      <td>0</td>\n",
       "      <td>502</td>\n",
       "      <td>150</td>\n",
       "      <td>0</td>\n",
       "      <td>3.3467</td>\n",
       "      <td>1.6022</td>\n",
       "      <td>NaN</td>\n",
       "    </tr>\n",
       "    <tr>\n",
       "      <th>1</th>\n",
       "      <td>EGAN00001006260</td>\n",
       "      <td>UK_10K_CHD</td>\n",
       "      <td>NaN</td>\n",
       "      <td>Pakistani</td>\n",
       "      <td>[0.2556622383832145,-0.05808822651732406,0.012...</td>\n",
       "      <td>69.463</td>\n",
       "      <td>71.017</td>\n",
       "      <td>4.0</td>\n",
       "      <td>544.0</td>\n",
       "      <td>93.415</td>\n",
       "      <td>...</td>\n",
       "      <td>0</td>\n",
       "      <td>653</td>\n",
       "      <td>0</td>\n",
       "      <td>0</td>\n",
       "      <td>510</td>\n",
       "      <td>143</td>\n",
       "      <td>0</td>\n",
       "      <td>3.5664</td>\n",
       "      <td>1.7746</td>\n",
       "      <td>NaN</td>\n",
       "    </tr>\n",
       "    <tr>\n",
       "      <th>2</th>\n",
       "      <td>EGAN00001006261</td>\n",
       "      <td>UK_10K_CHD</td>\n",
       "      <td>NaN</td>\n",
       "      <td>oth</td>\n",
       "      <td>[0.3136070201393876,-0.07682941957992921,0.001...</td>\n",
       "      <td>64.884</td>\n",
       "      <td>63.085</td>\n",
       "      <td>1.0</td>\n",
       "      <td>561.0</td>\n",
       "      <td>93.014</td>\n",
       "      <td>...</td>\n",
       "      <td>0</td>\n",
       "      <td>650</td>\n",
       "      <td>0</td>\n",
       "      <td>0</td>\n",
       "      <td>509</td>\n",
       "      <td>141</td>\n",
       "      <td>0</td>\n",
       "      <td>3.6099</td>\n",
       "      <td>1.3679</td>\n",
       "      <td>NaN</td>\n",
       "    </tr>\n",
       "    <tr>\n",
       "      <th>3</th>\n",
       "      <td>EGAN00001006263</td>\n",
       "      <td>UK_10K_CHD</td>\n",
       "      <td>NaN</td>\n",
       "      <td>Pakistani</td>\n",
       "      <td>[0.22770921291170726,-0.07267604289308711,0.00...</td>\n",
       "      <td>63.851</td>\n",
       "      <td>60.789</td>\n",
       "      <td>3.0</td>\n",
       "      <td>528.0</td>\n",
       "      <td>92.908</td>\n",
       "      <td>...</td>\n",
       "      <td>0</td>\n",
       "      <td>667</td>\n",
       "      <td>0</td>\n",
       "      <td>0</td>\n",
       "      <td>518</td>\n",
       "      <td>149</td>\n",
       "      <td>0</td>\n",
       "      <td>3.4765</td>\n",
       "      <td>1.3858</td>\n",
       "      <td>NaN</td>\n",
       "    </tr>\n",
       "    <tr>\n",
       "      <th>4</th>\n",
       "      <td>EGAN00001006264</td>\n",
       "      <td>UK_10K_CHD</td>\n",
       "      <td>NaN</td>\n",
       "      <td>Pakistani</td>\n",
       "      <td>[0.19424028385558978,-0.05142224125109077,-0.0...</td>\n",
       "      <td>58.333</td>\n",
       "      <td>53.885</td>\n",
       "      <td>1.0</td>\n",
       "      <td>480.0</td>\n",
       "      <td>91.023</td>\n",
       "      <td>...</td>\n",
       "      <td>0</td>\n",
       "      <td>636</td>\n",
       "      <td>0</td>\n",
       "      <td>0</td>\n",
       "      <td>507</td>\n",
       "      <td>129</td>\n",
       "      <td>0</td>\n",
       "      <td>3.9302</td>\n",
       "      <td>1.6552</td>\n",
       "      <td>NaN</td>\n",
       "    </tr>\n",
       "  </tbody>\n",
       "</table>\n",
       "<p>5 rows × 31 columns</p>\n",
       "</div>"
      ],
      "text/plain": [
       "                 s      cohort known_pop assigned_pop  \\\n",
       "0  EGAN00001006259  UK_10K_CHD       NaN    Pakistani   \n",
       "1  EGAN00001006260  UK_10K_CHD       NaN    Pakistani   \n",
       "2  EGAN00001006261  UK_10K_CHD       NaN          oth   \n",
       "3  EGAN00001006263  UK_10K_CHD       NaN    Pakistani   \n",
       "4  EGAN00001006264  UK_10K_CHD       NaN    Pakistani   \n",
       "\n",
       "                                          pca_scores  sample_qc.dp_stats.mean  \\\n",
       "0  [0.26055383937107507,-0.061895365107862386,0.0...                   64.103   \n",
       "1  [0.2556622383832145,-0.05808822651732406,0.012...                   69.463   \n",
       "2  [0.3136070201393876,-0.07682941957992921,0.001...                   64.884   \n",
       "3  [0.22770921291170726,-0.07267604289308711,0.00...                   63.851   \n",
       "4  [0.19424028385558978,-0.05142224125109077,-0.0...                   58.333   \n",
       "\n",
       "   sample_qc.dp_stats.stdev  sample_qc.dp_stats.min  sample_qc.dp_stats.max  \\\n",
       "0                    66.453                     2.0                   746.0   \n",
       "1                    71.017                     4.0                   544.0   \n",
       "2                    63.085                     1.0                   561.0   \n",
       "3                    60.789                     3.0                   528.0   \n",
       "4                    53.885                     1.0                   480.0   \n",
       "\n",
       "   sample_qc.gq_stats.mean  ...  sample_qc.n_singleton  sample_qc.n_snp  \\\n",
       "0                   91.657  ...                      0              652   \n",
       "1                   93.415  ...                      0              653   \n",
       "2                   93.014  ...                      0              650   \n",
       "3                   92.908  ...                      0              667   \n",
       "4                   91.023  ...                      0              636   \n",
       "\n",
       "   sample_qc.n_insertion  sample_qc.n_deletion  sample_qc.n_transition  \\\n",
       "0                      0                     0                     502   \n",
       "1                      0                     0                     510   \n",
       "2                      0                     0                     509   \n",
       "3                      0                     0                     518   \n",
       "4                      0                     0                     507   \n",
       "\n",
       "   sample_qc.n_transversion  sample_qc.n_star  sample_qc.r_ti_tv  \\\n",
       "0                       150                 0             3.3467   \n",
       "1                       143                 0             3.5664   \n",
       "2                       141                 0             3.6099   \n",
       "3                       149                 0             3.4765   \n",
       "4                       129                 0             3.9302   \n",
       "\n",
       "   sample_qc.r_het_hom_var  sample_qc.r_insertion_deletion  \n",
       "0                   1.6022                             NaN  \n",
       "1                   1.7746                             NaN  \n",
       "2                   1.3679                             NaN  \n",
       "3                   1.3858                             NaN  \n",
       "4                   1.6552                             NaN  \n",
       "\n",
       "[5 rows x 31 columns]"
      ]
     },
     "execution_count": 62,
     "metadata": {},
     "output_type": "execute_result"
    }
   ],
   "source": [
    "df.head()"
   ]
  },
  {
   "cell_type": "code",
   "execution_count": 70,
   "metadata": {},
   "outputs": [
    {
     "data": {
      "text/plain": [
       "British                       73594\n",
       "Pakistani                      9220\n",
       "oth                            2575\n",
       "Bangladeshi                    2519\n",
       "Any other white background     1394\n",
       "Irish                          1180\n",
       "Caribbean                       868\n",
       "Other ethnic group              565\n",
       "Indian                          557\n",
       "African                         366\n",
       "Chinese                         318\n",
       "Any other Asian background      157\n",
       "White and Black Caribbean       107\n",
       "Any other mixed background       90\n",
       "White and Asian                  87\n",
       "White and Black African          34\n",
       "White                            28\n",
       "Any other Black background       10\n",
       "Black or Black British            3\n",
       "Asian or Asian British            1\n",
       "Mixed                             1\n",
       "Name: assigned_pop, dtype: int64"
      ]
     },
     "execution_count": 70,
     "metadata": {},
     "output_type": "execute_result"
    }
   ],
   "source": [
    "df.assigned_pop.value_counts()\n"
   ]
  },
  {
   "cell_type": "code",
   "execution_count": 19,
   "metadata": {},
   "outputs": [],
   "source": [
    "df_british=df.loc[df['assigned_pop']==\"British\"]\n",
    "df_irish=df.loc[df['assigned_pop']==\"Irish\"]\n",
    "df_pakistani=df.loc[df['assigned_pop']==\"Pakistani\"]\n",
    "df_bangladeshi=df.loc[df['assigned_pop']==\"Bangladeshi\"]\n",
    "df_indian=df.loc[df['assigned_pop']==\"Indian\"]\n",
    "df_other_white=df.loc[df['assigned_pop']==\"Any other white background\"]\n",
    "df_african=df.loc[df['assigned_pop']==\"African\"]\n",
    "df_chinese=df.loc[df['assigned_pop']==\"Chinese\"]\n",
    "df_caribbean=df.loc[df['assigned_pop']==\"Caribbean\"]\n",
    "df_oth = df.loc[df['assigned_pop']==\"oth\"]"
   ]
  },
  {
   "cell_type": "code",
   "execution_count": 22,
   "metadata": {},
   "outputs": [
    {
     "name": "stdout",
     "output_type": "stream",
     "text": [
      "British ks test vs Irish\n",
      "Ks_2sampResult(statistic=0.02915464276518487, pvalue=0.276965810677958)\n"
     ]
    },
    {
     "data": {
      "text/plain": [
       "<matplotlib.legend.Legend at 0x7f9f1faec940>"
      ]
     },
     "execution_count": 22,
     "metadata": {},
     "output_type": "execute_result"
    },
    {
     "data": {
      "image/png": "[encoded data removed]",
      "text/plain": [
       "<Figure size 864x504 with 2 Axes>"
      ]
     },
     "metadata": {
      "needs_background": "light"
     },
     "output_type": "display_data"
    }
   ],
   "source": [
    "#British vs Irish\n",
    "\n",
    "pop1=\"British\"\n",
    "pop2=\"Irish\"\n",
    "df1=df_british\n",
    "df2=df_irish\n",
    "print(f\"{pop1} ks test vs {pop2}\")\n",
    "print(stats.ks_2samp(df1['heterozygosity_rate'], df2['heterozygosity_rate']))\n",
    "\n",
    "fig, ax = plt.subplots(1, 2, sharex=False, sharey=False, figsize=(12,7))\n",
    "ax = ax.ravel() \n",
    "#ax[0].autoscale(True)\n",
    "\n",
    "ax[0].hist(df1['heterozygosity_rate'], alpha=0.5, label=pop1)\n",
    "ax[0].hist(df2['heterozygosity_rate'], alpha=0.5, label=pop2)\n",
    "ax[0].set_title(\"heterozygosity_rate\")\n",
    "ax[0].legend(loc='upper left')\n",
    "\n",
    "ax[1].axis([200,400,0,1000])\n",
    "ax[1].hist(df1['heterozygosity_rate'], alpha=0.5, label=pop1)\n",
    "ax[1].hist(df2['heterozygosity_rate'], alpha=0.5, label=pop2)\n",
    "ax[1].set_title(\"heterozygosity_rate\")\n",
    "ax[1].legend(loc='upper left')"
   ]
  },
  {
   "cell_type": "code",
   "execution_count": 93,
   "metadata": {},
   "outputs": [
    {
     "name": "stdout",
     "output_type": "stream",
     "text": [
      "Irish ks test vs Other White\n",
      "Ks_2sampResult(statistic=0.03372808404056124, pvalue=0.4484406455424781)\n"
     ]
    },
    {
     "data": {
      "text/plain": [
       "<matplotlib.legend.Legend at 0x7fc32c84a630>"
      ]
     },
     "execution_count": 93,
     "metadata": {},
     "output_type": "execute_result"
    },
    {
     "data": {
      "image/png": "[encoded data removed]",
      "text/plain": [
       "<Figure size 864x504 with 2 Axes>"
      ]
     },
     "metadata": {
      "needs_background": "light"
     },
     "output_type": "display_data"
    }
   ],
   "source": [
    "#Irish vs other EUR\n",
    "df_other_white=df.loc[df['assigned_pop']==\"Any other white background\"]\n",
    "\n",
    "pop1=\"Irish\"\n",
    "pop2=\"Other White\"\n",
    "df1=df_irish\n",
    "df2=df_other_white\n",
    "print(f\"{pop1} ks test vs {pop2}\")\n",
    "print(stats.ks_2samp(df1['sample_qc.n_het'], df2['sample_qc.n_het']))\n",
    "\n",
    "fig, ax = plt.subplots(1, 2, sharex=False, sharey=False, figsize=(12,7))\n",
    "ax = ax.ravel() \n",
    "#ax[0].autoscale(True)\n",
    "\n",
    "ax[0].hist(df1['sample_qc.n_het'], alpha=0.5, label=pop1)\n",
    "ax[0].hist(df2['sample_qc.n_het'], alpha=0.5, label=pop2)\n",
    "ax[0].set_title(\"sample_qc.n_het\")\n",
    "ax[0].legend(loc='upper left')\n",
    "\n",
    "ax[1].axis([200,400,0,1000])\n",
    "ax[1].hist(df1['sample_qc.n_het'], alpha=0.5, label=pop1)\n",
    "ax[1].hist(df2['sample_qc.n_het'], alpha=0.5, label=pop2)\n",
    "ax[1].set_title(\"sample_qc.n_het\")\n",
    "ax[1].legend(loc='upper left')"
   ]
  },
  {
   "cell_type": "code",
   "execution_count": 94,
   "metadata": {},
   "outputs": [
    {
     "name": "stdout",
     "output_type": "stream",
     "text": [
      "British ks test vs Other White\n",
      "Ks_2sampResult(statistic=0.024421280054916783, pvalue=0.3882100799567063)\n"
     ]
    },
    {
     "data": {
      "text/plain": [
       "<matplotlib.legend.Legend at 0x7fc32b9c8ac8>"
      ]
     },
     "execution_count": 94,
     "metadata": {},
     "output_type": "execute_result"
    },
    {
     "data": {
      "image/png": "[encoded data removed]",
      "text/plain": [
       "<Figure size 864x504 with 2 Axes>"
      ]
     },
     "metadata": {
      "needs_background": "light"
     },
     "output_type": "display_data"
    }
   ],
   "source": [
    "df_other_white=df.loc[df['assigned_pop']==\"Any other white background\"]\n",
    "\n",
    "pop1=\"British\"\n",
    "pop2=\"Other White\"\n",
    "df1=df_british\n",
    "df2=df_other_white\n",
    "print(f\"{pop1} ks test vs {pop2}\")\n",
    "print(stats.ks_2samp(df1['sample_qc.n_het'], df2['sample_qc.n_het']))\n",
    "\n",
    "fig, ax = plt.subplots(1, 2, sharex=False, sharey=False, figsize=(12,7))\n",
    "ax = ax.ravel() \n",
    "#ax[0].autoscale(True)\n",
    "\n",
    "ax[0].hist(df1['sample_qc.n_het'], alpha=0.5, label=pop1)\n",
    "ax[0].hist(df2['sample_qc.n_het'], alpha=0.5, label=pop2)\n",
    "ax[0].set_title(\"sample_qc.n_het\")\n",
    "ax[0].legend(loc='upper left')\n",
    "\n",
    "ax[1].axis([200,400,0,1000])\n",
    "ax[1].hist(df1['sample_qc.n_het'], alpha=0.5, label=pop1)\n",
    "ax[1].hist(df2['sample_qc.n_het'], alpha=0.5, label=pop2)\n",
    "ax[1].set_title(\"sample_qc.n_het\")\n",
    "ax[1].legend(loc='upper left')"
   ]
  },
  {
   "cell_type": "code",
   "execution_count": 96,
   "metadata": {},
   "outputs": [
    {
     "name": "stdout",
     "output_type": "stream",
     "text": [
      "Caribbean ks test vs African\n",
      "Ks_2sampResult(statistic=0.3329681952103951, pvalue=3.231307455543113e-25)\n"
     ]
    },
    {
     "data": {
      "text/plain": [
       "<matplotlib.legend.Legend at 0x7fc32c503748>"
      ]
     },
     "execution_count": 96,
     "metadata": {},
     "output_type": "execute_result"
    },
    {
     "data": {
      "image/png": "[encoded data removed]",
      "text/plain": [
       "<Figure size 864x504 with 2 Axes>"
      ]
     },
     "metadata": {
      "needs_background": "light"
     },
     "output_type": "display_data"
    }
   ],
   "source": [
    "#Caribbean vs African\n",
    "\n",
    "pop1=\"Caribbean\"\n",
    "pop2=\"African\"\n",
    "df1=df_caribbean\n",
    "df2=df_african\n",
    "print(f\"{pop1} ks test vs {pop2}\")\n",
    "print(stats.ks_2samp(df1['sample_qc.n_het'], df2['sample_qc.n_het']))\n",
    "\n",
    "fig, ax = plt.subplots(1, 2, sharex=False, sharey=False, figsize=(12,7))\n",
    "ax = ax.ravel() \n",
    "#ax[0].autoscale(True)\n",
    "\n",
    "ax[0].hist(df1['sample_qc.n_het'], alpha=0.5, label=pop1)\n",
    "ax[0].hist(df2['sample_qc.n_het'], alpha=0.5, label=pop2)\n",
    "ax[0].set_title(\"sample_qc.n_het\")\n",
    "ax[0].legend(loc='upper left')\n",
    "\n",
    "ax[1].axis([200,400,0,1000])\n",
    "ax[1].hist(df1['sample_qc.n_het'], alpha=0.5, label=pop1)\n",
    "ax[1].hist(df2['sample_qc.n_het'], alpha=0.5, label=pop2)\n",
    "ax[1].set_title(\"sample_qc.n_het\")\n",
    "ax[1].legend(loc='upper left')"
   ]
  },
  {
   "cell_type": "code",
   "execution_count": 97,
   "metadata": {},
   "outputs": [
    {
     "name": "stdout",
     "output_type": "stream",
     "text": [
      "Indian ks test vs Pakistani\n",
      "Ks_2sampResult(statistic=0.33231188930472744, pvalue=8.274369489515212e-51)\n"
     ]
    },
    {
     "data": {
      "text/plain": [
       "<matplotlib.legend.Legend at 0x7fc32c476a58>"
      ]
     },
     "execution_count": 97,
     "metadata": {},
     "output_type": "execute_result"
    },
    {
     "data": {
      "image/png": "[encoded data removed]",
      "text/plain": [
       "<Figure size 864x504 with 2 Axes>"
      ]
     },
     "metadata": {
      "needs_background": "light"
     },
     "output_type": "display_data"
    }
   ],
   "source": [
    "#Indian vs Pakistani \n",
    "pop1=\"Indian\"\n",
    "pop2=\"Pakistani\"\n",
    "df1=df_indian\n",
    "df2=df_pakistani\n",
    "print(f\"{pop1} ks test vs {pop2}\")\n",
    "print(stats.ks_2samp(df1['sample_qc.n_het'], df2['sample_qc.n_het']))\n",
    "\n",
    "fig, ax = plt.subplots(1, 2, sharex=False, sharey=False, figsize=(12,7))\n",
    "ax = ax.ravel() \n",
    "#ax[0].autoscale(True)\n",
    "\n",
    "ax[0].hist(df1['sample_qc.n_het'], alpha=0.5, label=pop1)\n",
    "ax[0].hist(df2['sample_qc.n_het'], alpha=0.5, label=pop2)\n",
    "ax[0].set_title(\"sample_qc.n_het\")\n",
    "ax[0].legend(loc='upper left')\n",
    "\n",
    "ax[1].axis([200,400,0,1000])\n",
    "ax[1].hist(df1['sample_qc.n_het'], alpha=0.5, label=pop1)\n",
    "ax[1].hist(df2['sample_qc.n_het'], alpha=0.5, label=pop2)\n",
    "ax[1].set_title(\"sample_qc.n_het\")\n",
    "ax[1].legend(loc='upper left')\n"
   ]
  },
  {
   "cell_type": "code",
   "execution_count": 98,
   "metadata": {},
   "outputs": [
    {
     "name": "stdout",
     "output_type": "stream",
     "text": [
      "Indian ks test vs Bangladeshi\n",
      "Ks_2sampResult(statistic=0.3638943669048802, pvalue=6.87000335253049e-53)\n"
     ]
    },
    {
     "data": {
      "text/plain": [
       "<matplotlib.legend.Legend at 0x7fc3316016d8>"
      ]
     },
     "execution_count": 98,
     "metadata": {},
     "output_type": "execute_result"
    },
    {
     "data": {
      "image/png": "[encoded data removed]",
      "text/plain": [
       "<Figure size 864x504 with 2 Axes>"
      ]
     },
     "metadata": {
      "needs_background": "light"
     },
     "output_type": "display_data"
    }
   ],
   "source": [
    "# Indian vs Bangladeshi\n",
    "pop1=\"Indian\"\n",
    "pop2=\"Bangladeshi\"\n",
    "df1=df_indian\n",
    "df2=df_bangladeshi\n",
    "print(f\"{pop1} ks test vs {pop2}\")\n",
    "print(stats.ks_2samp(df1['sample_qc.n_het'], df2['sample_qc.n_het']))\n",
    "\n",
    "fig, ax = plt.subplots(1, 2, sharex=False, sharey=False, figsize=(12,7))\n",
    "ax = ax.ravel() \n",
    "#ax[0].autoscale(True)\n",
    "\n",
    "ax[0].hist(df1['sample_qc.n_het'], alpha=0.5, label=pop1)\n",
    "ax[0].hist(df2['sample_qc.n_het'], alpha=0.5, label=pop2)\n",
    "ax[0].set_title(\"sample_qc.n_het\")\n",
    "ax[0].legend(loc='upper left')\n",
    "\n",
    "ax[1].axis([200,400,0,1000])\n",
    "ax[1].hist(df1['sample_qc.n_het'], alpha=0.5, label=pop1)\n",
    "ax[1].hist(df2['sample_qc.n_het'], alpha=0.5, label=pop2)\n",
    "ax[1].set_title(\"sample_qc.n_het\")\n",
    "ax[1].legend(loc='upper left')"
   ]
  },
  {
   "cell_type": "code",
   "execution_count": 99,
   "metadata": {},
   "outputs": [
    {
     "name": "stdout",
     "output_type": "stream",
     "text": [
      "Pakistani ks test vs Bangladeshi\n",
      "Ks_2sampResult(statistic=0.06488806545309875, pvalue=1.0)\n"
     ]
    },
    {
     "data": {
      "text/plain": [
       "<matplotlib.legend.Legend at 0x7fc32c12e438>"
      ]
     },
     "execution_count": 99,
     "metadata": {},
     "output_type": "execute_result"
    },
    {
     "data": {
      "image/png": "[encoded data removed]",
      "text/plain": [
       "<Figure size 864x504 with 2 Axes>"
      ]
     },
     "metadata": {
      "needs_background": "light"
     },
     "output_type": "display_data"
    }
   ],
   "source": [
    "#Pakistani vs Bangladeshi\n",
    "pop1=\"Pakistani\"\n",
    "pop2=\"Bangladeshi\"\n",
    "df1=df_pakistani\n",
    "df2=df_bangladeshi\n",
    "print(f\"{pop1} ks test vs {pop2}\")\n",
    "print(stats.ks_2samp(df1['sample_qc.n_het'], df2['sample_qc.n_het']))\n",
    "\n",
    "fig, ax = plt.subplots(1, 2, sharex=False, sharey=False, figsize=(12,7))\n",
    "ax = ax.ravel() \n",
    "#ax[0].autoscale(True)\n",
    "\n",
    "ax[0].hist(df1['sample_qc.n_het'], alpha=0.5, label=pop1)\n",
    "ax[0].hist(df2['sample_qc.n_het'], alpha=0.5, label=pop2)\n",
    "ax[0].set_title(\"sample_qc.n_het\")\n",
    "ax[0].legend(loc='upper left')\n",
    "\n",
    "ax[1].axis([200,400,0,1000])\n",
    "ax[1].hist(df1['sample_qc.n_het'], alpha=0.5, label=pop1)\n",
    "ax[1].hist(df2['sample_qc.n_het'], alpha=0.5, label=pop2)\n",
    "ax[1].set_title(\"sample_qc.n_het\")\n",
    "ax[1].legend(loc='upper left')"
   ]
  },
  {
   "cell_type": "code",
   "execution_count": 109,
   "metadata": {},
   "outputs": [],
   "source": [
    "#check Pakistani_UKBB vs Pakistani_ELGH and Bangladeshi_UKBB vs Bangladeshi_ELGH\n",
    "df_pakistani_ukbb=df.loc[(df['known_pop']==\"Pakistani\") & (df['cohort']==\"UKBB\")]\n",
    "df_bangladeshi_ukbb=df.loc[(df['known_pop']==\"Bangladeshi\") & (df['cohort']==\"UKBB\")]\n",
    "df_elgh=df.loc[(df['cohort']==\"ELGH_part1\") | (df['cohort']==\"ELGH_part3\") | (df['cohort']==\"ELGH_part4\") |(df['cohort']==\"ELGH_part5\")]\n",
    "df_pakistani_elgh=df_elgh.loc[(df_elgh['known_pop']==\"Pakistani\")]\n",
    "df_bangladeshi_elgh=df_elgh.loc[(df_elgh['known_pop']==\"Bangladeshi\")]\n"
   ]
  },
  {
   "cell_type": "code",
   "execution_count": 115,
   "metadata": {},
   "outputs": [
    {
     "name": "stdout",
     "output_type": "stream",
     "text": [
      "Pakistani UKBB ks test vs Pakistani ELGH\n",
      "Ks_2sampResult(statistic=0.42089371980676327, pvalue=1.2212453270876722e-15)\n"
     ]
    },
    {
     "data": {
      "text/plain": [
       "<matplotlib.legend.Legend at 0x7fc32b889cf8>"
      ]
     },
     "execution_count": 115,
     "metadata": {},
     "output_type": "execute_result"
    },
    {
     "data": {
      "image/png": "[encoded data removed]",
      "text/plain": [
       "<Figure size 864x504 with 2 Axes>"
      ]
     },
     "metadata": {
      "needs_background": "light"
     },
     "output_type": "display_data"
    }
   ],
   "source": [
    "#Pakistani UKBB vs Pakistani ELGH\n",
    "pop1=\"Pakistani UKBB\"\n",
    "pop2=\"Pakistani ELGH\"\n",
    "df1=df_pakistani_ukbb\n",
    "df2=df_pakistani_elgh\n",
    "print(f\"{pop1} ks test vs {pop2}\")\n",
    "print(stats.ks_2samp(df1['sample_qc.n_het'], df2['sample_qc.n_het']))\n",
    "\n",
    "fig, ax = plt.subplots(1, 2, sharex=False, sharey=False, figsize=(12,7))\n",
    "ax = ax.ravel() \n",
    "#ax[0].autoscale(True)\n",
    "\n",
    "ax[0].hist(df1['sample_qc.n_het'], alpha=0.5, label=pop1)\n",
    "ax[0].hist(df2['sample_qc.n_het'], alpha=0.5, label=pop2)\n",
    "ax[0].set_title(\"sample_qc.n_het\")\n",
    "ax[0].legend(loc='upper left')\n",
    "\n",
    "ax[1].axis([200,400,0,200])\n",
    "ax[1].hist(df1['sample_qc.n_het'], alpha=0.5, label=pop1)\n",
    "ax[1].hist(df2['sample_qc.n_het'], alpha=0.5, label=pop2)\n",
    "ax[1].set_title(\"sample_qc.n_het\")\n",
    "ax[1].legend(loc='upper left')"
   ]
  },
  {
   "cell_type": "code",
   "execution_count": 114,
   "metadata": {},
   "outputs": [
    {
     "name": "stdout",
     "output_type": "stream",
     "text": [
      "Bangladeshi UKBB ks test vs Bangladeshi ELGH\n",
      "Ks_2sampResult(statistic=0.510365929811415, pvalue=0.00013588292142285852)\n"
     ]
    },
    {
     "data": {
      "text/plain": [
       "<matplotlib.legend.Legend at 0x7fc32ba489b0>"
      ]
     },
     "execution_count": 114,
     "metadata": {},
     "output_type": "execute_result"
    },
    {
     "data": {
      "image/png": "[encoded data removed]",
      "text/plain": [
       "<Figure size 864x504 with 2 Axes>"
      ]
     },
     "metadata": {
      "needs_background": "light"
     },
     "output_type": "display_data"
    }
   ],
   "source": [
    "#Bangladeshi UKBB vs Bangladeshi ELGH\n",
    "pop1=\"Bangladeshi UKBB\"\n",
    "pop2=\"Bangladeshi ELGH\"\n",
    "df1=df_bangladeshi_ukbb\n",
    "df2=df_bangladeshi_elgh\n",
    "print(f\"{pop1} ks test vs {pop2}\")\n",
    "print(stats.ks_2samp(df1['sample_qc.n_het'], df2['sample_qc.n_het']))\n",
    "\n",
    "fig, ax = plt.subplots(1, 2, sharex=False, sharey=False, figsize=(12,7))\n",
    "ax = ax.ravel() \n",
    "#ax[0].autoscale(True)\n",
    "\n",
    "ax[0].hist(df1['sample_qc.n_het'], alpha=0.5, label=pop1)\n",
    "ax[0].hist(df2['sample_qc.n_het'], alpha=0.5, label=pop2)\n",
    "ax[0].set_title(\"sample_qc.n_het\")\n",
    "ax[0].legend(loc='upper left')\n",
    "\n",
    "ax[1].axis([200,400,0,10])\n",
    "ax[1].hist(df1['sample_qc.n_het'], alpha=0.5, label=pop1)\n",
    "ax[1].hist(df2['sample_qc.n_het'], alpha=0.5, label=pop2)\n",
    "ax[1].set_title(\"sample_qc.n_het\")\n",
    "ax[1].legend(loc='upper left')"
   ]
  },
  {
   "cell_type": "code",
   "execution_count": null,
   "metadata": {},
   "outputs": [],
   "source": []
  },
  {
   "cell_type": "code",
   "execution_count": null,
   "metadata": {},
   "outputs": [],
   "source": []
  },
  {
   "cell_type": "code",
   "execution_count": null,
   "metadata": {},
   "outputs": [],
   "source": []
  },
  {
   "cell_type": "code",
   "execution_count": null,
   "metadata": {},
   "outputs": [],
   "source": []
  },
  {
   "cell_type": "code",
   "execution_count": null,
   "metadata": {},
   "outputs": [],
   "source": []
  },
  {
   "cell_type": "code",
   "execution_count": null,
   "metadata": {},
   "outputs": [],
   "source": []
  },
  {
   "cell_type": "code",
   "execution_count": null,
   "metadata": {},
   "outputs": [],
   "source": []
  },
  {
   "cell_type": "code",
   "execution_count": null,
   "metadata": {},
   "outputs": [],
   "source": []
  },
  {
   "cell_type": "code",
   "execution_count": null,
   "metadata": {},
   "outputs": [],
   "source": []
  },
  {
   "cell_type": "code",
   "execution_count": null,
   "metadata": {},
   "outputs": [],
   "source": []
  },
  {
   "cell_type": "code",
   "execution_count": null,
   "metadata": {},
   "outputs": [],
   "source": []
  },
  {
   "cell_type": "code",
   "execution_count": null,
   "metadata": {},
   "outputs": [],
   "source": []
  },
  {
   "cell_type": "code",
   "execution_count": null,
   "metadata": {},
   "outputs": [],
   "source": []
  },
  {
   "cell_type": "code",
   "execution_count": null,
   "metadata": {},
   "outputs": [],
   "source": []
  },
  {
   "cell_type": "code",
   "execution_count": null,
   "metadata": {},
   "outputs": [],
   "source": [
    "#"
   ]
  },
  {
   "cell_type": "code",
   "execution_count": 10,
   "metadata": {},
   "outputs": [
    {
     "data": {
      "text/plain": [
       "UKBB                49730\n",
       "DDD                 32338\n",
       "BiB_part1            2311\n",
       "UK_10K_CHD           2042\n",
       "ELGH_part1           1652\n",
       "ELGH_part5           1468\n",
       "ELGH_part3           1088\n",
       "ELGH_part4           1067\n",
       "Birmingham_part1     1061\n",
       "BiB_part2             473\n",
       "Birmingham_part2      444\n",
       "Name: cohort, dtype: int64"
      ]
     },
     "execution_count": 10,
     "metadata": {},
     "output_type": "execute_result"
    }
   ],
   "source": [
    "#\n",
    "df.cohort.value_counts()"
   ]
  },
  {
   "cell_type": "code",
   "execution_count": 113,
   "metadata": {},
   "outputs": [
    {
     "data": {
      "text/plain": [
       "array([<AxesSubplot:title={'center':'sample_qc.n_het'}>], dtype=object)"
      ]
     },
     "execution_count": 113,
     "metadata": {},
     "output_type": "execute_result"
    },
    {
     "data": {
      "image/png": "[encoded data removed]",
      "text/plain": [
       "<Figure size 432x288 with 1 Axes>"
      ]
     },
     "metadata": {
      "needs_background": "light"
     },
     "output_type": "display_data"
    },
    {
     "data": {
      "image/png": "[encoded data removed]",
      "text/plain": [
       "<Figure size 432x288 with 1 Axes>"
      ]
     },
     "metadata": {
      "needs_background": "light"
     },
     "output_type": "display_data"
    }
   ],
   "source": [
    "#stats.ks_2samp(df_british['sample_qc.n_het'], df_irish['sample_qc.n_het'])\n",
    "#plt.style.use('seaborn-deep')\n",
    "#df_british.plot.hist(by='sample_qc.n_het', legend='British n_het', title='British n_het')\n",
    "#hist1= df_british.hist(column='sample_qc.n_het')\n",
    "#hist2= df_irish.hist(column='sample_qc.n_het')\n",
    "#_, bins, _ = plt.hist(df_irish['sample_qc.n_het'], bins=10)\n",
    "#plt.axis([5000,15000,0,1000])\n",
    "#plt.hist([df_british['sample_qc.n_het'], df_irish['sample_qc.n_het']], label=['x', 'y'])\n",
    "fig = plt.figure()\n",
    "df_british.columns.name = 'Type'\n",
    "ax = fig.add_subplot(111)\n",
    "\n",
    "ax.set(xlabel='n_het')\n",
    "df_british.hist(column='sample_qc.n_het', ax=ax)\n",
    "df_irish.hist(column='sample_qc.n_het', ax=ax)\n",
    "\n",
    "#df_irish['sample_qc.n_het'].plot(kind='hist', ax=ax, color='red')\n",
    "\n",
    "fig = plt.figure()\n",
    "\n",
    "ax = fig.add_subplot(111)\n",
    "ax.axis([5000,15000,0,1000])\n",
    "ax.set_title(\"British and Irish n_het\")\n",
    "df_british.hist(column='sample_qc.n_het', ax=ax)\n",
    "df_irish.hist(column='sample_qc.n_het', ax=ax, color=\"green\", label=\"irish\", xlabelsize=10)\n",
    "#df_british['sample_qc.n_het'].plot.hist( label=\"Duf\", ax=ax)\n",
    "#df_irish['sample_qc.n_het'].plot(kind='hist', label=\"sdas\", ax=ax, color='red')\n",
    "\n",
    "\n"
   ]
  },
  {
   "cell_type": "code",
   "execution_count": null,
   "metadata": {},
   "outputs": [],
   "source": []
  }
 ],
 "metadata": {
  "kernelspec": {
   "display_name": "Python 3",
   "language": "python",
   "name": "python3"
  },
  "language_info": {
   "codemirror_mode": {
    "name": "ipython",
    "version": 3
   },
   "file_extension": ".py",
   "mimetype": "text/x-python",
   "name": "python",
   "nbconvert_exporter": "python",
   "pygments_lexer": "ipython3",
   "version": "3.7.3"
  }
 },
 "nbformat": 4,
 "nbformat_minor": 4
}
