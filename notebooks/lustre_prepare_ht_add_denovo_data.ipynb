{
 "cells": [
  {
   "cell_type": "code",
   "execution_count": 1,
   "id": "a244a248",
   "metadata": {},
   "outputs": [
    {
     "name": "stderr",
     "output_type": "stream",
     "text": [
      "pip-installed Hail requires additional configuration options in Spark referring\n",
      "  to the path to the Hail Python module directory HAIL_DIR,\n",
      "  e.g. /path/to/python/site-packages/hail:\n",
      "    spark.jars=HAIL_DIR/hail-all-spark.jar\n",
      "    spark.driver.extraClassPath=HAIL_DIR/hail-all-spark.jar\n",
      "    spark.executor.extraClassPath=./hail-all-spark.jarRunning on Apache Spark version 2.4.7\n",
      "SparkUI available at http://spark-master:4040\n",
      "Welcome to\n",
      "     __  __     <>__\n",
      "    / /_/ /__  __/ /\n",
      "   / __  / _ `/ / /\n",
      "  /_/ /_/\\_,_/_/_/   version 0.2.62-84fa81b9ea3d\n",
      "LOGGING: writing to /home/ubuntu/data/scripts/exomeQC-hail-gnomad/notebooks/hail-20210601-1303-0.2.62-84fa81b9ea3d.log\n"
     ]
    }
   ],
   "source": [
    "from hail import Table\n",
    "import os\n",
    "import pprint\n",
    "from pprint import pformat\n",
    "import argparse\n",
    "import hail as hl\n",
    "import pandas as pd\n",
    "import numpy as np\n",
    "import pyspark\n",
    "from pprint import pformat\n",
    "import json\n",
    "import sys\n",
    "import re\n",
    "from pathlib import Path\n",
    "import logging\n",
    "from typing import Any, Counter, List, Optional, Tuple, Union, Dict\n",
    "import uuid\n",
    "import json\n",
    "\n",
    "tmp_dir = \"hdfs://spark-master:9820/\"\n",
    "temp_dir = \"file:///home/ubuntu/data/tmp\"\n",
    "#plot_dir = \"/home/ubuntu/data/tmp\"\n",
    "plot_dir=\"/lustre/scratch123/teams/hgi/mercury/megaWES-variantqc\"\n",
    "lustre_dir = \"file:///lustre/scratch123/teams/hgi/mercury/megaWES-variantqc\"\n",
    "\n",
    "sc = pyspark.SparkContext()\n",
    "hadoop_config = sc._jsc.hadoopConfiguration()\n",
    "hadoop_config.set(\"fs.s3a.access.key\", \"8YY584J59H7Q6AVKHSU8\")\n",
    "hadoop_config.set(\"fs.s3a.secret.key\", \"P8vePa7JUvxKXX2me9ti1cGujgYWMoimAwx4mMlM\")\n",
    "hadoop_config.set(\"fs.gs.impl\", \"com.google.cloud.hadoop.fs.gcs.GoogleHadoopFileSystem\")\n",
    "hadoop_config.set(\"fs.AbstractFileSystem.gs.impl\", \"com.google.cloud.hadoop.fs.gcs.GoogleHadoopFS\")\n",
    "hl.init(sc=sc, tmp_dir=lustre_dir, local_tmpdir=lustre_dir, default_reference=\"GRCh38\")\n",
    "\n"
   ]
  },
  {
   "cell_type": "code",
   "execution_count": 2,
   "id": "752e00a3",
   "metadata": {},
   "outputs": [],
   "source": [
    "run_hash=\"94f5cc00\"\n",
    "\n",
    "ht=hl.read_table(f'{lustre_dir}/variant_qc/models/{run_hash}/rf_result_sanger_cohorts_new_SYNONYMOUS.ht')\n",
    "de_novo=hl.read_table(f'{lustre_dir}/Sanger_cohort_denovo_table.ht')\n",
    "family_stats=hl.read_table(f'{lustre_dir}/variant_qc/Sanger_cohorts_family_stats.ht')"
   ]
  },
  {
   "cell_type": "code",
   "execution_count": 3,
   "id": "25229494",
   "metadata": {},
   "outputs": [
    {
     "name": "stdout",
     "output_type": "stream",
     "text": [
      "----------------------------------------\n",
      "Global fields:\n",
      "    None\n",
      "----------------------------------------\n",
      "Row fields:\n",
      "    's': str \n",
      "    'fam_id': str \n",
      "    'errors': int64 \n",
      "    'snp_errors': int64 \n",
      "----------------------------------------\n",
      "Key: ['s']\n",
      "----------------------------------------\n"
     ]
    }
   ],
   "source": [
    "family_stats.describe()"
   ]
  },
  {
   "cell_type": "code",
   "execution_count": 4,
   "id": "08e431fd",
   "metadata": {},
   "outputs": [],
   "source": [
    "ht=ht.annotate(de_novo_data=de_novo[ht.key].de_novo_data)\n",
    "\n"
   ]
  },
  {
   "cell_type": "code",
   "execution_count": 5,
   "id": "ce579de3",
   "metadata": {},
   "outputs": [
    {
     "name": "stderr",
     "output_type": "stream",
     "text": [
      "2021-06-01 11:04:28 Hail: INFO: wrote table with 28008043 rows in 487 partitions to file:///lustre/scratch123/teams/hgi/mercury/megaWES-variantqc/variant_qc/models/94f5cc00/rf_result_sanger_cohorts_new_SYNONYMOUS_denovo.ht\n",
      "    Total size: 3.11 GiB\n",
      "    * Rows: 3.11 GiB\n",
      "    * Globals: 292.00 B\n",
      "    * Smallest partition: 10484 rows (1.25 MiB)\n",
      "    * Largest partition:  58824 rows (7.68 MiB)\n"
     ]
    }
   ],
   "source": [
    "ht.write(f'{lustre_dir}/variant_qc/models/{run_hash}/rf_result_sanger_cohorts_new_SYNONYMOUS_denovo.ht')"
   ]
  },
  {
   "cell_type": "code",
   "execution_count": 7,
   "id": "f9bfaa81",
   "metadata": {},
   "outputs": [],
   "source": [
    "de_novo_table = de_novo_table.key_by(\n",
    "        'locus', 'alleles').collect_by_key('de_novo_data')"
   ]
  },
  {
   "cell_type": "code",
   "execution_count": 21,
   "id": "197280c0",
   "metadata": {},
   "outputs": [],
   "source": [
    "ht=hl.read_table(f'{lustre_dir}/variant_qc/models/{run_hash}/rf_result_sanger_cohorts_new_SYNONYMOUS_denovo.ht')"
   ]
  },
  {
   "cell_type": "code",
   "execution_count": 23,
   "id": "c1a4ca00",
   "metadata": {},
   "outputs": [],
   "source": [
    "ht_fs=hl.read_table(f'{lustre_dir}/variant_qc/Sanger_cohorts_family_stats.ht')"
   ]
  },
  {
   "cell_type": "code",
   "execution_count": 24,
   "id": "ff872853",
   "metadata": {},
   "outputs": [
    {
     "name": "stdout",
     "output_type": "stream",
     "text": [
      "----------------------------------------\n",
      "Global fields:\n",
      "    None\n",
      "----------------------------------------\n",
      "Row fields:\n",
      "    'locus': locus<GRCh38> \n",
      "    'alleles': array<str> \n",
      "    'family_stats': array<struct {\n",
      "        mendel: struct {\n",
      "            errors: int64\n",
      "        }, \n",
      "        tdt: struct {\n",
      "            t: int64, \n",
      "            u: int64, \n",
      "            chi_sq: float64, \n",
      "            p_value: float64\n",
      "        }, \n",
      "        unrelated_qc_callstats: struct {\n",
      "            AC: array<int32>, \n",
      "            AF: array<float64>, \n",
      "            AN: int32, \n",
      "            homozygote_count: array<int32>\n",
      "        }, \n",
      "        meta: dict<str, str>\n",
      "    }> \n",
      "----------------------------------------\n",
      "Key: ['locus', 'alleles']\n",
      "----------------------------------------\n"
     ]
    }
   ],
   "source": [
    "ht_fs.describe()"
   ]
  },
  {
   "cell_type": "code",
   "execution_count": 25,
   "id": "f47c52df",
   "metadata": {},
   "outputs": [],
   "source": [
    "ht=ht.annotate(family_stats=ht_fs[ht.key].family_stats)"
   ]
  },
  {
   "cell_type": "code",
   "execution_count": 27,
   "id": "e4a64127",
   "metadata": {},
   "outputs": [
    {
     "name": "stderr",
     "output_type": "stream",
     "text": [
      "2021-06-01 13:28:35 Hail: INFO: wrote table with 28008043 rows in 487 partitions to file:///lustre/scratch123/teams/hgi/mercury/megaWES-variantqc/variant_qc/models/94f5cc00/rf_result_sanger_cohorts_new_SYNONYMOUS_denovo_family_stats.ht\n",
      "    Total size: 3.45 GiB\n",
      "    * Rows: 3.45 GiB\n",
      "    * Globals: 292.00 B\n",
      "    * Smallest partition: 10484 rows (1.25 MiB)\n",
      "    * Largest partition:  58824 rows (9.52 MiB)\n",
      "2021-06-01 13:28:35 Hail: INFO: wrote table with 28008043 rows in 487 partitions to file:///lustre/scratch123/teams/hgi/mercury/megaWES-variantqc/variant_qc/models/94f5cc00_rf_result_sanger_cohorts_new_SYNONYMOUS_denovo_family_stats.ht\n",
      "    Total size: 3.45 GiB\n",
      "    * Rows: 3.45 GiB\n",
      "    * Globals: 292.00 B\n",
      "    * Smallest partition: 10484 rows (1.25 MiB)\n",
      "    * Largest partition:  58824 rows (9.52 MiB)\n"
     ]
    }
   ],
   "source": [
    "ht.write(f'{lustre_dir}/variant_qc/models/{run_hash}_rf_result_sanger_cohorts_new_SYNONYMOUS_denovo_family_stats.ht')"
   ]
  },
  {
   "cell_type": "code",
   "execution_count": 28,
   "id": "8ade50cb",
   "metadata": {},
   "outputs": [],
   "source": [
    "ht=hl.read_table(f'{lustre_dir}/variant_qc/models/{run_hash}_rf_result_sanger_cohorts_new_SYNONYMOUS_denovo_family_stats.ht')"
   ]
  },
  {
   "cell_type": "code",
   "execution_count": 29,
   "id": "7fd6f8a1",
   "metadata": {},
   "outputs": [
    {
     "name": "stdout",
     "output_type": "stream",
     "text": [
      "----------------------------------------\n",
      "Global fields:\n",
      "    'features_importance': dict<str, float64> \n",
      "    'features': array<str> \n",
      "    'test_results': array<struct {\n",
      "        rf_prediction: str, \n",
      "        rf_label: str, \n",
      "        n: int32\n",
      "    }> \n",
      "    'rf_hash': str \n",
      "----------------------------------------\n",
      "Row fields:\n",
      "    'locus': locus<GRCh38> \n",
      "    'alleles': array<str> \n",
      "    'rsid': str \n",
      "    'qual': float64 \n",
      "    'filters': set<str> \n",
      "    'a_index': int32 \n",
      "    'was_split': bool \n",
      "    'AC': array<int32> \n",
      "    'AF': array<float64> \n",
      "    'AN': int32 \n",
      "    'AS_BaseQRankSum': array<float64> \n",
      "    'AS_FS': array<float64> \n",
      "    'AS_InbreedingCoeff': array<float64> \n",
      "    'AS_MQ': array<float64> \n",
      "    'AS_MQRankSum': array<float64> \n",
      "    'AS_QD': array<float64> \n",
      "    'AS_ReadPosRankSum': array<float64> \n",
      "    'AS_SOR': array<float64> \n",
      "    'BaseQRankSum': float64 \n",
      "    'DB': bool \n",
      "    'DP': int32 \n",
      "    'DS': bool \n",
      "    'END': int32 \n",
      "    'ExcessHet': float64 \n",
      "    'FS': float64 \n",
      "    'InbreedingCoeff': float32 \n",
      "    'MLEAC': array<int32> \n",
      "    'MLEAF': array<float64> \n",
      "    'MQ': float64 \n",
      "    'MQRankSum': float64 \n",
      "    'QD': float64 \n",
      "    'RAW_MQandDP': array<int32> \n",
      "    'ReadPosRankSum': float64 \n",
      "    'SOR': float64 \n",
      "    'info': struct {\n",
      "        AC: array<int32>, \n",
      "        AF: array<float64>, \n",
      "        AN: int32, \n",
      "        AS_BaseQRankSum: array<float64>, \n",
      "        AS_FS: array<float64>, \n",
      "        AS_InbreedingCoeff: array<float64>, \n",
      "        AS_MQ: array<float64>, \n",
      "        AS_MQRankSum: array<float64>, \n",
      "        AS_QD: array<float64>, \n",
      "        AS_ReadPosRankSum: array<float64>, \n",
      "        AS_SOR: array<float64>, \n",
      "        BaseQRankSum: float64, \n",
      "        DB: bool, \n",
      "        DP: int32, \n",
      "        DS: bool, \n",
      "        END: int32, \n",
      "        ExcessHet: float64, \n",
      "        FS: float64, \n",
      "        InbreedingCoeff: float64, \n",
      "        MLEAC: array<int32>, \n",
      "        MLEAF: array<float64>, \n",
      "        MQ: float64, \n",
      "        MQRankSum: float64, \n",
      "        QD: float64, \n",
      "        RAW_MQandDP: array<int32>, \n",
      "        ReadPosRankSum: float64, \n",
      "        SOR: float64\n",
      "    } \n",
      "    'n_transmitted_raw': int64 \n",
      "    'ac_children_raw': int64 \n",
      "    'hapmap': bool \n",
      "    'omni': bool \n",
      "    'kgp_phase1_hc': bool \n",
      "    'mills': bool \n",
      "    'nonsplit_alleles': array<str> \n",
      "    'has_star': bool \n",
      "    'variant_type': str \n",
      "    'n_alt_alleles': int32 \n",
      "    'allele_type': str \n",
      "    'was_mixed': bool \n",
      "    'ac_qc_samples_raw': int64 \n",
      "    'ac_qc_samples_adj': int64 \n",
      "    'fail_hard_filters': bool \n",
      "    'ac_raw': int64 \n",
      "    'transmitted_singleton': bool \n",
      "    'tp': bool \n",
      "    'fp': bool \n",
      "    'rf_train': bool \n",
      "    'rf_label': str \n",
      "    'rf_test': bool \n",
      "    'rf_probability': dict<str, float64> \n",
      "    'rf_prediction': str \n",
      "    'consequence': str \n",
      "    'de_novo_data': array<struct {\n",
      "        id: str, \n",
      "        prior: float64, \n",
      "        proband: struct {\n",
      "            s: str, \n",
      "            cohort: str\n",
      "        }, \n",
      "        father: struct {\n",
      "            s: str, \n",
      "            cohort: str\n",
      "        }, \n",
      "        mother: struct {\n",
      "            s: str, \n",
      "            cohort: str\n",
      "        }, \n",
      "        proband_entry: struct {\n",
      "            AD: array<int32>, \n",
      "            DP: int32, \n",
      "            GQ: int32, \n",
      "            GT: call, \n",
      "            MIN_DP: int32, \n",
      "            PGT: call, \n",
      "            PID: str, \n",
      "            PL: array<int32>, \n",
      "            PS: int32, \n",
      "            RGQ: int32, \n",
      "            SB: array<int32>\n",
      "        }, \n",
      "        father_entry: struct {\n",
      "            AD: array<int32>, \n",
      "            DP: int32, \n",
      "            GQ: int32, \n",
      "            GT: call, \n",
      "            MIN_DP: int32, \n",
      "            PGT: call, \n",
      "            PID: str, \n",
      "            PL: array<int32>, \n",
      "            PS: int32, \n",
      "            RGQ: int32, \n",
      "            SB: array<int32>\n",
      "        }, \n",
      "        mother_entry: struct {\n",
      "            AD: array<int32>, \n",
      "            DP: int32, \n",
      "            GQ: int32, \n",
      "            GT: call, \n",
      "            MIN_DP: int32, \n",
      "            PGT: call, \n",
      "            PID: str, \n",
      "            PL: array<int32>, \n",
      "            PS: int32, \n",
      "            RGQ: int32, \n",
      "            SB: array<int32>\n",
      "        }, \n",
      "        is_female: bool, \n",
      "        p_de_novo: float64, \n",
      "        confidence: str\n",
      "    }> \n",
      "    'family_stats': array<struct {\n",
      "        mendel: struct {\n",
      "            errors: int64\n",
      "        }, \n",
      "        tdt: struct {\n",
      "            t: int64, \n",
      "            u: int64, \n",
      "            chi_sq: float64, \n",
      "            p_value: float64\n",
      "        }, \n",
      "        unrelated_qc_callstats: struct {\n",
      "            AC: array<int32>, \n",
      "            AF: array<float64>, \n",
      "            AN: int32, \n",
      "            homozygote_count: array<int32>\n",
      "        }, \n",
      "        meta: dict<str, str>\n",
      "    }> \n",
      "----------------------------------------\n",
      "Key: ['locus', 'alleles']\n",
      "----------------------------------------\n"
     ]
    }
   ],
   "source": [
    "ht.describe()"
   ]
  },
  {
   "cell_type": "code",
   "execution_count": null,
   "id": "7aba1592",
   "metadata": {},
   "outputs": [],
   "source": []
  }
 ],
 "metadata": {
  "kernelspec": {
   "display_name": "Python 3",
   "language": "python",
   "name": "python3"
  },
  "language_info": {
   "codemirror_mode": {
    "name": "ipython",
    "version": 3
   },
   "file_extension": ".py",
   "mimetype": "text/x-python",
   "name": "python",
   "nbconvert_exporter": "python",
   "pygments_lexer": "ipython3",
   "version": "3.6.9"
  }
 },
 "nbformat": 4,
 "nbformat_minor": 5
}
